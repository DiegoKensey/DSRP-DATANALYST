{
  "nbformat": 4,
  "nbformat_minor": 0,
  "metadata": {
    "colab": {
      "provenance": [],
      "collapsed_sections": []
    },
    "kernelspec": {
      "name": "python3",
      "display_name": "Python 3"
    },
    "language_info": {
      "name": "python"
    }
  },
  "cells": [
    {
      "cell_type": "markdown",
      "source": [
        "\n",
        "\n",
        "---\n",
        "<img src=\"https://drive.google.com/uc?export=view&id=1JCDDTcxG2ez_sXTKSulwpZbgQPud9yba\" height=320 width = 410>\n",
        "\n",
        "---"
      ],
      "metadata": {
        "id": "DP4Ec91lekWc"
      }
    },
    {
      "cell_type": "markdown",
      "source": [
        "# **INTRODUCCIÓN A PYTHON - PARTE II**"
      ],
      "metadata": {
        "id": "_eAZb26cSm9H"
      }
    },
    {
      "cell_type": "markdown",
      "source": [
        "---\n",
        "![texto alternativo](https://drive.google.com/uc?export=view&id=1bLXz7152P45Ki7ZolHVj02urqVM7N3bL)\n"
      ],
      "metadata": {
        "id": "jP7V63xDRA53"
      }
    },
    {
      "cell_type": "markdown",
      "source": [
        "# **1. Condicionales IF-ELIF-ELSE**\n",
        "La sentencia **if** es una estructura de control que permite evaluar una condición, de ser verdadera se realiza una acción, caso contrario se realiza otra. Se tiene diversos ejemplos, supongamos que deseamos verificar si una persona es mayor de edad por lo que pediremos su DNI y determinaremos su edad. Si la persona es mayor de 18 años determinamos que es mayor de edad, caso contrario (menor de 18) la persona es menor de edad.\n",
        "En Python esto se declara de la siguiente manera:\n",
        "\n",
        "\n",
        "\n",
        "```\n",
        "if   (condición 1):\n",
        "  Realizar acción si la condición1 es verdadera\n",
        "elif (condición 2):\n",
        "  Realizar acción si la condición2 es verdadera\n",
        "else :\n",
        "  Realizar en caso contrario\n",
        "```\n",
        "A continuación veamos un ejemplo\n"
      ],
      "metadata": {
        "id": "yB0YIorQTs2C"
      }
    },
    {
      "cell_type": "code",
      "source": [],
      "metadata": {
        "id": "q1VoUWcYVafT"
      },
      "execution_count": null,
      "outputs": []
    },
    {
      "cell_type": "markdown",
      "source": [
        "* **El condicional if**\n",
        "\n",
        "![texto alternativo](https://drive.google.com/uc?export=view&id=19LEFPXjddA6SWEnepAxtbC2ykdk7axn4)\n",
        "\n",
        "\n",
        "* **La indentación**\n",
        "\n",
        "![texto alternativo](https://drive.google.com/uc?export=view&id=11keD9QcK5p5MaeIPC9ScDAPQJrlS8yVF)"
      ],
      "metadata": {
        "id": "WCN6qI-akrXN"
      }
    },
    {
      "cell_type": "code",
      "source": [
        "#Accesando al servicio de tiempo\n",
        "lluvia = True\n",
        "x = 0\n",
        "\n",
        "if lluvia==True:\n",
        "  print(\"Pelicula\")\n",
        "  x = 1\n",
        "else:\n",
        "  print(\"Playa\")\n",
        "  x = 2\n",
        "\n",
        "print(\"Saliendo del programa.\")\n",
        "print(3+x)"
      ],
      "metadata": {
        "colab": {
          "base_uri": "https://localhost:8080/"
        },
        "id": "lXLaE3SsD7lC",
        "outputId": "9925673d-0216-4ccc-d0b2-da1331fecdd6"
      },
      "execution_count": null,
      "outputs": [
        {
          "output_type": "stream",
          "name": "stdout",
          "text": [
            "Pelicula\n",
            "Saliendo del programa.\n",
            "4\n"
          ]
        }
      ]
    },
    {
      "cell_type": "code",
      "source": [
        "edad = 65\n",
        "# infante, menor de edad, adulto, adulto mayor\n",
        "if edad <=5:\n",
        "  print(\"Infante\")\n",
        "elif edad<18:\n",
        "  print(\"menor de edad\")\n",
        "elif edad<60:\n",
        "  print(\"Adulto\")\n",
        "else:\n",
        "  print(\"Adulto mayor\")"
      ],
      "metadata": {
        "colab": {
          "base_uri": "https://localhost:8080/"
        },
        "id": "ekdqWOykD7ML",
        "outputId": "e4e64676-b03d-4b95-b8cf-45e5c8435bb2"
      },
      "execution_count": null,
      "outputs": [
        {
          "output_type": "stream",
          "name": "stdout",
          "text": [
            "Adulto mayor\n"
          ]
        }
      ]
    },
    {
      "cell_type": "code",
      "source": [],
      "metadata": {
        "id": "s-Td5HryHUrZ"
      },
      "execution_count": null,
      "outputs": []
    },
    {
      "cell_type": "code",
      "source": [],
      "metadata": {
        "id": "dSPWAdJAD6Ee"
      },
      "execution_count": null,
      "outputs": []
    },
    {
      "cell_type": "code",
      "source": [
        "#Determinar si una persona es mayor de edad\n",
        "edad = 10 #Cambiar este valor para que se cumpla la otra condición\n",
        "if edad >= 18:\n",
        "  print('Eres MAYOR de edad')\n",
        "else:\n",
        "  print('Eres MENOR de edad')"
      ],
      "metadata": {
        "colab": {
          "base_uri": "https://localhost:8080/"
        },
        "id": "M73NcrF_g3u8",
        "outputId": "bab6079d-7422-4681-f0cf-dfa2ad28fda8"
      },
      "execution_count": null,
      "outputs": [
        {
          "output_type": "stream",
          "name": "stdout",
          "text": [
            "Eres MENOR de edad\n"
          ]
        }
      ]
    },
    {
      "cell_type": "code",
      "source": [
        "# menor de edad, adulto, adulto mayor (60)\n",
        "edad = 55\n",
        "if edad < 18:\n",
        "  print(\"Es menor de edad\")\n",
        "elif edad <=60:\n",
        "  print(\"Es adulto\")\n",
        "else:\n",
        "  print(\"Es adulto mayor\")"
      ],
      "metadata": {
        "colab": {
          "base_uri": "https://localhost:8080/"
        },
        "id": "yzASfCCd_a6U",
        "outputId": "f632cc68-1657-4f82-c495-59f8273eced2"
      },
      "execution_count": null,
      "outputs": [
        {
          "output_type": "stream",
          "name": "stdout",
          "text": [
            "Es adulto\n"
          ]
        }
      ]
    },
    {
      "cell_type": "code",
      "source": [
        "temp = 20\n",
        "alerta = False\n",
        "\n",
        "if (temp>=60):\n",
        "  alerta = True\n",
        "\n",
        "print(alerta)"
      ],
      "metadata": {
        "colab": {
          "base_uri": "https://localhost:8080/"
        },
        "id": "f6ASVIe5AYMp",
        "outputId": "5c2c6051-0b33-4210-b5e4-00957dc6f20a"
      },
      "execution_count": null,
      "outputs": [
        {
          "output_type": "stream",
          "name": "stdout",
          "text": [
            "False\n"
          ]
        }
      ]
    },
    {
      "cell_type": "markdown",
      "source": [
        "La condición a evaluar implica el uso de operadores de comparación y operadores lógicos:\n",
        "\n",
        "**Operadores de comparación**\n",
        "\n",
        "| Operador | Descripción | Ejemplo |\n",
        "|--|--|--|\n",
        "| > | Mayor que. Determina si un valor es mayor que el otro | a>b |\n",
        "|< | Menor que. Determina si un valor es menor que el otro | a< b |\n",
        "|== | Igual a. Compara si dos cantidades son iguales | a==b |\n",
        "|>=|Mayor o igual. Determina si una cantidad es mayor o igual a otra|a>=b|\n",
        "|<=|Menor igual. Determina si una cantidad es menor o igual a otra|a<=b|\n",
        "|!=|No igual a. Determina si una cantidad es diferente a otra|a!=b|\n",
        "\n",
        "**Operadores lógicos**\n",
        "\n",
        "|Operador|Descripción|Ejemplo|\n",
        "|--|--|--|\n",
        "|and|And. Devuelve verdadero si ambas condiciones son verdaderas| X and Y|\n",
        "|or|Or. Basta que uno sea verdadero para devolver verdadero|X or Y|\n",
        "|not|Not. Realiza la negación de una condición|not X|\n",
        "\n",
        "Las comparaciones no son exclusivas de los valores numéricos, es posible comparar cadenas de caractéres. Como se ve en el siguiente ejemplo:\n"
      ],
      "metadata": {
        "id": "-SFi-xracTX7"
      }
    },
    {
      "cell_type": "code",
      "source": [
        "a = 10\n",
        "b = 20"
      ],
      "metadata": {
        "id": "pYjw5k_0BWva"
      },
      "execution_count": null,
      "outputs": []
    },
    {
      "cell_type": "code",
      "source": [
        "a != b"
      ],
      "metadata": {
        "colab": {
          "base_uri": "https://localhost:8080/"
        },
        "id": "9eXFve75BZrF",
        "outputId": "910cd60c-3e4f-4d62-9c38-1a95a8e2fec9"
      },
      "execution_count": null,
      "outputs": [
        {
          "output_type": "execute_result",
          "data": {
            "text/plain": [
              "False"
            ]
          },
          "metadata": {},
          "execution_count": 25
        }
      ]
    },
    {
      "cell_type": "code",
      "source": [
        "a = b\n",
        "print(a)"
      ],
      "metadata": {
        "colab": {
          "base_uri": "https://localhost:8080/"
        },
        "id": "vM1KymyDBa45",
        "outputId": "b6449bc0-b290-44a7-8bcd-610d5ed67f57"
      },
      "execution_count": null,
      "outputs": [
        {
          "output_type": "stream",
          "name": "stdout",
          "text": [
            "20\n"
          ]
        }
      ]
    },
    {
      "cell_type": "code",
      "source": [
        "#Ejemplo: comprobar si se tiene la contraseña correcta\n",
        "clave_correcta = \"DSRP\"\n",
        "mi_intento = \"Data\"\n",
        "\n",
        "if mi_intento == clave_correcta :\n",
        "  print('Ingreso permitido')\n",
        "else:\n",
        "  print('Error')"
      ],
      "metadata": {
        "colab": {
          "base_uri": "https://localhost:8080/"
        },
        "id": "gXcQS1gOg7tO",
        "outputId": "25ea1671-de42-498e-d40f-10ca70afb634"
      },
      "execution_count": null,
      "outputs": [
        {
          "output_type": "stream",
          "name": "stdout",
          "text": [
            "Error\n"
          ]
        }
      ]
    },
    {
      "cell_type": "code",
      "source": [
        "algebra = 18\n",
        "estadistica = 15\n",
        "\n",
        "# algebra >= 15  y estadistica >=15\n",
        "if algebra >= 15 and estadistica >= 15:\n",
        "  print('Obtiene certificado')\n",
        "else:\n",
        "  print(\"No obtiene certificado\")"
      ],
      "metadata": {
        "colab": {
          "base_uri": "https://localhost:8080/"
        },
        "id": "w1k372MXCQnl",
        "outputId": "5fefd99d-0399-4ada-c1cf-37cfc769abfb"
      },
      "execution_count": null,
      "outputs": [
        {
          "output_type": "stream",
          "name": "stdout",
          "text": [
            "Obtiene certificado\n"
          ]
        }
      ]
    },
    {
      "cell_type": "code",
      "source": [
        "# algebra >= 18   y estadistica >=11\n",
        "# estadistica >= 18 y algebra >=11\n",
        "# algebra >= 14  y estadistica >=14\n",
        "\n",
        "algebra = 16\n",
        "estadistica = 14\n",
        "\n",
        "if algebra >= 18 and estadistica >=11:\n",
        "  print('Obtiene certificado')\n",
        "elif estadistica >= 18 and algebra >=11:\n",
        "  print('Obtiene certificado')\n",
        "elif algebra >= 14 and estadistica >=14:\n",
        "  print('Obtiene certificado')\n",
        "else:\n",
        "  print(\"No obtiene certificado\")\n"
      ],
      "metadata": {
        "colab": {
          "base_uri": "https://localhost:8080/"
        },
        "id": "uxErfV8YiVTD",
        "outputId": "e32b50e1-40fd-4d6a-9122-3e1a594e5b65"
      },
      "execution_count": null,
      "outputs": [
        {
          "output_type": "stream",
          "name": "stdout",
          "text": [
            "Obtiene certificado\n"
          ]
        }
      ]
    },
    {
      "cell_type": "code",
      "source": [
        "#Declarando variables como booleanas\n",
        "perro = True\n",
        "gato = True\n",
        "\n",
        "if perro==True or gato==True:\n",
        "  print('No es posible admitirlo')\n",
        "else:\n",
        "  print('Si puede alquilar el inmueble.')"
      ],
      "metadata": {
        "id": "NqVfqlO7ias1"
      },
      "execution_count": null,
      "outputs": []
    },
    {
      "cell_type": "code",
      "source": [
        "#Declarando variables como booleanas\n",
        "perro = True\n",
        "gato = True\n",
        "\n",
        "if perro == gato == False:\n",
        "  print('Si puede alquilar el inmueble.')\n",
        "else:\n",
        "  print('No es posible admitirlo')"
      ],
      "metadata": {
        "id": "QNb2Sz-DEiss"
      },
      "execution_count": null,
      "outputs": []
    },
    {
      "cell_type": "code",
      "source": [
        "if perro or gato:\n",
        "  print('No es posible admitirlo')\n",
        "else:\n",
        "  print('Si puede alquilar el inmueble.')"
      ],
      "metadata": {
        "colab": {
          "base_uri": "https://localhost:8080/"
        },
        "id": "s5ZwZPpZE32q",
        "outputId": "837af77e-1007-4072-ca30-14aff89a1891"
      },
      "execution_count": null,
      "outputs": [
        {
          "output_type": "stream",
          "name": "stdout",
          "text": [
            "No es posible admitirlo\n"
          ]
        }
      ]
    },
    {
      "cell_type": "code",
      "source": [
        "edad = 22\n",
        "if edad<0 :\n",
        "  print('Edad no válida, no puede ser negativo')\n",
        "elif edad < 18:\n",
        "  print('Usted es menor de edad')\n",
        "else:\n",
        "  print('Usted es mayor de edad') "
      ],
      "metadata": {
        "colab": {
          "base_uri": "https://localhost:8080/"
        },
        "id": "ZziLNHKxkefK",
        "outputId": "aa0174da-9651-45b9-e78e-cd482ccd71c4"
      },
      "execution_count": null,
      "outputs": [
        {
          "output_type": "stream",
          "name": "stdout",
          "text": [
            "Usted es mayor de edad\n"
          ]
        }
      ]
    },
    {
      "cell_type": "code",
      "source": [
        "senhas = [3456, 34, 56, 45]\n",
        "sen_usu = int(input(\"Ingrese la contraseña:\"))\n",
        "resp = sen_usu in senhas\n",
        "intento = 0\n",
        "\n",
        "if resp == True:\n",
        "  print(\"Ingrese al sistema\")\n",
        "else:\n",
        "  print(\"Contraseña incorrecta\")\n",
        "  intento=intento+1\n",
        "\n",
        "if intento > 0:\n",
        "  sen_usu = int(input(\"Ingrese la contraseña:\"))\n",
        "  resp = sen_usu in senhas\n",
        "  if resp == True:\n",
        "    print(\"Ingrese al sistema\")\n",
        "  else:\n",
        "    print(\"Contraseña incorrecta\")\n",
        "    intento=intento+1\n",
        "\n",
        "if(intento==2):\n",
        "  print(\"Bloqueado\")\n",
        "\n",
        "\n",
        "# dos intentos y te bloqueamos"
      ],
      "metadata": {
        "colab": {
          "base_uri": "https://localhost:8080/"
        },
        "id": "cUXhEKBNL3mF",
        "outputId": "53fccc81-f733-40ae-e76d-534644b256be"
      },
      "execution_count": null,
      "outputs": [
        {
          "output_type": "stream",
          "name": "stdout",
          "text": [
            "Ingrese la contraseña:45\n",
            "Ingrese al sistema\n",
            "3\n"
          ]
        }
      ]
    },
    {
      "cell_type": "code",
      "source": [],
      "metadata": {
        "id": "zu4ZSF5nL4Jt"
      },
      "execution_count": null,
      "outputs": []
    },
    {
      "cell_type": "code",
      "source": [],
      "metadata": {
        "id": "J7yoVsUiL4Gj"
      },
      "execution_count": null,
      "outputs": []
    },
    {
      "cell_type": "code",
      "source": [],
      "metadata": {
        "id": "R8YP8ZenL4Dh"
      },
      "execution_count": null,
      "outputs": []
    },
    {
      "cell_type": "markdown",
      "source": [
        "# **2. Bucles en Python**"
      ],
      "metadata": {
        "id": "o6DCxx4Tkx3l"
      }
    },
    {
      "cell_type": "markdown",
      "source": [
        "![texto alternativo](https://drive.google.com/uc?export=view&id=1aiS-YU7Tq2SO9XWB4LKcKazuQJQj0v40)"
      ],
      "metadata": {
        "id": "ZbXIXdc7k5oe"
      }
    },
    {
      "cell_type": "markdown",
      "source": [
        "## **2.1 Bucle FOR**"
      ],
      "metadata": {
        "id": "QMMWCyumlIQ7"
      }
    },
    {
      "cell_type": "markdown",
      "source": [
        "Permite realizar repetitivamente una orden un número determinado de veces. Esta estructura tiene diversas presentaciones. Se puede declarar como:\n",
        "\n",
        "```\n",
        "for i in range(inicial,final):\n",
        "  realizar acción desde que i tomar el valor inicial hasta el final\n",
        "```\n",
        " Veamos un ejemplo:"
      ],
      "metadata": {
        "id": "WW6ZhuLflNQO"
      }
    },
    {
      "cell_type": "markdown",
      "source": [
        "---\n",
        "\n",
        "\n",
        "<img src=\"https://drive.google.com/uc?export=view&id=1qHkIEbifXATzSoWRuSOz0R1trMhDUHym\" height=300>\n",
        "\n",
        "\n",
        "---"
      ],
      "metadata": {
        "id": "_M0oPn3OqxTn"
      }
    },
    {
      "cell_type": "markdown",
      "source": [
        "<img src=\"https://drive.google.com/uc?export=view&id=135hXhXtNQfAZ4FBuiU86sLqiH9Zs1HZ6\" height=250>"
      ],
      "metadata": {
        "id": "T6Zm_NFWsiOJ"
      }
    },
    {
      "cell_type": "code",
      "source": [
        "for i in range(10): #generar 10 números contando desde cero.\n",
        "  print(i)"
      ],
      "metadata": {
        "id": "7EiISkBoFo7q"
      },
      "execution_count": null,
      "outputs": []
    },
    {
      "cell_type": "code",
      "source": [
        "#             ini, fin+1\n",
        "for i in range(5,21):\n",
        "  print(i)"
      ],
      "metadata": {
        "id": "9eHlcODzlRJI"
      },
      "execution_count": null,
      "outputs": []
    },
    {
      "cell_type": "code",
      "source": [
        "#            ini fin step\n",
        "for i in range(5,21,2):\n",
        "  print(i)"
      ],
      "metadata": {
        "id": "ssJWQRjZlSgW"
      },
      "execution_count": null,
      "outputs": []
    },
    {
      "cell_type": "code",
      "source": [
        "#imprimir los numeros pares desde el 2 hasta el 24\n",
        "for i in range(2, 25, 2):\n",
        "  print(i, end=\" \")"
      ],
      "metadata": {
        "colab": {
          "base_uri": "https://localhost:8080/"
        },
        "id": "B5wHu48UQscS",
        "outputId": "8a5ec53c-4f02-4b81-f0b2-b2405f9a8595"
      },
      "execution_count": null,
      "outputs": [
        {
          "output_type": "stream",
          "name": "stdout",
          "text": [
            "2 4 6 8 10 12 14 16 18 20 22 24 "
          ]
        }
      ]
    },
    {
      "cell_type": "code",
      "source": [
        "# tres intentos\n",
        "senhas = [3456, 34, 56, 45]\n",
        "intento = 0\n",
        "for i in range(3):\n",
        "  sen_usu = int(input(\"Ingrese la contraseña:\"))\n",
        "  resp = sen_usu in senhas\n",
        "  if resp == True:\n",
        "    print(\"Ingrese al sistema\")\n",
        "    break\n",
        "  else:\n",
        "    print(\"Contraseña incorrecta\")\n",
        "    intento = intento + 1\n",
        "\n",
        "if intento ==3:\n",
        "  print(\"Bloqueado\")"
      ],
      "metadata": {
        "colab": {
          "base_uri": "https://localhost:8080/"
        },
        "id": "CXOYOhONRQ_W",
        "outputId": "32b572e3-afaf-4c48-e7b9-f2d1e5ee5986"
      },
      "execution_count": null,
      "outputs": [
        {
          "output_type": "stream",
          "name": "stdout",
          "text": [
            "Ingrese la contraseña:1\n",
            "Contraseña incorrecta\n",
            "Ingrese la contraseña:1\n",
            "Contraseña incorrecta\n",
            "Ingrese la contraseña:1\n",
            "Contraseña incorrecta\n",
            "Bloqueado\n"
          ]
        }
      ]
    },
    {
      "cell_type": "code",
      "source": [
        "#imprimir los numeros impares desde el 1 hasta el 23"
      ],
      "metadata": {
        "id": "o3AfOM9yQzJq"
      },
      "execution_count": null,
      "outputs": []
    },
    {
      "cell_type": "code",
      "source": [
        "for i in range(1, 24, 2):\n",
        "  print(i, end=\" \")"
      ],
      "metadata": {
        "colab": {
          "base_uri": "https://localhost:8080/"
        },
        "id": "wnpuT3KDQyKb",
        "outputId": "575e8a0a-cc22-48ed-af3e-06655dfb80de"
      },
      "execution_count": null,
      "outputs": [
        {
          "output_type": "stream",
          "name": "stdout",
          "text": [
            "1 3 5 7 9 11 13 15 17 19 21 23 "
          ]
        }
      ]
    },
    {
      "cell_type": "code",
      "source": [],
      "metadata": {
        "id": "nWiwIMT1QyES"
      },
      "execution_count": null,
      "outputs": []
    },
    {
      "cell_type": "code",
      "source": [],
      "metadata": {
        "id": "fmcdoBusQsCx"
      },
      "execution_count": null,
      "outputs": []
    },
    {
      "cell_type": "code",
      "source": [
        "# 2,4,6,8,10\n",
        "for i in range(2,11,2):\n",
        "  print(i)"
      ],
      "metadata": {
        "colab": {
          "base_uri": "https://localhost:8080/"
        },
        "id": "N9WvlCa4G-lm",
        "outputId": "3a7061a7-dbf8-4376-bc8e-b7e8d57a4d3c"
      },
      "execution_count": null,
      "outputs": [
        {
          "output_type": "stream",
          "name": "stdout",
          "text": [
            "2\n",
            "4\n",
            "6\n",
            "8\n",
            "10\n"
          ]
        }
      ]
    },
    {
      "cell_type": "code",
      "source": [
        "# 1,3,6,10\n",
        "# 1    \n",
        "# 1 2\n",
        "# 1 2 3\n",
        "# 1 2 3 4\n",
        "suma = 0  #<- variable acumuladora de sumatorias casi siempre inician con cero\n",
        "for i in range(1,5):\n",
        "  suma = suma + i\n",
        "  print(suma)"
      ],
      "metadata": {
        "id": "Jk_42lW9G-gx"
      },
      "execution_count": null,
      "outputs": []
    },
    {
      "cell_type": "code",
      "source": [
        "# 2 , 4 ,8, 16, 32\n",
        "# 2^1 = 2\n",
        "# 2^2 = 2 * 2\n",
        "# 2^3 = 2 * 2 *2\n",
        "# 2^4 = 2 * 2 *2 *2\n",
        "# 2^5 = 2 * 2 *2 *2 *2\n",
        "\n",
        "for i in range(1, 6):\n",
        "  pot = 2**i\n",
        "  print(pot)\n",
        "\n",
        "pot = 1  # variables acumuladora de productos se inicializan en 1\n",
        "for i in range(1, 6):\n",
        "  pot = pot*2\n",
        "  print(pot)"
      ],
      "metadata": {
        "id": "tNxDdwhnG8Em"
      },
      "execution_count": null,
      "outputs": []
    },
    {
      "cell_type": "code",
      "source": [
        "# 1, 3, 6, 11\n",
        "# 1 \n",
        "# 2 + 1\n",
        "# 3 + 2 + 1\n",
        "# 5 + 3 + 2 + 1\n",
        "# 7 + 5 + 3 + 2 + 1\n",
        "# SUMA DE LOS 4 primeros PRIMOS\n",
        "# primo: n es solo divisible entre 1 y n"
      ],
      "metadata": {
        "id": "lyOB6I3UG8BA"
      },
      "execution_count": null,
      "outputs": []
    },
    {
      "cell_type": "markdown",
      "source": [],
      "metadata": {
        "id": "zpqCV95xLGbR"
      }
    },
    {
      "cell_type": "code",
      "source": [
        "lista = ['algebra','geometría','historia','programación']\n",
        "print(lista[0])\n",
        "print(lista[1])\n",
        "print(lista[2])\n",
        "print(lista[3])"
      ],
      "metadata": {
        "colab": {
          "base_uri": "https://localhost:8080/"
        },
        "id": "39Yd19YLlZnf",
        "outputId": "4bf0fcf6-b06b-4498-85ef-6281296c0a2d"
      },
      "execution_count": null,
      "outputs": [
        {
          "output_type": "stream",
          "name": "stdout",
          "text": [
            "algebra\n",
            "geometría\n",
            "historia\n",
            "programación\n"
          ]
        }
      ]
    },
    {
      "cell_type": "code",
      "source": [
        "n = len(lista)\n",
        "for i in range(n): \n",
        "  print(lista[i])"
      ],
      "metadata": {
        "colab": {
          "base_uri": "https://localhost:8080/"
        },
        "id": "dmiz82CZMsts",
        "outputId": "645ac004-5378-4a1d-e53b-111b7db89772"
      },
      "execution_count": null,
      "outputs": [
        {
          "output_type": "stream",
          "name": "stdout",
          "text": [
            "algebra\n",
            "geometría\n",
            "historia\n",
            "programación\n"
          ]
        }
      ]
    },
    {
      "cell_type": "code",
      "source": [
        "for x in lista:\n",
        "  print(x)"
      ],
      "metadata": {
        "colab": {
          "base_uri": "https://localhost:8080/"
        },
        "id": "LaDN4-E6OX2Q",
        "outputId": "0147076c-a26c-4dc1-ead4-960fd7118209"
      },
      "execution_count": null,
      "outputs": [
        {
          "output_type": "stream",
          "name": "stdout",
          "text": [
            "algebra\n",
            "geometría\n",
            "historia\n",
            "programación\n"
          ]
        }
      ]
    },
    {
      "cell_type": "code",
      "source": [
        "for i, x in enumerate(lista):\n",
        "  print(f\"indice: {i}, x={x}\")"
      ],
      "metadata": {
        "colab": {
          "base_uri": "https://localhost:8080/"
        },
        "id": "CFibMXBNOtuR",
        "outputId": "20ae469f-a39a-40cb-ca0d-00c3f3915920"
      },
      "execution_count": null,
      "outputs": [
        {
          "output_type": "stream",
          "name": "stdout",
          "text": [
            "indice: 0, x=algebra\n",
            "indice: 1, x=geometría\n",
            "indice: 2, x=historia\n",
            "indice: 3, x=programación\n"
          ]
        }
      ]
    },
    {
      "cell_type": "code",
      "source": [
        "cursos   = ['algebra','geometría','historia', \"Python\", \"C++\"]\n",
        "alumnos  = ['Javier','Pedro','Luis','Abel']\n",
        "for curso, alumno in zip(cursos, alumnos):\n",
        "  print(f\"curso: {curso}, alumno:{alumno}\")"
      ],
      "metadata": {
        "colab": {
          "base_uri": "https://localhost:8080/"
        },
        "id": "paKwvxJWVNnD",
        "outputId": "9bb1c726-bd94-4cd1-f402-d77744ada7cc"
      },
      "execution_count": null,
      "outputs": [
        {
          "output_type": "stream",
          "name": "stdout",
          "text": [
            "curso: algebra, alumno:Javier\n",
            "curso: geometría, alumno:Pedro\n",
            "curso: historia, alumno:Luis\n",
            "curso: Python, alumno:Abel\n"
          ]
        }
      ]
    },
    {
      "cell_type": "code",
      "source": [
        "lista2 = [5,3,8,10]\n",
        "# sumatoria de la lista\n",
        "# 26\n",
        "suma = 0\n",
        "n = len(lista2)\n",
        "for i in range(n): \n",
        "  suma = suma + lista2[i]\n",
        "print(suma)"
      ],
      "metadata": {
        "colab": {
          "base_uri": "https://localhost:8080/"
        },
        "id": "QfxqngVoNj8Q",
        "outputId": "eb369a6f-0289-412e-ba8b-d8a0f00de940"
      },
      "execution_count": null,
      "outputs": [
        {
          "output_type": "stream",
          "name": "stdout",
          "text": [
            "26\n"
          ]
        }
      ]
    },
    {
      "cell_type": "markdown",
      "source": [
        "La tarea sería mas complicada si la lista tuviese 100 elementos y deberíamos mostrar cada elemento en la pantalla. Para mostrar cada elemento de la lista podemos usar un bucle FOR, a este procedimiento se le conoce como recorrer la lista."
      ],
      "metadata": {
        "id": "LU2h_3otlftG"
      }
    },
    {
      "cell_type": "code",
      "source": [
        "print(\"RECORRIDO POR POSICION\")\n",
        "lista = ['algebra','geometría','historia','programación']\n",
        "\n",
        "for i in range(len(lista)): # i es el contador, si no se declara desde donde inicia, toma 0 por defecto\n",
        "  print(i,lista[i])"
      ],
      "metadata": {
        "colab": {
          "base_uri": "https://localhost:8080/"
        },
        "id": "5ne_v0h5lgO-",
        "outputId": "01edb79e-c95e-43dc-d7e7-d99bc1ac5613"
      },
      "execution_count": null,
      "outputs": [
        {
          "output_type": "stream",
          "name": "stdout",
          "text": [
            "RECORRIDO POR POSICION\n",
            "0 algebra\n",
            "1 geometría\n",
            "2 historia\n",
            "3 programación\n"
          ]
        }
      ]
    },
    {
      "cell_type": "code",
      "source": [
        "print(\"RECORRIDO POR ELEMENTO\")\n",
        "lista = ['algebra','geometría','historia','programación']\n",
        "for elemento in lista:\n",
        "  print(elemento)"
      ],
      "metadata": {
        "colab": {
          "base_uri": "https://localhost:8080/"
        },
        "id": "24Z2aqOplkYq",
        "outputId": "2f242ab6-6912-43e6-fa6d-612c9bc4eee3"
      },
      "execution_count": null,
      "outputs": [
        {
          "output_type": "stream",
          "name": "stdout",
          "text": [
            "RECORRIDO POR ELEMENTO\n",
            "algebra\n",
            "geometría\n",
            "historia\n",
            "programación\n"
          ]
        }
      ]
    },
    {
      "cell_type": "code",
      "source": [
        "print(\"RECORRIDO POR ELEMENTO E INDICE\")\n",
        "lista = ['algebra','geometría','historia','programación']\n",
        "for IDX, elemento in enumerate(lista):\n",
        "  print(elemento)"
      ],
      "metadata": {
        "colab": {
          "base_uri": "https://localhost:8080/"
        },
        "id": "GvFT_w83ly0D",
        "outputId": "b122218c-cb89-448d-87c6-bab676904113"
      },
      "execution_count": null,
      "outputs": [
        {
          "output_type": "stream",
          "name": "stdout",
          "text": [
            "RECORRIDO POR ELEMENTO E INDICE\n",
            "algebra\n",
            "geometría\n",
            "historia\n",
            "programación\n"
          ]
        }
      ]
    },
    {
      "cell_type": "code",
      "source": [
        "cursos   = ['algebra','geometría','historia','programación',\"Estadistica\"]\n",
        "alumnos  = ['Javier','Pedro','Luis','Abel']\n",
        "for curso, alumno in zip(cursos, alumnos):\n",
        "  print(f\"curso: {curso}, alumno:{alumno}\")"
      ],
      "metadata": {
        "colab": {
          "base_uri": "https://localhost:8080/"
        },
        "id": "u5sU-7M5l9AH",
        "outputId": "6cd8e9d2-abb6-41cc-89c2-9a37868d6c3b"
      },
      "execution_count": null,
      "outputs": [
        {
          "output_type": "stream",
          "name": "stdout",
          "text": [
            "curso: algebra, alumno:Javier\n",
            "curso: geometría, alumno:Pedro\n",
            "curso: historia, alumno:Luis\n",
            "curso: programación, alumno:Abel\n"
          ]
        }
      ]
    },
    {
      "cell_type": "code",
      "source": [
        "print(\"BUCLES ANIDADOS\")\n",
        "lista = [ [1,2] ,[3,4]] # 2\n",
        "# recorrido de matrices\n",
        "for slist in lista:\n",
        "  for x in slist:\n",
        "    print(x)"
      ],
      "metadata": {
        "colab": {
          "base_uri": "https://localhost:8080/"
        },
        "id": "fvjyWkOrmYzc",
        "outputId": "f585d4ea-5658-4970-e646-3b24dd2e0d3d"
      },
      "execution_count": null,
      "outputs": [
        {
          "output_type": "stream",
          "name": "stdout",
          "text": [
            "BUCLES ANIDADOS\n",
            "1\n",
            "2\n",
            "3\n",
            "4\n"
          ]
        }
      ]
    },
    {
      "cell_type": "code",
      "source": [
        "for i in [0, 1, 2]:\n",
        "    for j in [0, 1]:\n",
        "        print(f\"i vale {i} y j vale {j}\")"
      ],
      "metadata": {
        "colab": {
          "base_uri": "https://localhost:8080/"
        },
        "id": "AFJ4uddcoNYZ",
        "outputId": "9d221fe9-67dc-48a9-9b21-b1b9fb958fe6"
      },
      "execution_count": null,
      "outputs": [
        {
          "output_type": "stream",
          "name": "stdout",
          "text": [
            "i vale 0 y j vale 0\n",
            "i vale 0 y j vale 1\n",
            "i vale 1 y j vale 0\n",
            "i vale 1 y j vale 1\n",
            "i vale 2 y j vale 0\n",
            "i vale 2 y j vale 1\n"
          ]
        }
      ]
    },
    {
      "cell_type": "markdown",
      "source": [
        "## **2.2 Bucle WHILE**"
      ],
      "metadata": {
        "id": "RJXYrTCrtNuD"
      }
    },
    {
      "cell_type": "markdown",
      "source": [
        "---\n",
        "\n",
        "<img src=\"https://drive.google.com/uc?export=view&id=1VBLniwAoaqup-Sa6dc0KtTu-g2EAfONe\" height=300>\n",
        "\n"
      ],
      "metadata": {
        "id": "zYnfvwNNspxI"
      }
    },
    {
      "cell_type": "markdown",
      "source": [
        "\n",
        "---\n",
        "\n",
        "<img src=\"https://drive.google.com/uc?export=view&id=1ZSM3hHEf6QVTbZ904n0Lx8Y23QhlEAT1\" height=300>"
      ],
      "metadata": {
        "id": "q_LbCiNAs3kX"
      }
    },
    {
      "cell_type": "markdown",
      "source": [
        "Con `while` debemos validar condiciones"
      ],
      "metadata": {
        "id": "deBDrIXY6DFv"
      }
    },
    {
      "cell_type": "code",
      "source": [
        "i = 0\n",
        "while i < 11:\n",
        "  print(i)\n",
        "  i = i + 1\n",
        "  "
      ],
      "metadata": {
        "id": "9Gj9K641tRyL"
      },
      "execution_count": null,
      "outputs": []
    },
    {
      "cell_type": "code",
      "source": [
        "# tres intentos\n",
        "senhas = [3456, 34, 56, 45]\n",
        "intento = 0\n",
        "while intento<3:\n",
        "  sen_usu = int(input(\"Ingrese la contraseña:\"))\n",
        "  resp = sen_usu in senhas\n",
        "  if resp == True:\n",
        "    print(\"Ingrese al sistema\")\n",
        "    break\n",
        "  else:\n",
        "    print(\"Contraseña incorrecta\")\n",
        "    intento=intento+1\n",
        "\n",
        "if intento ==3:\n",
        "  print(\"Bloqueado\")"
      ],
      "metadata": {
        "colab": {
          "base_uri": "https://localhost:8080/"
        },
        "id": "BOf5PrNwXXsn",
        "outputId": "862fced8-b9db-46e9-bf7e-ed73750a2c39"
      },
      "execution_count": null,
      "outputs": [
        {
          "output_type": "stream",
          "name": "stdout",
          "text": [
            "Ingrese la contraseña:1\n",
            "Contraseña incorrecta\n",
            "Ingrese la contraseña:1\n",
            "Contraseña incorrecta\n",
            "Ingrese la contraseña:1\n",
            "Contraseña incorrecta\n",
            "Bloqueado\n"
          ]
        }
      ]
    },
    {
      "cell_type": "code",
      "source": [],
      "metadata": {
        "id": "7RvFWRXXXXo8"
      },
      "execution_count": null,
      "outputs": []
    },
    {
      "cell_type": "code",
      "source": [],
      "metadata": {
        "id": "TcL1KyteXXl7"
      },
      "execution_count": null,
      "outputs": []
    },
    {
      "cell_type": "code",
      "source": [],
      "metadata": {
        "id": "_yJEg-HVXXi2"
      },
      "execution_count": null,
      "outputs": []
    },
    {
      "cell_type": "code",
      "source": [],
      "metadata": {
        "id": "KQy-nW4BXXab"
      },
      "execution_count": null,
      "outputs": []
    },
    {
      "cell_type": "code",
      "source": [
        "# leer un número hasta que se digite cero\n",
        "# no sabemos cuando se digitará cero\n",
        "n  = int(input(\"Ingrese número\"))\n",
        "while (n!=0):\n",
        "  n  = int(input(\"Ingrese número\")) #<-\n"
      ],
      "metadata": {
        "id": "MJGGwIxCSJh0"
      },
      "execution_count": null,
      "outputs": []
    },
    {
      "cell_type": "code",
      "source": [],
      "metadata": {
        "id": "kHbO0BMoTKYw"
      },
      "execution_count": null,
      "outputs": []
    },
    {
      "cell_type": "code",
      "source": [],
      "metadata": {
        "id": "rzMbyhEqSJel"
      },
      "execution_count": null,
      "outputs": []
    },
    {
      "cell_type": "code",
      "source": [],
      "metadata": {
        "id": "BqrrWjKbSJbY"
      },
      "execution_count": null,
      "outputs": []
    },
    {
      "cell_type": "code",
      "source": [],
      "metadata": {
        "id": "0sQ6qdtfSJRK"
      },
      "execution_count": null,
      "outputs": []
    },
    {
      "cell_type": "code",
      "source": [],
      "metadata": {
        "id": "87INkMuOSJOA"
      },
      "execution_count": null,
      "outputs": []
    },
    {
      "cell_type": "code",
      "source": [
        "opcion = input('¿Desea salir? (Ingrese X)')\n",
        "i = 0\n",
        "while opcion.lower() != 'x':\n",
        "    i = i+1\n",
        "    print(f'{i}. Agregando una linea')\n",
        "    opcion = input('¿Desea salir? (Ingrese X)')\n",
        "    \n",
        "print ('la letra es X, por eso salgo del bucle')"
      ],
      "metadata": {
        "id": "JpG9jlzE59Vj",
        "colab": {
          "base_uri": "https://localhost:8080/"
        },
        "outputId": "5fe21cbd-0cfb-47e0-b571-71dcc7b43a7c"
      },
      "execution_count": null,
      "outputs": [
        {
          "output_type": "stream",
          "name": "stdout",
          "text": [
            "¿Desea salir? (Ingrese X)r\n",
            "1. Agregando una linea\n",
            "¿Desea salir? (Ingrese X)5\n",
            "2. Agregando una linea\n",
            "¿Desea salir? (Ingrese X)7\n",
            "3. Agregando una linea\n",
            "¿Desea salir? (Ingrese X)x\n",
            "la letra es X, por eso salgo del bucle\n"
          ]
        }
      ]
    },
    {
      "cell_type": "markdown",
      "source": [
        "# **3. Funciones**"
      ],
      "metadata": {
        "id": "kuorq7eMna0L"
      }
    },
    {
      "cell_type": "markdown",
      "source": [
        "<img src=\"https://drive.google.com/uc?export=view&id=1FA6W7WJZ-0HLBb6dV1tWoMuQ4XRIK81x\" height=300>\n",
        "\n"
      ],
      "metadata": {
        "id": "51TMuiiCrJzu"
      }
    },
    {
      "cell_type": "markdown",
      "source": [
        "<img src=\"https://drive.google.com/uc?export=view&id=13aDTxB5id65ycuulh7qVK3_Gp3ZlaYms\" height=250>\n"
      ],
      "metadata": {
        "id": "_MMFyWK6rYB9"
      }
    },
    {
      "cell_type": "code",
      "source": [
        "def saludar(): #sin parámetro de entrada\n",
        "  print(\"Hola a todos\")\n",
        "  #sin parámetro de retorno"
      ],
      "metadata": {
        "id": "bbqIxdfLrJXn"
      },
      "execution_count": null,
      "outputs": []
    },
    {
      "cell_type": "code",
      "source": [
        "saludar()"
      ],
      "metadata": {
        "colab": {
          "base_uri": "https://localhost:8080/"
        },
        "id": "TQZ-FbQcnd5D",
        "outputId": "0a7a2944-0af5-4db4-eb36-779bf9b8d163"
      },
      "execution_count": null,
      "outputs": [
        {
          "output_type": "stream",
          "name": "stdout",
          "text": [
            "Hola a todos\n"
          ]
        }
      ]
    },
    {
      "cell_type": "code",
      "source": [
        "def saludar2(nombre):  #Con parametro de entrada\n",
        "  print(f\"Hola {nombre}\")\n",
        "  #sin parámetro de retorno"
      ],
      "metadata": {
        "id": "gvXAA43er-Td"
      },
      "execution_count": null,
      "outputs": []
    },
    {
      "cell_type": "code",
      "source": [
        "saludar2(\"Edwin\")"
      ],
      "metadata": {
        "colab": {
          "base_uri": "https://localhost:8080/"
        },
        "id": "dznQ2i6CsChO",
        "outputId": "36b7aed0-9f0d-4c96-8837-0f1a6dee225c"
      },
      "execution_count": null,
      "outputs": [
        {
          "output_type": "stream",
          "name": "stdout",
          "text": [
            "Hola Edwin\n"
          ]
        }
      ]
    },
    {
      "cell_type": "code",
      "source": [
        "def mostrar_datos(nombre, email):\n",
        "  print(nombre + \" \" + email)\n",
        "\n",
        "mostrar_datos(\"Luis\", \"Luis.alva@gmail.com\")\n",
        "mostrar_datos(\"Jose\", \"Jose.alva@gmail.com\")"
      ],
      "metadata": {
        "colab": {
          "base_uri": "https://localhost:8080/"
        },
        "id": "oYl0eihwsRCi",
        "outputId": "0b9af6b6-1683-4044-951a-12ef3ff3bfee"
      },
      "execution_count": null,
      "outputs": [
        {
          "output_type": "stream",
          "name": "stdout",
          "text": [
            "Luis Luis.alva@gmail.com\n",
            "Jose Jose.alva@gmail.com\n"
          ]
        }
      ]
    },
    {
      "cell_type": "code",
      "source": [
        "def mostrar_nombres(*nombres): #dentro de una lista\n",
        "  for i in range(len(nombres)):\n",
        "    print(nombres[i])"
      ],
      "metadata": {
        "id": "QKh3YxwrsibH"
      },
      "execution_count": null,
      "outputs": []
    },
    {
      "cell_type": "code",
      "source": [
        "mostrar_nombres(\"Luis\", \"Juan\", \"Pedro\", \"José\")"
      ],
      "metadata": {
        "colab": {
          "base_uri": "https://localhost:8080/"
        },
        "id": "ih2Ssljosu__",
        "outputId": "894a37fc-e500-4897-8b52-949580651ffe"
      },
      "execution_count": null,
      "outputs": [
        {
          "output_type": "stream",
          "name": "stdout",
          "text": [
            "Luis\n",
            "Juan\n",
            "Pedro\n",
            "José\n"
          ]
        }
      ]
    },
    {
      "cell_type": "code",
      "source": [
        "def mostrar_nombres2(nombres): #dentro de una lista\n",
        "  for i in range(len(nombres)):\n",
        "    print(nombres[i])"
      ],
      "metadata": {
        "id": "73TNB72ugx32"
      },
      "execution_count": null,
      "outputs": []
    },
    {
      "cell_type": "code",
      "source": [
        "mostrar_nombres2([\"Luis\", \"Juan\", \"Pedro\", \"José\"])"
      ],
      "metadata": {
        "colab": {
          "base_uri": "https://localhost:8080/"
        },
        "id": "ukwEz5Rqg12e",
        "outputId": "45814a54-c8b6-4868-8cd6-e9536db65f02"
      },
      "execution_count": null,
      "outputs": [
        {
          "output_type": "stream",
          "name": "stdout",
          "text": [
            "Luis\n",
            "Juan\n",
            "Pedro\n",
            "José\n"
          ]
        }
      ]
    },
    {
      "cell_type": "code",
      "source": [
        "def calcular_total(monto, IGV = 0.18):\n",
        "  total = monto * (1+IGV)\n",
        "  return total"
      ],
      "metadata": {
        "id": "kxvtr5W_tAD_"
      },
      "execution_count": null,
      "outputs": []
    },
    {
      "cell_type": "code",
      "source": [
        "t = calcular_total(1500)\n",
        "print(t)\n",
        "t = calcular_total(1500, 0.19)\n",
        "print(t)"
      ],
      "metadata": {
        "colab": {
          "base_uri": "https://localhost:8080/"
        },
        "id": "GwaVQwextPDn",
        "outputId": "1081e23b-5595-4f91-f4d8-621c5ddcc6ac"
      },
      "execution_count": null,
      "outputs": [
        {
          "output_type": "stream",
          "name": "stdout",
          "text": [
            "1770.0\n",
            "1785.0\n"
          ]
        }
      ]
    },
    {
      "cell_type": "code",
      "source": [
        "def mostrar_datos3(**args):  #Trata la entrada como un diccionario\n",
        "  print(\"Mi nombre es \" + args[\"nombre\"])\n",
        "  print(\"Mi Apellido es \" + args[\"apellido\"])\n",
        "\n",
        "mostrar_datos3(nombre = \"Luis\", apellido = \"Alva\")"
      ],
      "metadata": {
        "colab": {
          "base_uri": "https://localhost:8080/"
        },
        "id": "hbBu3UoWtdN3",
        "outputId": "9b2bf6f7-441a-4804-b03d-cef8e251af29"
      },
      "execution_count": null,
      "outputs": [
        {
          "output_type": "stream",
          "name": "stdout",
          "text": [
            "Mi nombre es Luis\n",
            "Mi Apellido es Alva\n"
          ]
        }
      ]
    },
    {
      "cell_type": "markdown",
      "source": [
        "las definiciones no pueden estar vacías, pero si por algún motivo tiene una functiondefinición sin contenido, introdúzcala en la passdeclaración para evitar que se produzca un error."
      ],
      "metadata": {
        "id": "QIbrPEhXt84J"
      }
    },
    {
      "cell_type": "code",
      "source": [
        "def myfunction():\n",
        "  pass\n",
        "myfunction()"
      ],
      "metadata": {
        "id": "2ToEPHUWt3Fo"
      },
      "execution_count": null,
      "outputs": []
    },
    {
      "cell_type": "markdown",
      "source": [
        "# **4. Lambda**\n",
        "Una función lambda es una pequeña función anónima.\n",
        "\n",
        "Una función lambda puede tomar cualquier cantidad de argumentos, pero solo puede tener una expresión."
      ],
      "metadata": {
        "id": "LgSj78myuCgg"
      }
    },
    {
      "cell_type": "code",
      "source": [
        "y = lambda x : x + 10\n",
        "print(y(20))"
      ],
      "metadata": {
        "colab": {
          "base_uri": "https://localhost:8080/"
        },
        "id": "2xZKQMpwuIR_",
        "outputId": "a2055256-71a3-483f-c149-7897e76bf721"
      },
      "execution_count": null,
      "outputs": [
        {
          "output_type": "stream",
          "name": "stdout",
          "text": [
            "30\n"
          ]
        }
      ]
    },
    {
      "cell_type": "code",
      "source": [
        "y = lambda x1, x2 : x1 * x2\n",
        "print(y(5, 6))"
      ],
      "metadata": {
        "colab": {
          "base_uri": "https://localhost:8080/"
        },
        "id": "CL70s0EcuMMP",
        "outputId": "43fd4642-55c2-4a6c-aa2a-a895f2d22d3c"
      },
      "execution_count": null,
      "outputs": [
        {
          "output_type": "stream",
          "name": "stdout",
          "text": [
            "30\n"
          ]
        }
      ]
    },
    {
      "cell_type": "markdown",
      "source": [
        "El poder de lambda se muestra mejor cuando los usa como una función anónima dentro de otra función.\n",
        "\n",
        "Digamos que tiene una definición de función que toma un argumento, y ese argumento se multiplicará con un número desconocido:"
      ],
      "metadata": {
        "id": "Z8RaLMdAuYvB"
      }
    },
    {
      "cell_type": "code",
      "source": [
        "def calcular(my_func):\n",
        "  x = int(input(\"Ingrese numero:\"))\n",
        "  return my_func(x)"
      ],
      "metadata": {
        "id": "JuDI2ThIk9Ue"
      },
      "execution_count": null,
      "outputs": []
    },
    {
      "cell_type": "code",
      "source": [
        "def pot(x):\n",
        "  return x**2\n",
        "def sum(x):\n",
        "  return x+2"
      ],
      "metadata": {
        "id": "ieJNj6mblKwX"
      },
      "execution_count": null,
      "outputs": []
    },
    {
      "cell_type": "code",
      "source": [
        "calcular(sum)"
      ],
      "metadata": {
        "colab": {
          "base_uri": "https://localhost:8080/"
        },
        "id": "IU9aWxu3lKta",
        "outputId": "18a75752-3034-4c49-d0b1-0741a39af6e0"
      },
      "execution_count": null,
      "outputs": [
        {
          "name": "stdout",
          "output_type": "stream",
          "text": [
            "Ingrese numero:9\n"
          ]
        },
        {
          "output_type": "execute_result",
          "data": {
            "text/plain": [
              "11"
            ]
          },
          "metadata": {},
          "execution_count": 37
        }
      ]
    },
    {
      "cell_type": "code",
      "source": [
        "def multiplicar(n):\n",
        "  y = lambda x : x * (n + 1)\n",
        "  return y"
      ],
      "metadata": {
        "id": "NhF3V8hWuZg4"
      },
      "execution_count": null,
      "outputs": []
    },
    {
      "cell_type": "code",
      "source": [
        "res1 = multiplicar(2)\n",
        "print(res1(11))\n",
        "print(res1(12))"
      ],
      "metadata": {
        "colab": {
          "base_uri": "https://localhost:8080/"
        },
        "id": "RTpWgJyjkUVg",
        "outputId": "5c750255-d899-4fb9-b61b-d411e5993937"
      },
      "execution_count": null,
      "outputs": [
        {
          "output_type": "stream",
          "name": "stdout",
          "text": [
            "33\n",
            "36\n"
          ]
        }
      ]
    },
    {
      "cell_type": "code",
      "source": [
        "res2 = multiplicar(3)\n",
        "res2(11)\n",
        "res2(12)"
      ],
      "metadata": {
        "colab": {
          "base_uri": "https://localhost:8080/"
        },
        "id": "yJtSIStNkqUe",
        "outputId": "14683eda-6d5d-4732-e5d5-70cfece3f719"
      },
      "execution_count": null,
      "outputs": [
        {
          "output_type": "execute_result",
          "data": {
            "text/plain": [
              "48"
            ]
          },
          "metadata": {},
          "execution_count": 25
        }
      ]
    },
    {
      "cell_type": "code",
      "source": [
        "res1 = multiplicar(2) # n será 2\n",
        "res2 = multiplicar(3) # n será 2\n",
        "print(res1(11))\n",
        "print(res2(11))"
      ],
      "metadata": {
        "colab": {
          "base_uri": "https://localhost:8080/"
        },
        "id": "Yz04VXxOufgZ",
        "outputId": "51e69d95-c931-482c-f026-9a2ba07a3adb"
      },
      "execution_count": null,
      "outputs": [
        {
          "output_type": "stream",
          "name": "stdout",
          "text": [
            "33\n",
            "44\n"
          ]
        }
      ]
    },
    {
      "cell_type": "markdown",
      "source": [
        "# **5. Fechas**"
      ],
      "metadata": {
        "id": "ld5q_KeCvR3s"
      }
    },
    {
      "cell_type": "code",
      "source": [
        "import datetime"
      ],
      "metadata": {
        "id": "chyvNMVZvUKR"
      },
      "execution_count": null,
      "outputs": []
    },
    {
      "cell_type": "code",
      "source": [
        "x = datetime.datetime.now()\n",
        "print(x)"
      ],
      "metadata": {
        "colab": {
          "base_uri": "https://localhost:8080/"
        },
        "id": "iGzfQxbivX6S",
        "outputId": "373f37e6-44da-4000-bc89-ee042ad8ba43"
      },
      "execution_count": null,
      "outputs": [
        {
          "output_type": "stream",
          "name": "stdout",
          "text": [
            "2022-09-27 01:39:39.433851\n"
          ]
        }
      ]
    },
    {
      "cell_type": "code",
      "source": [
        "print(x.year)\n",
        "print(x.strftime(\"%A\"))"
      ],
      "metadata": {
        "colab": {
          "base_uri": "https://localhost:8080/"
        },
        "id": "Z-Psh_R1vbWb",
        "outputId": "a601e18d-b434-40d6-8492-f8d089045f87"
      },
      "execution_count": null,
      "outputs": [
        {
          "output_type": "stream",
          "name": "stdout",
          "text": [
            "2022\n",
            "Tuesday\n"
          ]
        }
      ]
    },
    {
      "cell_type": "markdown",
      "source": [
        "## **Crear una fecha**"
      ],
      "metadata": {
        "id": "-D7CEWbmvgyI"
      }
    },
    {
      "cell_type": "code",
      "source": [
        "x = datetime.datetime(2020, 5, 17)\n",
        "print(x)"
      ],
      "metadata": {
        "colab": {
          "base_uri": "https://localhost:8080/"
        },
        "id": "y_Tqfeo9virI",
        "outputId": "2c526059-266a-4e53-ee59-89bcb4ab2202"
      },
      "execution_count": null,
      "outputs": [
        {
          "output_type": "stream",
          "name": "stdout",
          "text": [
            "2020-05-17 00:00:00\n"
          ]
        }
      ]
    },
    {
      "cell_type": "markdown",
      "source": [
        "## **Formato de fecha**\n",
        "Se pueden revisar en:\n",
        "\n",
        "https://www.w3schools.com/python/python_datetime.asp"
      ],
      "metadata": {
        "id": "7tluz_m5vrRR"
      }
    },
    {
      "cell_type": "code",
      "source": [
        "x = datetime.datetime(2022, 6, 1)"
      ],
      "metadata": {
        "id": "dIu9hZeSvqmY"
      },
      "execution_count": null,
      "outputs": []
    },
    {
      "cell_type": "code",
      "source": [
        "print(x.strftime(\"%B\")) # Mostrar el mes\n",
        "print(x.strftime(\"%x\")) #\tVersión local de fecha\n",
        "print(x.strftime(\"%X\")) # Mostrar la hora\n",
        "print(x.strftime(\"%c\")) # Mostrar la hora\n",
        "print(x.strftime(\"%d\")) # Mostrar el día\n",
        "print(x.strftime(\"%m\")) # Mostrar el mes\n",
        "print(x.strftime(\"%Y\")) # Mostrar el año"
      ],
      "metadata": {
        "colab": {
          "base_uri": "https://localhost:8080/"
        },
        "id": "nFHTjATlxqUh",
        "outputId": "4e11fca3-d31d-46ee-de9f-1e260b3be989"
      },
      "execution_count": null,
      "outputs": [
        {
          "output_type": "stream",
          "name": "stdout",
          "text": [
            "June\n",
            "06/01/22\n",
            "00:00:00\n",
            "Wed Jun  1 00:00:00 2022\n",
            "01\n",
            "06\n",
            "2022\n"
          ]
        }
      ]
    },
    {
      "cell_type": "code",
      "source": [
        "print(x.strftime(\"%d-%m-%Y\"))"
      ],
      "metadata": {
        "colab": {
          "base_uri": "https://localhost:8080/"
        },
        "id": "0nWxIOjIm5rz",
        "outputId": "fd32a869-ca30-4215-a213-1c62a44641c3"
      },
      "execution_count": null,
      "outputs": [
        {
          "output_type": "stream",
          "name": "stdout",
          "text": [
            "01-06-2022\n"
          ]
        }
      ]
    }
  ]
}