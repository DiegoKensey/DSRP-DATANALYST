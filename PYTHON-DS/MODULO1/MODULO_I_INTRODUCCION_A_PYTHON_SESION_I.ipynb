{
  "nbformat": 4,
  "nbformat_minor": 0,
  "metadata": {
    "colab": {
      "provenance": [],
      "collapsed_sections": []
    },
    "kernelspec": {
      "name": "python3",
      "display_name": "Python 3"
    },
    "language_info": {
      "name": "python"
    }
  },
  "cells": [
    {
      "cell_type": "markdown",
      "source": [
        "\n",
        "\n",
        "---\n",
        "<img src=\"https://drive.google.com/uc?export=view&id=1JCDDTcxG2ez_sXTKSulwpZbgQPud9yba\" height=320 width = 410>\n",
        "\n",
        "---"
      ],
      "metadata": {
        "id": "DP4Ec91lekWc"
      }
    },
    {
      "cell_type": "markdown",
      "source": [
        "# **INTRODUCCIÓN A PYTHON - PARTE I**"
      ],
      "metadata": {
        "id": "_eAZb26cSm9H"
      }
    },
    {
      "cell_type": "markdown",
      "source": [
        "---\n",
        "<img src=\"https://drive.google.com/uc?export=view&id=14g3xsBlythXIaCBPDyBF9RjfY8nDlpJ0\" height=300 width = 550>\n",
        "\n",
        "---\n"
      ],
      "metadata": {
        "id": "jP7V63xDRA53"
      }
    },
    {
      "cell_type": "markdown",
      "source": [
        "---\n",
        "<img src=\"https://drive.google.com/uc?export=view&id=1Pz8SNJveaa4lWGPLSkxs2ThegTJ34MWA\" height=280 width = 580>\n",
        "\n",
        "---\n"
      ],
      "metadata": {
        "id": "ZxmNYJsNRYOc"
      }
    },
    {
      "cell_type": "markdown",
      "source": [
        "# **1. Tipado dinámico**\n",
        "\n",
        "* El **valor** de las **variables** se cambia de forma directa, y se  pueden hacer conversiones de tipos de datos.\n",
        "* Las variables en python **no necesitan** ser declaradas. No se necesita indicar el tipo de dato en las asignaciones. Solo se reliza esto, cuando realizamos conversiones de tipos de datos."
      ],
      "metadata": {
        "id": "yB0YIorQTs2C"
      }
    },
    {
      "cell_type": "markdown",
      "source": [
        "**Operadores Aritméticos**\n",
        "\n",
        "```\n",
        "----------------------------------------------------------\n",
        " Símbolo  Significado     Ejemplo               Resultado\n",
        "   +       suma              a = 10 + 5         a es 15\n",
        "   -       resta             a = 12 - 7         a es  5\n",
        "   -       negaciòn          a = -5             a es -5\n",
        "   *       multiplicación    a = 7 * 5          a es 35\n",
        "  **       potencia          a = 2 ** 3         a es  8\n",
        "   /       división          a = 12.5 / 2       a es  6.25\n",
        "  //       división enteira  a = 12.5 // 2      a es  6.0\n",
        "   %       módulo            a = 27 % 4         a es  3\n",
        "----------------------------------------------------------\n",
        "```"
      ],
      "metadata": {
        "id": "nHihpHJCgaD2"
      }
    },
    {
      "cell_type": "code",
      "source": [
        "print(valor)"
      ],
      "metadata": {
        "colab": {
          "base_uri": "https://localhost:8080/"
        },
        "id": "z28h-5-JnqHz",
        "outputId": "3c444206-a616-4e66-c13c-048358490964"
      },
      "execution_count": null,
      "outputs": [
        {
          "output_type": "stream",
          "name": "stdout",
          "text": [
            "Bienvenidos al curso de Python en DSRP\n"
          ]
        }
      ]
    },
    {
      "cell_type": "code",
      "execution_count": null,
      "metadata": {
        "id": "1qajm3L7dgsc",
        "colab": {
          "base_uri": "https://localhost:8080/"
        },
        "outputId": "8538c163-c317-4538-af6f-6a66cad85525"
      },
      "outputs": [
        {
          "output_type": "stream",
          "name": "stdout",
          "text": [
            "<class 'int'>\n"
          ]
        }
      ],
      "source": [
        "valor = 10           \n",
        "print(type(valor))"
      ]
    },
    {
      "cell_type": "code",
      "source": [
        "valor = \"Bienvenidos al curso de Python en DSRP\"  \n",
        "print(type(valor))"
      ],
      "metadata": {
        "colab": {
          "base_uri": "https://localhost:8080/"
        },
        "id": "Ov2Bh0YlUHBA",
        "outputId": "ffe8d206-48c9-41a1-e76e-b30aa929c8c2"
      },
      "execution_count": null,
      "outputs": [
        {
          "output_type": "stream",
          "name": "stdout",
          "text": [
            "<class 'str'>\n"
          ]
        }
      ]
    },
    {
      "cell_type": "markdown",
      "source": [
        "* Por otro lado, Python es un lenguaje de tipado fuerte "
      ],
      "metadata": {
        "id": "CgaBCXDnVTaa"
      }
    },
    {
      "cell_type": "code",
      "source": [
        "a = 15\n",
        "b = \"15\"\n",
        "print(a + b)"
      ],
      "metadata": {
        "id": "4wV0wQZEVJ-W"
      },
      "execution_count": null,
      "outputs": []
    },
    {
      "cell_type": "code",
      "source": [
        "a = 15\n",
        "b = \"15\"\n",
        "print(a + int(b))"
      ],
      "metadata": {
        "colab": {
          "base_uri": "https://localhost:8080/"
        },
        "id": "VSSDS1iYVZyY",
        "outputId": "a53b0976-4fbc-4d53-93b0-6bf7773a5e77"
      },
      "execution_count": null,
      "outputs": [
        {
          "output_type": "stream",
          "name": "stdout",
          "text": [
            "30\n"
          ]
        }
      ]
    },
    {
      "cell_type": "code",
      "source": [
        "25%3\n"
      ],
      "metadata": {
        "colab": {
          "base_uri": "https://localhost:8080/"
        },
        "id": "LQAukqtBlSKt",
        "outputId": "d3fe752f-4532-447e-863e-5c2ad307fc1a"
      },
      "execution_count": null,
      "outputs": [
        {
          "output_type": "execute_result",
          "data": {
            "text/plain": [
              "1"
            ]
          },
          "metadata": {},
          "execution_count": 7
        }
      ]
    },
    {
      "cell_type": "markdown",
      "source": [
        "# **2. Tipos de datos básicos**"
      ],
      "metadata": {
        "id": "EpRn4KDKVvjx"
      }
    },
    {
      "cell_type": "markdown",
      "source": [
        "## **2.1 Numéricos**"
      ],
      "metadata": {
        "id": "rgrJuXihWS6f"
      }
    },
    {
      "cell_type": "code",
      "source": [
        "num1 = 15\n",
        "num2 = 10\n",
        "print(num1, num2)\n",
        "print(type(num1))"
      ],
      "metadata": {
        "colab": {
          "base_uri": "https://localhost:8080/"
        },
        "id": "sinOgjMzV0Zu",
        "outputId": "6a0426ad-857b-4e9f-ee84-41f0b61df1da"
      },
      "execution_count": null,
      "outputs": [
        {
          "output_type": "stream",
          "name": "stdout",
          "text": [
            "15 10\n",
            "<class 'int'>\n"
          ]
        }
      ]
    },
    {
      "cell_type": "code",
      "source": [
        "num1 = 10"
      ],
      "metadata": {
        "id": "NQoHHq8omQvr"
      },
      "execution_count": null,
      "outputs": []
    },
    {
      "cell_type": "code",
      "source": [
        "num1 = num2 = num3 = num4 = 10\n",
        "print(num1, num2, num3, num4)"
      ],
      "metadata": {
        "colab": {
          "base_uri": "https://localhost:8080/"
        },
        "id": "PUiIBmIQXB5k",
        "outputId": "f49aec93-a36a-42dd-94af-22cdd1cb5f04"
      },
      "execution_count": null,
      "outputs": [
        {
          "output_type": "stream",
          "name": "stdout",
          "text": [
            "10 10 10 10\n"
          ]
        }
      ]
    },
    {
      "cell_type": "code",
      "source": [
        "num_float = 1.52566885566885555\n",
        "print(num_float)\n",
        "print(type(num_float))"
      ],
      "metadata": {
        "colab": {
          "base_uri": "https://localhost:8080/"
        },
        "id": "mi_Ghv57Xo1j",
        "outputId": "04a39c04-2132-4250-b3ed-ee3e3f927508"
      },
      "execution_count": null,
      "outputs": [
        {
          "output_type": "stream",
          "name": "stdout",
          "text": [
            "1.5256688556688556\n",
            "<class 'float'>\n"
          ]
        }
      ]
    },
    {
      "cell_type": "code",
      "source": [
        "print(f\" el valor del numero es {num_float:.2f}, el valor del otro numero es {num1}\")"
      ],
      "metadata": {
        "colab": {
          "base_uri": "https://localhost:8080/"
        },
        "id": "YWlcFr_9mpXn",
        "outputId": "fa024b5a-ca11-40db-db5e-c69ed4cac78e"
      },
      "execution_count": null,
      "outputs": [
        {
          "output_type": "stream",
          "name": "stdout",
          "text": [
            " el valor del numero es 1.53, el valor del otro numero es 10\n"
          ]
        }
      ]
    },
    {
      "cell_type": "code",
      "source": [
        "print(\"El valor del numero es \", num_float, \" el otro valor es\", num1)"
      ],
      "metadata": {
        "colab": {
          "base_uri": "https://localhost:8080/"
        },
        "id": "k2xByJVRn4r3",
        "outputId": "a11d8a47-d3ce-40bc-b554-a34b443cb1b5"
      },
      "execution_count": null,
      "outputs": [
        {
          "output_type": "stream",
          "name": "stdout",
          "text": [
            "El valor del numero es  1.5256688556688556  el otro valor es 10\n"
          ]
        }
      ]
    },
    {
      "cell_type": "code",
      "source": [
        "print(\"el valor del numero es {}, el otro valor es {}\".format(num_float, num1))"
      ],
      "metadata": {
        "colab": {
          "base_uri": "https://localhost:8080/"
        },
        "id": "ukV3-BJgmpQ3",
        "outputId": "88d19fac-f62d-4550-8f99-11da71f81e8a"
      },
      "execution_count": null,
      "outputs": [
        {
          "output_type": "stream",
          "name": "stdout",
          "text": [
            "el valor del numero es 1.52, el otro valor es 10\n"
          ]
        }
      ]
    },
    {
      "cell_type": "code",
      "source": [
        "# cociente\n",
        "valor = num2 // num1\n",
        "print(f\"el cociente de dividir {num2} entre {num1} es {valor}\")\n",
        "# modulo o resto\n",
        "valor = num2 % num1\n",
        "print(f\"el modulo de dividir {num2} entre {num1} es {valor}\")\n",
        "#potencia\n",
        "pot = 2\n",
        "valor = num1 ** pot\n",
        "print(f\"{num1} elevado al {pot} es {valor}\")"
      ],
      "metadata": {
        "colab": {
          "base_uri": "https://localhost:8080/"
        },
        "id": "fQf-ARnIkWEM",
        "outputId": "13925235-068a-49ef-b4c0-5a30fb530d1b"
      },
      "execution_count": null,
      "outputs": [
        {
          "output_type": "stream",
          "name": "stdout",
          "text": [
            "el cociente de dividir 10 entre 10 es 1\n",
            "el modulo de dividir 10 entre 10 es 0\n",
            "10 elevado al 2 es 100\n"
          ]
        }
      ]
    },
    {
      "cell_type": "markdown",
      "source": [
        "## **2.2 Strings**"
      ],
      "metadata": {
        "id": "yelesD-JYLgA"
      }
    },
    {
      "cell_type": "markdown",
      "source": [
        "<img src=\"https://drive.google.com/uc?export=view&id=1NHYI9Dtye4wuB4657Qb1IxbWR6z9vZxN\" >\n"
      ],
      "metadata": {
        "id": "b21bAbStZSYW"
      }
    },
    {
      "cell_type": "code",
      "source": [
        "cadena  = \"hola bienvenidos al curso de DSRP\""
      ],
      "metadata": {
        "id": "znXj4PlNsv1i"
      },
      "execution_count": null,
      "outputs": []
    },
    {
      "cell_type": "code",
      "source": [],
      "metadata": {
        "id": "N7OZgl84rGo8"
      },
      "execution_count": null,
      "outputs": []
    },
    {
      "cell_type": "code",
      "source": [
        "texto = \"HOLA DSRP\"\n",
        "print(type(texto))"
      ],
      "metadata": {
        "colab": {
          "base_uri": "https://localhost:8080/"
        },
        "id": "z-GwTFipYRXH",
        "outputId": "0c394574-91e3-4ad2-e265-e1ea7d68cb2f"
      },
      "execution_count": null,
      "outputs": [
        {
          "output_type": "stream",
          "name": "stdout",
          "text": [
            "<class 'str'>\n"
          ]
        }
      ]
    },
    {
      "cell_type": "code",
      "source": [
        "print(\"hola 'DSRP'\")"
      ],
      "metadata": {
        "colab": {
          "base_uri": "https://localhost:8080/"
        },
        "id": "w-3O86K-Ycuy",
        "outputId": "59fb0733-a6e2-4c31-f786-2ab47839153a"
      },
      "execution_count": null,
      "outputs": [
        {
          "output_type": "stream",
          "name": "stdout",
          "text": [
            "hola 'DSRP'\n"
          ]
        }
      ]
    },
    {
      "cell_type": "code",
      "source": [
        "len(cadena)"
      ],
      "metadata": {
        "colab": {
          "base_uri": "https://localhost:8080/"
        },
        "id": "8FUJNp8vZBuF",
        "outputId": "824aaeda-ad86-488f-89d2-9d5d860f0f19"
      },
      "execution_count": null,
      "outputs": [
        {
          "output_type": "execute_result",
          "data": {
            "text/plain": [
              "33"
            ]
          },
          "metadata": {},
          "execution_count": 22
        }
      ]
    },
    {
      "cell_type": "code",
      "source": [
        "print(texto[1:4])"
      ],
      "metadata": {
        "id": "fNSfeDFZq1Rd"
      },
      "execution_count": null,
      "outputs": []
    },
    {
      "cell_type": "code",
      "source": [
        "print(texto[:4])"
      ],
      "metadata": {
        "colab": {
          "base_uri": "https://localhost:8080/"
        },
        "id": "RHZjlHbetzCz",
        "outputId": "f37a0bb0-7b83-41a7-957c-50ec2773ae55"
      },
      "execution_count": null,
      "outputs": [
        {
          "output_type": "stream",
          "name": "stdout",
          "text": [
            "HOLA\n"
          ]
        }
      ]
    },
    {
      "cell_type": "code",
      "source": [
        "print(texto[5:])"
      ],
      "metadata": {
        "colab": {
          "base_uri": "https://localhost:8080/"
        },
        "id": "KdkN4FcnpxVP",
        "outputId": "c7d90e51-5c34-44a3-f6a5-32378ad1f09f"
      },
      "execution_count": null,
      "outputs": [
        {
          "output_type": "stream",
          "name": "stdout",
          "text": [
            "DSRP\n"
          ]
        }
      ]
    },
    {
      "cell_type": "code",
      "source": [
        "cadena2 = \"BIENVENIDOS\"\n",
        "#EVND"
      ],
      "metadata": {
        "id": "11MQY1ZVpxO5"
      },
      "execution_count": null,
      "outputs": []
    },
    {
      "cell_type": "code",
      "source": [
        "n = len(cadena2)\n",
        "print(cadena2[2:9:2])"
      ],
      "metadata": {
        "colab": {
          "base_uri": "https://localhost:8080/"
        },
        "id": "wd-6jmOmsciH",
        "outputId": "9295636d-c2cf-4480-d2bb-170e142d51f6"
      },
      "execution_count": null,
      "outputs": [
        {
          "output_type": "stream",
          "name": "stdout",
          "text": [
            "EVND\n"
          ]
        }
      ]
    },
    {
      "cell_type": "code",
      "source": [],
      "metadata": {
        "id": "Ax2jel_rpxIy"
      },
      "execution_count": null,
      "outputs": []
    },
    {
      "cell_type": "code",
      "source": [
        "print(texto[0])\n",
        "print(texto[-1])"
      ],
      "metadata": {
        "colab": {
          "base_uri": "https://localhost:8080/"
        },
        "id": "5eqPmhWAd4EK",
        "outputId": "d75f5f6a-ca85-4c0e-88b7-6e218889242b"
      },
      "execution_count": null,
      "outputs": [
        {
          "output_type": "stream",
          "name": "stdout",
          "text": [
            "H\n",
            "P\n"
          ]
        }
      ]
    },
    {
      "cell_type": "code",
      "source": [
        "k1 = \"1\"\n",
        "k2 = \"hola\"\n",
        "print(k1+k2)"
      ],
      "metadata": {
        "id": "oaSbSi4juVVE",
        "colab": {
          "base_uri": "https://localhost:8080/"
        },
        "outputId": "4be10480-46db-40e7-d863-5bd26915d1c3"
      },
      "execution_count": null,
      "outputs": [
        {
          "output_type": "stream",
          "name": "stdout",
          "text": [
            "1hola\n"
          ]
        }
      ]
    },
    {
      "cell_type": "markdown",
      "source": [
        "### **2.2.1. Extraer sub-strings**"
      ],
      "metadata": {
        "id": "Hnh7LylVeQsg"
      }
    },
    {
      "cell_type": "markdown",
      "source": [
        "  * **Inicio**: Índice del primer caracter de la subcadena que queremos extraer.\n",
        "  * **Fin**: Índice del último caracter de la subcadena que queremos extraer, no se incluye el último (ver ejemplo).\n",
        "  * **Paso**: Indica el salto entre posiciones."
      ],
      "metadata": {
        "id": "HCl8BgsAiRn1"
      }
    },
    {
      "cell_type": "code",
      "source": [
        "texto = \"BIENVENIDOS AMIGOS\"\n",
        "print(texto[0:11])\n",
        "print(texto[:11])\n",
        "print(texto[12:])\n",
        "print(texto[0:11:2]) #PASO"
      ],
      "metadata": {
        "colab": {
          "base_uri": "https://localhost:8080/"
        },
        "id": "TF5qe2AcwBQw",
        "outputId": "f7206bb8-6cc8-4d2a-ef8e-06869aff5c6d"
      },
      "execution_count": null,
      "outputs": [
        {
          "output_type": "stream",
          "name": "stdout",
          "text": [
            "BIENVENIDOS\n",
            "BIENVENIDOS\n",
            "AMIGOS\n",
            "BEVNDS\n"
          ]
        }
      ]
    },
    {
      "cell_type": "code",
      "source": [
        "texto = \"HOLA DSRP\"\n",
        "print(texto[0:4:1])\n",
        "print(texto[0:4])"
      ],
      "metadata": {
        "colab": {
          "base_uri": "https://localhost:8080/"
        },
        "id": "snMfRnb0e5wR",
        "outputId": "f831d2a5-5745-497c-ee95-c8c5224dd460"
      },
      "execution_count": null,
      "outputs": [
        {
          "output_type": "stream",
          "name": "stdout",
          "text": [
            "HOLA\n",
            "HOLA\n"
          ]
        }
      ]
    },
    {
      "cell_type": "code",
      "source": [
        "print(texto[:4])\n",
        "print(texto[5:])"
      ],
      "metadata": {
        "colab": {
          "base_uri": "https://localhost:8080/"
        },
        "id": "dV9TQZmRf3we",
        "outputId": "d9141335-9f4d-4bfa-fee7-16eeec095af3"
      },
      "execution_count": null,
      "outputs": [
        {
          "output_type": "stream",
          "name": "stdout",
          "text": [
            "HOLA\n",
            "DSRP\n"
          ]
        }
      ]
    },
    {
      "cell_type": "code",
      "source": [
        "print(texto[::-1])"
      ],
      "metadata": {
        "colab": {
          "base_uri": "https://localhost:8080/"
        },
        "id": "bJsodqAcf_CP",
        "outputId": "44caa63a-e47f-4403-a6b6-bcacfa36a464"
      },
      "execution_count": null,
      "outputs": [
        {
          "output_type": "stream",
          "name": "stdout",
          "text": [
            "PRSD ALOH\n"
          ]
        }
      ]
    },
    {
      "cell_type": "code",
      "source": [
        "\"HOLA\" + \" \" + \"AMIGOS\""
      ],
      "metadata": {
        "colab": {
          "base_uri": "https://localhost:8080/",
          "height": 35
        },
        "id": "g4SRVdfHxue1",
        "outputId": "90e6f2ae-2db5-4335-d932-3fd119cbc8f9"
      },
      "execution_count": null,
      "outputs": [
        {
          "output_type": "execute_result",
          "data": {
            "text/plain": [
              "'HOLA AMIGOS'"
            ],
            "application/vnd.google.colaboratory.intrinsic+json": {
              "type": "string"
            }
          },
          "metadata": {},
          "execution_count": 45
        }
      ]
    },
    {
      "cell_type": "code",
      "source": [
        "texto2 = \"APRENDAMOS PYTHON.\"\n",
        "print(texto +\" \"+ texto2)\n",
        "print(texto2 * 2)"
      ],
      "metadata": {
        "colab": {
          "base_uri": "https://localhost:8080/"
        },
        "id": "Q302LrHXgr8M",
        "outputId": "d36ea22d-4529-4b8a-f070-a7ebf0951e84"
      },
      "execution_count": null,
      "outputs": [
        {
          "output_type": "stream",
          "name": "stdout",
          "text": [
            "BIENVENIDOS AMIGOS APRENDAMOS PYTHON.\n",
            "APRENDAMOS PYTHON.APRENDAMOS PYTHON.\n"
          ]
        }
      ]
    },
    {
      "cell_type": "code",
      "source": [
        "print(texto2.find(\"PYTHON\"))"
      ],
      "metadata": {
        "colab": {
          "base_uri": "https://localhost:8080/"
        },
        "id": "NyQ1Fo9WmUkN",
        "outputId": "bea2cc82-fb32-4e5f-df7c-2ba01543983f"
      },
      "execution_count": null,
      "outputs": [
        {
          "output_type": "stream",
          "name": "stdout",
          "text": [
            "-1\n"
          ]
        }
      ]
    },
    {
      "cell_type": "markdown",
      "source": [
        "### **2.2.2. Métodos de strings**"
      ],
      "metadata": {
        "id": "EdFv7dpChahE"
      }
    },
    {
      "cell_type": "code",
      "source": [
        "cadena = \"Aprendamos la sintaxis básica de PYTHON\""
      ],
      "metadata": {
        "id": "vkNypf7Rg6Jm"
      },
      "execution_count": null,
      "outputs": []
    },
    {
      "cell_type": "code",
      "source": [
        "print(cadena)\n",
        "print(cadena.upper())\n",
        "print(cadena.lower())\n",
        "print(cadena.title())"
      ],
      "metadata": {
        "colab": {
          "base_uri": "https://localhost:8080/"
        },
        "id": "1LaUlvW5iruW",
        "outputId": "32f6f491-0aa7-42e7-f1e4-6e7152d9c2a5"
      },
      "execution_count": null,
      "outputs": [
        {
          "output_type": "stream",
          "name": "stdout",
          "text": [
            "Aprendamos la sintaxis básica de PYTHON\n",
            "APRENDAMOS LA SINTAXIS BÁSICA DE PYTHON\n",
            "aprendamos la sintaxis básica de python\n",
            "Aprendamos La Sintaxis Básica De Python\n"
          ]
        }
      ]
    },
    {
      "cell_type": "code",
      "source": [
        "print(cadena.replace(\"PYTHON\", \"pyTHON\"))"
      ],
      "metadata": {
        "colab": {
          "base_uri": "https://localhost:8080/"
        },
        "id": "qC8WIR1MivSh",
        "outputId": "728cf1aa-51e1-4829-dc98-143978d7d0e4"
      },
      "execution_count": null,
      "outputs": [
        {
          "output_type": "stream",
          "name": "stdout",
          "text": [
            "Aprendamos la sintaxis básica de pyTHON\n"
          ]
        }
      ]
    },
    {
      "cell_type": "code",
      "source": [
        "cadena2 = \"        PRONTO APRENDEREMOS NUMPY          \""
      ],
      "metadata": {
        "id": "gBszsK9ujYvl"
      },
      "execution_count": null,
      "outputs": []
    },
    {
      "cell_type": "code",
      "source": [
        "print(cadena2)\n",
        "print(cadena2.lstrip())\n",
        "print(cadena2.rstrip())\n",
        "print(cadena2.strip())"
      ],
      "metadata": {
        "colab": {
          "base_uri": "https://localhost:8080/"
        },
        "id": "-B4U9A1bjhtZ",
        "outputId": "b91f8b54-59bf-47d4-bdae-349d82c5fff9"
      },
      "execution_count": null,
      "outputs": [
        {
          "output_type": "stream",
          "name": "stdout",
          "text": [
            "        PRONTO APRENDEREMOS NUMPY          \n",
            "PRONTO APRENDEREMOS NUMPY          \n",
            "        PRONTO APRENDEREMOS NUMPY\n",
            "PRONTO APRENDEREMOS NUMPY\n"
          ]
        }
      ]
    },
    {
      "cell_type": "code",
      "source": [
        "cadena = \"Aprendamos la sintaxis básica de PYTHON\"\n",
        "print(cadena.split())"
      ],
      "metadata": {
        "colab": {
          "base_uri": "https://localhost:8080/"
        },
        "id": "0zB_YBv8lSjJ",
        "outputId": "e77688b4-1478-4452-c1de-cc9686e327d2"
      },
      "execution_count": null,
      "outputs": [
        {
          "output_type": "stream",
          "name": "stdout",
          "text": [
            "['Aprendamos', 'la', 'sintaxis', 'básica', 'de', 'PYTHON']\n"
          ]
        }
      ]
    },
    {
      "cell_type": "code",
      "source": [
        "correo=\"sergio.calderon@dsrp.edu.pe\"\n",
        "print(correo.split(\"@\"))\n",
        "print(correo.split(\".\"))"
      ],
      "metadata": {
        "colab": {
          "base_uri": "https://localhost:8080/"
        },
        "id": "CoGCCrkdk50S",
        "outputId": "d65b1f96-f11e-4803-fda3-a5a7fce7794e"
      },
      "execution_count": null,
      "outputs": [
        {
          "output_type": "stream",
          "name": "stdout",
          "text": [
            "['sergio.calderon', 'dsrp.edu.pe']\n",
            "['sergio', 'calderon@dsrp', 'edu', 'pe']\n"
          ]
        }
      ]
    },
    {
      "cell_type": "code",
      "source": [
        "texto = \"PYthon\"\n",
        "\"y\" in texto.lower()"
      ],
      "metadata": {
        "colab": {
          "base_uri": "https://localhost:8080/"
        },
        "id": "K7P2IimizINq",
        "outputId": "9ed8ee14-f65e-4d64-8c91-9936fa6dbb22"
      },
      "execution_count": null,
      "outputs": [
        {
          "output_type": "execute_result",
          "data": {
            "text/plain": [
              "True"
            ]
          },
          "metadata": {},
          "execution_count": 55
        }
      ]
    },
    {
      "cell_type": "code",
      "source": [
        "texto*2"
      ],
      "metadata": {
        "colab": {
          "base_uri": "https://localhost:8080/",
          "height": 35
        },
        "id": "DafMCCts0O7i",
        "outputId": "5bc7589f-39a8-4c40-85ab-2e056875b7cd"
      },
      "execution_count": null,
      "outputs": [
        {
          "output_type": "execute_result",
          "data": {
            "text/plain": [
              "'PYthonPYthon'"
            ],
            "application/vnd.google.colaboratory.intrinsic+json": {
              "type": "string"
            }
          },
          "metadata": {},
          "execution_count": 57
        }
      ]
    },
    {
      "cell_type": "markdown",
      "source": [
        "## **2.3 Booleanos**"
      ],
      "metadata": {
        "id": "M9Rao2S4Acjv"
      }
    },
    {
      "cell_type": "markdown",
      "source": [
        "  **Datos del Tipo Booleano**\n",
        "\n",
        "---\n",
        "*   La primera letra debe estar siempre en Mayusculas con **T** para VERDADERO\n",
        "*   La primera letra debe estar siempre en Mayusculas con **F** para FALSO\n",
        "* Python implementa todos los operadores usuales de la lógica booleana, usando palabras en inglés **(and, or, not)** en lugar de símbolos (||, &&, !, etc). \n",
        "\n",
        "También se tienen los típicos operadores de comparación: \n",
        "\n",
        "<table align=\"left\">\n",
        "<thead>\n",
        "<tr>\n",
        "<th>Símbolo</th>\n",
        "<th>Significado</th>\n",
        "<th>Ejemplo</th>\n",
        "<th>Resultado</th>\n",
        "</tr>\n",
        "</thead>\n",
        "<tbody>\n",
        "<tr>\n",
        "<td><code>==</code></td>\n",
        "<td>Igual que</td>\n",
        "<td><code>5 == 7</code></td>\n",
        "<td><code>False</code></td>\n",
        "</tr>\n",
        "<tr>\n",
        "<td><code>!=</code></td>\n",
        "<td>Distinto que</td>\n",
        "<td><code>rojo != verde</code></td>\n",
        "<td><code>True</code></td>\n",
        "</tr>\n",
        "<tr>\n",
        "<td><code>&lt;</code></td>\n",
        "<td>Menor que</td>\n",
        "<td><code>8 &lt; 12</code></td>\n",
        "<td><code>True</code></td>\n",
        "</tr>\n",
        "<tr>\n",
        "<td><code>&gt;</code></td>\n",
        "<td>Mayor que</td>\n",
        "<td><code>12 &gt; 7</code></td>\n",
        "<td><code>True</code></td>\n",
        "</tr>\n",
        "<tr>\n",
        "<td><code>&lt;=</code></td>\n",
        "<td>Menor o igual que</td>\n",
        "<td><code>12 &lt;= 12</code></td>\n",
        "<td><code>True</code></td>\n",
        "</tr>\n",
        "<tr>\n",
        "<td><code>&gt;=</code></td>\n",
        "<td>Mayor o igual que</td>\n",
        "<td><code>4 &gt;= 5</code></td>\n",
        "<td><code>False</code></td>\n",
        "</tr>\n",
        "</tbody>\n",
        "</table>"
      ],
      "metadata": {
        "id": "jYpXsrXmYiBt"
      }
    },
    {
      "cell_type": "code",
      "source": [],
      "metadata": {
        "id": "VeZhICGexyY_"
      },
      "execution_count": null,
      "outputs": []
    },
    {
      "cell_type": "code",
      "source": [
        "A = True \n",
        "B = False\n",
        "C = False\n",
        "print(A)\n",
        "print(B)\n",
        "print(C)"
      ],
      "metadata": {
        "id": "ZGtxTYTDAfic",
        "colab": {
          "base_uri": "https://localhost:8080/"
        },
        "outputId": "9e1a836d-3eb1-4295-ecd4-75dfafb60090"
      },
      "execution_count": null,
      "outputs": [
        {
          "output_type": "stream",
          "name": "stdout",
          "text": [
            "True\n",
            "False\n",
            "False\n"
          ]
        }
      ]
    },
    {
      "cell_type": "code",
      "source": [
        "A != B"
      ],
      "metadata": {
        "colab": {
          "base_uri": "https://localhost:8080/"
        },
        "id": "6vwEL8hZx03R",
        "outputId": "81983ad5-b680-4f68-8b60-5f43b0dc3fb9"
      },
      "execution_count": null,
      "outputs": [
        {
          "output_type": "execute_result",
          "data": {
            "text/plain": [
              "True"
            ]
          },
          "metadata": {},
          "execution_count": 60
        }
      ]
    },
    {
      "cell_type": "code",
      "source": [
        "A = True \n",
        "B = False\n",
        "C = False\n",
        "print(A or B)  # True\n",
        "print(A and B) # False\n",
        "print(not A)  #False\n",
        "print(A or (C and B)) # True"
      ],
      "metadata": {
        "colab": {
          "base_uri": "https://localhost:8080/"
        },
        "id": "45XccCumaMX3",
        "outputId": "d4dbf857-51a5-45dd-f83f-3b89bb1c26fb"
      },
      "execution_count": null,
      "outputs": [
        {
          "output_type": "stream",
          "name": "stdout",
          "text": [
            "True\n",
            "False\n",
            "False\n",
            "True\n"
          ]
        }
      ]
    },
    {
      "cell_type": "code",
      "source": [],
      "metadata": {
        "id": "-97ZmoSgzJ5t"
      },
      "execution_count": null,
      "outputs": []
    },
    {
      "cell_type": "code",
      "source": [],
      "metadata": {
        "id": "ilKVDHLHzJv8"
      },
      "execution_count": null,
      "outputs": []
    },
    {
      "cell_type": "code",
      "source": [],
      "metadata": {
        "id": "zG8E8RE3zJjo"
      },
      "execution_count": null,
      "outputs": []
    },
    {
      "cell_type": "code",
      "source": [],
      "metadata": {
        "id": "qIc_-JNVzJbG"
      },
      "execution_count": null,
      "outputs": []
    },
    {
      "cell_type": "code",
      "source": [
        "print(A)\n",
        "print(B)\n",
        "print(C)"
      ],
      "metadata": {
        "colab": {
          "base_uri": "https://localhost:8080/"
        },
        "id": "Jf3oIDNV1uz-",
        "outputId": "1c4b3757-bd6c-434b-b17a-af301a528876"
      },
      "execution_count": null,
      "outputs": [
        {
          "output_type": "stream",
          "name": "stdout",
          "text": [
            "True\n",
            "False\n",
            "False\n"
          ]
        }
      ]
    },
    {
      "cell_type": "code",
      "source": [
        "print(B or not (A or B))"
      ],
      "metadata": {
        "id": "RRR76akN1xir"
      },
      "execution_count": null,
      "outputs": []
    },
    {
      "cell_type": "code",
      "source": [
        "# CONNVERSION DE STRING A NÚMERO\n",
        "var_str = \"100\"\n",
        "print(type(var_str))\n",
        "\n",
        "var_int = int(var_str)\n",
        "print(type(var_int))\n",
        "\n",
        "var_flt = float(var_str)\n",
        "print(type(var_flt))\n",
        "\n",
        "var_str = str(var_int)\n",
        "print(type(var_str))"
      ],
      "metadata": {
        "colab": {
          "base_uri": "https://localhost:8080/"
        },
        "id": "ilJD8eH3k7jD",
        "outputId": "1098e2d8-e77b-4532-8858-e726ac98e72d"
      },
      "execution_count": null,
      "outputs": [
        {
          "output_type": "stream",
          "name": "stdout",
          "text": [
            "<class 'str'>\n",
            "<class 'int'>\n",
            "<class 'float'>\n",
            "<class 'str'>\n"
          ]
        }
      ]
    },
    {
      "cell_type": "markdown",
      "source": [
        "# **3. Estructuras de Datos**"
      ],
      "metadata": {
        "id": "aGso9vofdJti"
      }
    },
    {
      "cell_type": "markdown",
      "source": [
        "Python incluye varias estructuras de datos de programación estándar como parte de sus tipos incorporados.\n",
        "\n",
        "<img src=\"https://drive.google.com/uc?export=view&id=1rmq6sbwXia9B_Nj0lJH56v1Y4C3cSTqm\" height=250 >\n",
        "\n",
        "![texto alternativo](https://drive.google.com/uc?export=view&id=1bLXz7152P45Ki7ZolHVj02urqVM7N3bL)\n",
        "\n",
        "\n"
      ],
      "metadata": {
        "id": "kOuEnW_zdNXF"
      }
    },
    {
      "cell_type": "code",
      "source": [
        "lista = [12,\"hola\",True]"
      ],
      "metadata": {
        "id": "sK2DCmTn02Gk"
      },
      "execution_count": null,
      "outputs": []
    },
    {
      "cell_type": "code",
      "source": [
        "lista[:2]"
      ],
      "metadata": {
        "colab": {
          "base_uri": "https://localhost:8080/"
        },
        "id": "mfS5h5D_wNIn",
        "outputId": "6086a4af-18e3-4ef5-d1ca-a065ec65dc82"
      },
      "execution_count": null,
      "outputs": [
        {
          "output_type": "execute_result",
          "data": {
            "text/plain": [
              "[12, 'hola']"
            ]
          },
          "metadata": {},
          "execution_count": 14
        }
      ]
    },
    {
      "cell_type": "code",
      "source": [
        "len(lista)"
      ],
      "metadata": {
        "id": "4tix7cql015D",
        "colab": {
          "base_uri": "https://localhost:8080/"
        },
        "outputId": "d36a91a1-c034-4c4c-d64c-42583ec8002b"
      },
      "execution_count": null,
      "outputs": [
        {
          "output_type": "execute_result",
          "data": {
            "text/plain": [
              "3"
            ]
          },
          "metadata": {},
          "execution_count": 15
        }
      ]
    },
    {
      "cell_type": "code",
      "source": [],
      "metadata": {
        "id": "HeOi-71Y01sC"
      },
      "execution_count": null,
      "outputs": []
    },
    {
      "cell_type": "code",
      "source": [],
      "metadata": {
        "id": "KXOIAPKh01hY"
      },
      "execution_count": null,
      "outputs": []
    },
    {
      "cell_type": "code",
      "source": [],
      "metadata": {
        "id": "b0MIjI_601Ti"
      },
      "execution_count": null,
      "outputs": []
    },
    {
      "cell_type": "markdown",
      "source": [
        "## **3.1 Listas**"
      ],
      "metadata": {
        "id": "ytcZ_4-blHVU"
      }
    },
    {
      "cell_type": "markdown",
      "source": [
        "Una lista es una agrupación ordenada múltiples **tipos de datos**. A cada elemento le corresponde un **índice numérico**. Una lista se define de la siguiente manera:\n",
        "\n",
        "```\n",
        "mi_lista = [\"profesor\" , 30 , True ],  \n",
        "  donde el primer elemento es \"profesor\",\n",
        "  el segundo es 30 y el tercero es True.\n",
        "```"
      ],
      "metadata": {
        "id": "Dp1orE7smiH7"
      }
    },
    {
      "cell_type": "markdown",
      "source": [
        "### **3.1.1 Slicing**"
      ],
      "metadata": {
        "id": "Xc-C_a0KmjTz"
      }
    },
    {
      "cell_type": "markdown",
      "source": [
        "\n",
        "\n",
        "La numeración de una lista en Python empieza desde 0 (esta es una característica que deberá tener en cuenta de ahora en adelante), similar a los `strings`. \n",
        "\n",
        "<img src=\"https://islascruz.org/blog/wp-content/uploads/2016/11/selectsort.jpg\" alt=\"Girl in a jacket\" width=\"280\" height=\"90\">\n",
        "\n",
        "\n",
        "---\n",
        "\n",
        "\n",
        "![texto alternativo](https://drive.google.com/uc?export=view&id=1Dtv6Bp0WaT0LRHHdGUg04RRONn5n_DwQ)\n",
        "\n",
        "Python tiene soporte para listas como un tipo predefinido del lenguaje. Para crear una lista basta con poner cosas entre **[ ]** (corchetes) y separarlas con **,** (comas).\n"
      ],
      "metadata": {
        "id": "w5zj-mqWlF-E"
      }
    },
    {
      "cell_type": "code",
      "source": [
        "lista = [1,2,4, \"hola\", 5.2]\n",
        "print(lista)"
      ],
      "metadata": {
        "colab": {
          "base_uri": "https://localhost:8080/"
        },
        "id": "iW5XkTOQ4UBH",
        "outputId": "33442a45-9d4d-4564-cf37-53998119e0b7"
      },
      "execution_count": null,
      "outputs": [
        {
          "output_type": "stream",
          "name": "stdout",
          "text": [
            "[1, 2, 4, 'hola', 5.2]\n"
          ]
        }
      ]
    },
    {
      "cell_type": "code",
      "source": [
        "print(lista[1:4])"
      ],
      "metadata": {
        "colab": {
          "base_uri": "https://localhost:8080/"
        },
        "id": "TnLFELNopIzk",
        "outputId": "faf81c3f-9dfa-42a7-b58c-b9e8edc58aa8"
      },
      "execution_count": null,
      "outputs": [
        {
          "output_type": "stream",
          "name": "stdout",
          "text": [
            "[2, 4, 'hola']\n"
          ]
        }
      ]
    },
    {
      "cell_type": "code",
      "source": [
        "# Definir una lista\n",
        "lista_1 = [\"Albert Einstein\" , \"físico\" , 1879, \"premio nobel\"]\n",
        "print(\"Esta es la lista_1:\", lista_1 )\n",
        "#Acceder a un elemento de la lista (la numeración en Python empieza en 0)\n",
        "print(lista_1[0])   #Primer elemento (empieza en 0)\n",
        "print(lista_1[1])   #Segundo elemento\n",
        "print(lista_1[:2])\n",
        "print(lista_1[2:])\n",
        "print(lista_1[::-1])"
      ],
      "metadata": {
        "colab": {
          "base_uri": "https://localhost:8080/"
        },
        "id": "PV1Gtq9Jh4JP",
        "outputId": "881f77e1-1b3a-4cc7-89b3-ba1c9a17f0f2"
      },
      "execution_count": null,
      "outputs": [
        {
          "output_type": "stream",
          "name": "stdout",
          "text": [
            "Esta es la lista_1: ['Albert Einstein', 'físico', 1879, 'premio nobel']\n",
            "Albert Einstein\n",
            "físico\n",
            "['Albert Einstein', 'físico']\n",
            "[1879, 'premio nobel']\n",
            "['premio nobel', 1879, 'físico', 'Albert Einstein']\n"
          ]
        }
      ]
    },
    {
      "cell_type": "code",
      "source": [
        "lista3 = [2,4,18,[5,6,7],\"hola\"]\n",
        "print(lista3[3][:2])"
      ],
      "metadata": {
        "colab": {
          "base_uri": "https://localhost:8080/"
        },
        "id": "X_MzNxVDp7y4",
        "outputId": "be8918e0-e7e5-4c12-b96c-41aa7d9e5f61"
      },
      "execution_count": null,
      "outputs": [
        {
          "output_type": "stream",
          "name": "stdout",
          "text": [
            "[5, 6]\n"
          ]
        }
      ]
    },
    {
      "cell_type": "code",
      "source": [
        "list4 = [\"hola\", 5,2.6, [12,48,57],\"adiós\"]\n",
        "#como obtengo 48 con 57?\n",
        "print(list4[3][1:])"
      ],
      "metadata": {
        "colab": {
          "base_uri": "https://localhost:8080/"
        },
        "id": "kYqO1G9Srx0V",
        "outputId": "c0aaf7c7-d8f3-42e8-ef1b-73fcaf986889"
      },
      "execution_count": null,
      "outputs": [
        {
          "output_type": "stream",
          "name": "stdout",
          "text": [
            "[48, 57]\n"
          ]
        }
      ]
    },
    {
      "cell_type": "code",
      "source": [
        "lista"
      ],
      "metadata": {
        "colab": {
          "base_uri": "https://localhost:8080/"
        },
        "id": "Q1Vh4vFdyXG1",
        "outputId": "eed1a986-45e3-4434-8bd6-94cbea148965"
      },
      "execution_count": null,
      "outputs": [
        {
          "output_type": "execute_result",
          "data": {
            "text/plain": [
              "[12, 'hola', True]"
            ]
          },
          "metadata": {},
          "execution_count": 17
        }
      ]
    },
    {
      "cell_type": "code",
      "source": [
        "lista[0] = 3\n",
        "lista"
      ],
      "metadata": {
        "colab": {
          "base_uri": "https://localhost:8080/"
        },
        "id": "m0_J_8qFyZIa",
        "outputId": "28121940-009b-43ae-a7a9-fd6e7364c770"
      },
      "execution_count": null,
      "outputs": [
        {
          "output_type": "execute_result",
          "data": {
            "text/plain": [
              "[3, 'hola', True]"
            ]
          },
          "metadata": {},
          "execution_count": 19
        }
      ]
    },
    {
      "cell_type": "markdown",
      "source": [
        "### **3.1.2 Agregar elementos a una lista**"
      ],
      "metadata": {
        "id": "a3UzR3kQSryW"
      }
    },
    {
      "cell_type": "markdown",
      "source": [
        "* Se usan las funciones **append()** o **insert()**"
      ],
      "metadata": {
        "id": "rRYtACj2TEEV"
      }
    },
    {
      "cell_type": "code",
      "source": [
        "lista = [] # son dinámicas\n",
        "print(lista)\n",
        "lista.append(4)\n",
        "print(lista)\n",
        "lista.append(\"hola\")\n",
        "print(lista)\n",
        "lista.append([15,14,16])\n",
        "print(lista)"
      ],
      "metadata": {
        "colab": {
          "base_uri": "https://localhost:8080/"
        },
        "id": "Ah575naFSyLP",
        "outputId": "d836b63f-cda8-4e8c-93bf-d1419b7b5be8"
      },
      "execution_count": null,
      "outputs": [
        {
          "output_type": "stream",
          "name": "stdout",
          "text": [
            "[]\n",
            "[4]\n",
            "[4, 'hola']\n",
            "[4, 'hola', [15, 14, 16]]\n"
          ]
        }
      ]
    },
    {
      "cell_type": "code",
      "source": [
        "print(\"Agregamos una lista a la lista\")\n",
        "print(\"Es una lista con otra lista. NO hacer esto para concatenar listas\")\n",
        "lista.append([2.5,6.8,7.4])\n",
        "print(lista)\n"
      ],
      "metadata": {
        "colab": {
          "base_uri": "https://localhost:8080/"
        },
        "id": "EIYjIT3mTGu1",
        "outputId": "085137e7-23b8-43f0-81c0-19e473fc5ed0"
      },
      "execution_count": null,
      "outputs": [
        {
          "output_type": "stream",
          "name": "stdout",
          "text": [
            "Agregamos una lista a la lista\n",
            "Es una lista con otra lista. NO hacer esto para concatenar listas\n",
            "[4, 'hola', [15, 14, 16], [2.5, 6.8, 7.4]]\n"
          ]
        }
      ]
    },
    {
      "cell_type": "code",
      "source": [
        "print(\"Insertamos un elemento en una posicion determinada\")\n",
        "lista.insert(1,\"aqui inserté este texto\")\n",
        "print(lista)"
      ],
      "metadata": {
        "id": "Ico87Y6TTwkt",
        "outputId": "d637132c-9b87-4349-d8a7-75fdf4e7834a",
        "colab": {
          "base_uri": "https://localhost:8080/"
        }
      },
      "execution_count": null,
      "outputs": [
        {
          "output_type": "stream",
          "name": "stdout",
          "text": [
            "Insertamos un elemento en una posicion determinada\n",
            "[4, 'aqui inserté este texto', 'hola', [15, 14, 16], [2.5, 6.8, 7.4]]\n"
          ]
        }
      ]
    },
    {
      "cell_type": "code",
      "source": [
        "temperatura = 16\n",
        "lista=[]\n",
        "lista.append(temperatura)\n",
        "print(lista)"
      ],
      "metadata": {
        "colab": {
          "base_uri": "https://localhost:8080/"
        },
        "id": "6c8P9mX1ty6-",
        "outputId": "ea341114-3729-46d8-be47-b08e1e5c27ff"
      },
      "execution_count": null,
      "outputs": [
        {
          "output_type": "stream",
          "name": "stdout",
          "text": [
            "[16]\n"
          ]
        }
      ]
    },
    {
      "cell_type": "code",
      "source": [
        "lista = [2,3,4]\n",
        "#[1,5,2,3,4,7]\n",
        "#2,3,4,7\n",
        "#1,2,3,4,7\n",
        "#1,5,2,3,4,7"
      ],
      "metadata": {
        "id": "js7aPuXhzht3"
      },
      "execution_count": null,
      "outputs": []
    },
    {
      "cell_type": "code",
      "source": [
        "lista.append(7)\n",
        "lista.insert(0, 5)\n",
        "lista.insert(0, 1)\n",
        "lista"
      ],
      "metadata": {
        "id": "uTaNZYcxuMRu",
        "colab": {
          "base_uri": "https://localhost:8080/"
        },
        "outputId": "ce9d8413-ff97-4e54-9d69-dcabc06aa632"
      },
      "execution_count": null,
      "outputs": [
        {
          "output_type": "execute_result",
          "data": {
            "text/plain": [
              "[1, 5, 2, 3, 4, 7]"
            ]
          },
          "metadata": {},
          "execution_count": 29
        }
      ]
    },
    {
      "cell_type": "code",
      "source": [],
      "metadata": {
        "id": "PVaNEyMEzgzI"
      },
      "execution_count": null,
      "outputs": []
    },
    {
      "cell_type": "code",
      "source": [
        "lista[0] = [5,6,8]\n",
        "print(lista)"
      ],
      "metadata": {
        "colab": {
          "base_uri": "https://localhost:8080/"
        },
        "id": "T8OVsKT8vlMw",
        "outputId": "e2c001df-0e23-4b9a-93da-d4ffc67a085b"
      },
      "execution_count": null,
      "outputs": [
        {
          "output_type": "stream",
          "name": "stdout",
          "text": [
            "[[5, 6, 8], 2, 5, 6, 7]\n"
          ]
        }
      ]
    },
    {
      "cell_type": "markdown",
      "source": [
        "### **3.1.3 Eliminar elementos de una lista**"
      ],
      "metadata": {
        "id": "QoIiRoLTl2PV"
      }
    },
    {
      "cell_type": "markdown",
      "source": [
        "* Se usan las funciones \n",
        " * **pop()**            para eliminar el **último** elemento de la lista\n",
        " * **pop(**x**)**    para eliminar el elemento de la posición **x**\n",
        " * **remove(**valor**)** para eliminar el primer elemento que sea igual a \n",
        " * **clear()** para eliminar todos los elementos"
      ],
      "metadata": {
        "id": "GP9XJpB6l-KO"
      }
    },
    {
      "cell_type": "code",
      "source": [
        "print(\"Creamos una Lista inicial\")\n",
        "lista = [1, \"hola\", 3, \"tú\", 4,\"tú\", 5, 6, 7, 8]\n",
        "print(lista)"
      ],
      "metadata": {
        "colab": {
          "base_uri": "https://localhost:8080/"
        },
        "id": "cFxazl0ol7vL",
        "outputId": "40a7e41b-31d5-4eb3-924b-0f9f92515952"
      },
      "execution_count": null,
      "outputs": [
        {
          "output_type": "stream",
          "name": "stdout",
          "text": [
            "Creamos una Lista inicial\n",
            "[1, 'hola', 3, 'tú', 4, 'tú', 5, 6, 7, 8]\n"
          ]
        }
      ]
    },
    {
      "cell_type": "code",
      "source": [
        "print(\"Eliminar el último elemento de la lista\")\n",
        "lista.pop()\n",
        "lista.pop()\n",
        "print(lista)"
      ],
      "metadata": {
        "colab": {
          "base_uri": "https://localhost:8080/"
        },
        "id": "0SICLmgFmQLN",
        "outputId": "30d5ff56-32ef-4e6c-aa10-1c85087f1a4e"
      },
      "execution_count": null,
      "outputs": [
        {
          "output_type": "stream",
          "name": "stdout",
          "text": [
            "Eliminar el último elemento de la lista\n",
            "[1, 'hola', 3, 'tú', 4, 'tú', 5, 6]\n"
          ]
        }
      ]
    },
    {
      "cell_type": "code",
      "source": [
        "print(\"Eliminar elemento de una posicion determinada (índice)\")\n",
        "lista.pop(1) #índice o posición\n",
        "print(lista)"
      ],
      "metadata": {
        "colab": {
          "base_uri": "https://localhost:8080/"
        },
        "id": "541Pj3OLmSFT",
        "outputId": "c3342aa8-a476-43c7-9029-c12dd8f7cc69"
      },
      "execution_count": null,
      "outputs": [
        {
          "output_type": "stream",
          "name": "stdout",
          "text": [
            "Eliminar elemento de una posicion determinada (índice)\n",
            "[1, 3, 'tú', 4, 'tú', 5, 6]\n"
          ]
        }
      ]
    },
    {
      "cell_type": "code",
      "source": [
        "lista"
      ],
      "metadata": {
        "colab": {
          "base_uri": "https://localhost:8080/"
        },
        "id": "9uRCfFZ0wiIo",
        "outputId": "613fd081-7bc8-4479-cfe0-e1ddd2d0a7f0"
      },
      "execution_count": null,
      "outputs": [
        {
          "output_type": "execute_result",
          "data": {
            "text/plain": [
              "[1, 3, 'tú', 4, 'tú', 5, 6]"
            ]
          },
          "metadata": {},
          "execution_count": 34
        }
      ]
    },
    {
      "cell_type": "code",
      "source": [
        "print(\"Eliminar elemento por su valor (el primero que encuentra). \")\n",
        "lista.remove(\"tú\")\n",
        "print(lista)"
      ],
      "metadata": {
        "colab": {
          "base_uri": "https://localhost:8080/"
        },
        "id": "m8J2mTZ_mUFu",
        "outputId": "4d06e369-ee40-43e1-cece-13d691ac0c6b"
      },
      "execution_count": null,
      "outputs": [
        {
          "output_type": "stream",
          "name": "stdout",
          "text": [
            "Eliminar elemento por su valor (el primero que encuentra). \n",
            "[1, 3, 4, 'tú', 5, 6]\n"
          ]
        }
      ]
    },
    {
      "cell_type": "code",
      "source": [
        "print(\"Limpiar la lista completamente\")\n",
        "lista.clear()\n",
        "print(lista)"
      ],
      "metadata": {
        "colab": {
          "base_uri": "https://localhost:8080/"
        },
        "id": "V4_kwo0zmVZP",
        "outputId": "87dae576-75c7-466d-bba9-2d0f1c78ddec"
      },
      "execution_count": null,
      "outputs": [
        {
          "output_type": "stream",
          "name": "stdout",
          "text": [
            "Limpiar la lista completamente\n",
            "[]\n"
          ]
        }
      ]
    },
    {
      "cell_type": "code",
      "source": [
        "lista = [\"hola\", 15,\"adios\", \"15\", 15, 15]\n",
        "print(lista)"
      ],
      "metadata": {
        "colab": {
          "base_uri": "https://localhost:8080/"
        },
        "id": "84ehnr4PwzCL",
        "outputId": "aec6ff32-228b-4c5e-cf2c-997ac396b970"
      },
      "execution_count": null,
      "outputs": [
        {
          "output_type": "stream",
          "name": "stdout",
          "text": [
            "['hola', 15, 'adios', '15', 15, 15]\n"
          ]
        }
      ]
    },
    {
      "cell_type": "code",
      "source": [
        "#lista = [\"hola\", \"adios\"]\n",
        "lista.pop()\n",
        "lista.pop()\n",
        "lista.pop()\n",
        "lista.pop(1)\n",
        "lista"
      ],
      "metadata": {
        "colab": {
          "base_uri": "https://localhost:8080/"
        },
        "id": "xDo32ox5w-Ax",
        "outputId": "9e5b75c9-74e9-44fa-ca66-c514673e162b"
      },
      "execution_count": null,
      "outputs": [
        {
          "output_type": "execute_result",
          "data": {
            "text/plain": [
              "['hola', 'adios']"
            ]
          },
          "metadata": {},
          "execution_count": 40
        }
      ]
    },
    {
      "cell_type": "markdown",
      "source": [
        "### **3.1.4 Otras operaciones**"
      ],
      "metadata": {
        "id": "1mFRhXMmmYiU"
      }
    },
    {
      "cell_type": "code",
      "source": [
        "print(\"Usamos 'in' para saber si un elemento existe en la lista.\")\n",
        "lista = [\"hola\", 1, 2, \"hola\", 1,2]\n",
        "respuesta = 3 in lista\n",
        "print(respuesta)"
      ],
      "metadata": {
        "colab": {
          "base_uri": "https://localhost:8080/"
        },
        "id": "YZ0jTOO1mqw_",
        "outputId": "4c807679-50fd-40cb-fbb0-5886e932c358"
      },
      "execution_count": null,
      "outputs": [
        {
          "output_type": "stream",
          "name": "stdout",
          "text": [
            "Usamos 'in' para saber si un elemento existe en la lista.\n",
            "False\n"
          ]
        }
      ]
    },
    {
      "cell_type": "code",
      "source": [
        "indice = lista.index(\"bienvenido\")\n",
        "indice"
      ],
      "metadata": {
        "id": "T0bgV5--2aZr"
      },
      "execution_count": null,
      "outputs": []
    },
    {
      "cell_type": "markdown",
      "source": [
        " Control de excepciones"
      ],
      "metadata": {
        "id": "azPEW5ul3v09"
      }
    },
    {
      "cell_type": "code",
      "source": [
        "try:\n",
        "  indice = lista.index(\"bienvenido\")\n",
        "except:\n",
        "  print(\"No se encuentra\")"
      ],
      "metadata": {
        "colab": {
          "base_uri": "https://localhost:8080/"
        },
        "id": "C91m26w83vQh",
        "outputId": "a41a00b6-0a64-4c86-c0d9-7bd57b1b420c"
      },
      "execution_count": null,
      "outputs": [
        {
          "output_type": "stream",
          "name": "stdout",
          "text": [
            "No se encuentra\n"
          ]
        }
      ]
    },
    {
      "cell_type": "code",
      "source": [
        "respuesta = \"bienvenido\" in lista\n",
        "if respuesta:\n",
        "  indice = lista.index(\"bienvenido\")\n",
        "else:\n",
        "  print(\"No se encuentra\")"
      ],
      "metadata": {
        "colab": {
          "base_uri": "https://localhost:8080/"
        },
        "id": "6mB74YYP3c7a",
        "outputId": "fc0b04aa-4a96-4fd6-cb7a-cc86fce92545"
      },
      "execution_count": null,
      "outputs": [
        {
          "output_type": "stream",
          "name": "stdout",
          "text": [
            "No se encuentra\n"
          ]
        }
      ]
    },
    {
      "cell_type": "code",
      "source": [],
      "metadata": {
        "id": "lxTShYGO2aW7"
      },
      "execution_count": null,
      "outputs": []
    },
    {
      "cell_type": "code",
      "source": [],
      "metadata": {
        "id": "f5tUEXnp2aTz"
      },
      "execution_count": null,
      "outputs": []
    },
    {
      "cell_type": "code",
      "source": [],
      "metadata": {
        "id": "8OPJfHsO2aQ0"
      },
      "execution_count": null,
      "outputs": []
    },
    {
      "cell_type": "code",
      "source": [
        "print(\"Usamos 'index()' para buscar la posición de un elemento en la lista\")\n",
        "try:\n",
        "  index = lista.index(2)\n",
        "  print(index)\n",
        "except:\n",
        "  print(\"Elemento no existe\")"
      ],
      "metadata": {
        "colab": {
          "base_uri": "https://localhost:8080/"
        },
        "id": "y-0Lsij7mcqq",
        "outputId": "588a3e2f-7a0d-49d1-baa1-0a74131b572e"
      },
      "execution_count": null,
      "outputs": [
        {
          "output_type": "stream",
          "name": "stdout",
          "text": [
            "Usamos 'index()' para buscar la posición de un elemento en la lista\n",
            "2\n"
          ]
        }
      ]
    },
    {
      "cell_type": "code",
      "source": [
        "print(lista)"
      ],
      "metadata": {
        "colab": {
          "base_uri": "https://localhost:8080/"
        },
        "id": "JcJyLJCn0osE",
        "outputId": "a06dd6f5-4083-4450-dcea-9b09352acf49"
      },
      "execution_count": null,
      "outputs": [
        {
          "output_type": "stream",
          "name": "stdout",
          "text": [
            "['hola', 1, 2, 'hola', 1, 2]\n"
          ]
        }
      ]
    },
    {
      "cell_type": "code",
      "source": [
        "print(\"Usamos 'count()' para contar cuantos veces se repite un elemento en la lista\")\n",
        "print(lista.count(\"hola\"))"
      ],
      "metadata": {
        "colab": {
          "base_uri": "https://localhost:8080/"
        },
        "id": "MGFS155EnTIT",
        "outputId": "73880278-0a90-4d19-f27d-75f4b9ab0ee7"
      },
      "execution_count": null,
      "outputs": [
        {
          "output_type": "stream",
          "name": "stdout",
          "text": [
            "Usamos 'count()' para contar cuantos veces se repite un elemento en la lista\n",
            "2\n"
          ]
        }
      ]
    },
    {
      "cell_type": "code",
      "source": [
        "print(\"Usar 'len()' para saber el tamaño de una lista\")\n",
        "lista = [1, 2, 3, 4, [1, 2]]\n",
        "print(f\"Tamaño de la lista: {len(lista)}\")"
      ],
      "metadata": {
        "colab": {
          "base_uri": "https://localhost:8080/"
        },
        "id": "HuFXSdpHnmQK",
        "outputId": "1dbb93e6-eb7e-4844-a974-8371e8f516fc"
      },
      "execution_count": null,
      "outputs": [
        {
          "output_type": "stream",
          "name": "stdout",
          "text": [
            "Usar 'len()' para saber el tamaño de una lista\n",
            "Tamaño de la lista: 5\n"
          ]
        }
      ]
    },
    {
      "cell_type": "code",
      "source": [
        "print(\"Usamos 'extend()' para concatenar dos listas o el simbolo '+'\")\n",
        "lista_1 = [1, 2, 3]\n",
        "lista_2 = [\"lunes\", \"martes\", \"miercoles\"]\n",
        "\n",
        "lista_2.extend(lista_1)\n",
        "print(lista_2)"
      ],
      "metadata": {
        "colab": {
          "base_uri": "https://localhost:8080/"
        },
        "id": "rA_jTSoLnxXP",
        "outputId": "d0ea0c9d-7e7a-495a-c014-a5c838243a10"
      },
      "execution_count": null,
      "outputs": [
        {
          "output_type": "stream",
          "name": "stdout",
          "text": [
            "Usamos 'extend()' para concatenar dos listas o el simbolo '+'\n",
            "['lunes', 'martes', 'miercoles', 1, 2, 3]\n"
          ]
        }
      ]
    },
    {
      "cell_type": "code",
      "source": [
        "print(lista_1 + lista_2)"
      ],
      "metadata": {
        "colab": {
          "base_uri": "https://localhost:8080/"
        },
        "id": "s3WdW2sb5hIA",
        "outputId": "d204cce4-cc0d-4c4a-8bec-935fd3611a19"
      },
      "execution_count": null,
      "outputs": [
        {
          "output_type": "stream",
          "name": "stdout",
          "text": [
            "[1, 2, 3, 'lunes', 'martes', 'miercoles', 1, 2, 3]\n"
          ]
        }
      ]
    },
    {
      "cell_type": "code",
      "source": [
        "lista_1 = [1, 2, 3]\n",
        "lista_2 = [\"lunes\", \"martes\", \"miercoles\"]\n",
        "print(lista_1 + lista_2)"
      ],
      "metadata": {
        "colab": {
          "base_uri": "https://localhost:8080/"
        },
        "id": "f5ywOG8c1GnD",
        "outputId": "9511cd2e-805b-470c-aeda-a0ff2a2ee191"
      },
      "execution_count": null,
      "outputs": [
        {
          "output_type": "stream",
          "name": "stdout",
          "text": [
            "[1, 2, 3, 'lunes', 'martes', 'miercoles']\n"
          ]
        }
      ]
    },
    {
      "cell_type": "code",
      "source": [
        "lista1 = [2,4,5]\n",
        "lista2 = [\"1\",\"2\",\"3\"]\n",
        "#-> [2,4,5,[\"1\",\"2\",\"3\"]] \n",
        "#-> [2,4,5,\"1\",\"2\",\"3\"]\n",
        "lista1.append(lista2)\n",
        "lista1 + lista2"
      ],
      "metadata": {
        "id": "KHIYGnkx1PTQ"
      },
      "execution_count": null,
      "outputs": []
    },
    {
      "cell_type": "code",
      "source": [],
      "metadata": {
        "id": "-PH8CuY-5srv"
      },
      "execution_count": null,
      "outputs": []
    },
    {
      "cell_type": "code",
      "source": [],
      "metadata": {
        "id": "cTviLiBE5rfl"
      },
      "execution_count": null,
      "outputs": []
    },
    {
      "cell_type": "code",
      "source": [
        "lista1.append(lista2)\n",
        "print(lista1)"
      ],
      "metadata": {
        "colab": {
          "base_uri": "https://localhost:8080/"
        },
        "id": "dpT4t-z-1P07",
        "outputId": "6f3a65fe-1359-499e-e89b-1931e3d11756"
      },
      "execution_count": null,
      "outputs": [
        {
          "output_type": "stream",
          "name": "stdout",
          "text": [
            "[2, 4, 5, ['1', '2', '3']]\n"
          ]
        }
      ]
    },
    {
      "cell_type": "code",
      "source": [
        "print(lista1 + lista2)"
      ],
      "metadata": {
        "colab": {
          "base_uri": "https://localhost:8080/"
        },
        "id": "KBMV_cZr1Omu",
        "outputId": "816fe3f4-d804-447a-a0d3-90ed61c1428e"
      },
      "execution_count": null,
      "outputs": [
        {
          "output_type": "stream",
          "name": "stdout",
          "text": [
            "[2, 4, 5, '1', '2', '3']\n"
          ]
        }
      ]
    },
    {
      "cell_type": "code",
      "source": [
        "print(\"Invertir una lista\")\n",
        "print(\" - Lista Original\")\n",
        "lista = [\"lunes\", \"martes\", \"miercoles\"]\n",
        "print(lista)\n",
        "\n",
        "print(\"- Lista Invertida\")\n",
        "lista.reverse()\n",
        "print(lista)"
      ],
      "metadata": {
        "colab": {
          "base_uri": "https://localhost:8080/"
        },
        "id": "iwsJ2AxJn8mw",
        "outputId": "bffe6bd4-bae3-47df-a461-cc1e7c024563"
      },
      "execution_count": null,
      "outputs": [
        {
          "output_type": "stream",
          "name": "stdout",
          "text": [
            "Invertir una lista\n",
            " - Lista Original\n",
            "['lunes', 'martes', 'miercoles']\n",
            "- Lista Invertida\n",
            "['miercoles', 'martes', 'lunes']\n"
          ]
        }
      ]
    },
    {
      "cell_type": "code",
      "source": [
        "print(\"Ordenar una lista\")\n",
        "print(\"Lista original\")\n",
        "lista = [1, 5, -10, -4, 2, 3, 8, -8]\n",
        "print(lista)\n",
        "\n",
        "print(\"Lista ordenada de menor a mayor\")\n",
        "lista.sort()\n",
        "print(lista)"
      ],
      "metadata": {
        "colab": {
          "base_uri": "https://localhost:8080/"
        },
        "id": "kJFSRn09bM4T",
        "outputId": "7f7e9926-9f7c-4cbd-b123-7c36ab9f17ac"
      },
      "execution_count": null,
      "outputs": [
        {
          "output_type": "stream",
          "name": "stdout",
          "text": [
            "Ordenar una lista\n",
            "Lista original\n",
            "[1, 5, -10, -4, 2, 3, 8, -8]\n",
            "Lista ordenada de menor a mayor\n",
            "[-10, -8, -4, 1, 2, 3, 5, 8]\n"
          ]
        }
      ]
    },
    {
      "cell_type": "code",
      "source": [
        "lista1 = [4,5,1,105,12]\n",
        "#-> [105, 12,5,4,1]"
      ],
      "metadata": {
        "id": "phzGsdaI2aCM"
      },
      "execution_count": null,
      "outputs": []
    },
    {
      "cell_type": "code",
      "source": [
        "lista1.sort()\n",
        "lista1.reverse()\n",
        "lista1"
      ],
      "metadata": {
        "colab": {
          "base_uri": "https://localhost:8080/"
        },
        "id": "LQN_Hyx06S2d",
        "outputId": "7025ba50-5181-4dc0-9219-807e716a7ac5"
      },
      "execution_count": null,
      "outputs": [
        {
          "output_type": "execute_result",
          "data": {
            "text/plain": [
              "[105, 12, 5, 4, 1]"
            ]
          },
          "metadata": {},
          "execution_count": 57
        }
      ]
    },
    {
      "cell_type": "code",
      "source": [],
      "metadata": {
        "id": "5H61RHNF6Slf"
      },
      "execution_count": null,
      "outputs": []
    },
    {
      "cell_type": "code",
      "source": [
        "lista1.sort(reverse=True)\n",
        "print(lista1)"
      ],
      "metadata": {
        "colab": {
          "base_uri": "https://localhost:8080/"
        },
        "id": "aWLMyasd20c4",
        "outputId": "926ed925-f4ea-41d9-d758-d99bf4a16feb"
      },
      "execution_count": null,
      "outputs": [
        {
          "output_type": "stream",
          "name": "stdout",
          "text": [
            "[105, 12, 5, 4, 1]\n"
          ]
        }
      ]
    },
    {
      "cell_type": "code",
      "source": [
        "lista1.sort()\n",
        "lista1.reverse()\n",
        "print(lista1)"
      ],
      "metadata": {
        "colab": {
          "base_uri": "https://localhost:8080/"
        },
        "id": "1XWIcYSV2i8M",
        "outputId": "89dff2bd-4f8b-4121-da6e-473260b8a3fa"
      },
      "execution_count": null,
      "outputs": [
        {
          "output_type": "stream",
          "name": "stdout",
          "text": [
            "[105, 12, 5, 4, 1]\n"
          ]
        }
      ]
    },
    {
      "cell_type": "markdown",
      "source": [
        "## **3.2 Tuplas**"
      ],
      "metadata": {
        "id": "a8vMlED-bXl7"
      }
    },
    {
      "cell_type": "markdown",
      "source": [
        "Una tupla es similar a una lista, solo que es inmutable, es decir que sus valores no se pueden modificar.\n",
        "\n",
        "```\n",
        "mi_tupla = ( 'estudiante' , 15 , False )\n",
        "```\n",
        "\n",
        "Para crear una tupla, basta con poner elementos entre **( )** (paréntesis) y separarlas con **,** (comas).\n",
        "\n",
        "* Acceder a cada elemento se hace del mismo modo que con las listas. \n",
        "* Dado que las tuplas son inmutables no poseen métodos como append() , pop() , remove() o cualquiera que intente modificar la tupla. Veamos que sucede si intentamos hacerlo:"
      ],
      "metadata": {
        "id": "7xO-kcPsbhET"
      }
    },
    {
      "cell_type": "code",
      "source": [
        "print(\"Creando una Tupla. Notese el uso de paréntesis ()\")\n",
        "tupla_1 = (\"Alan Turing\" , \"programación\" , 20)\n",
        "print(tupla_1[0])\n",
        "print(tupla_1[1])\n",
        "print(tupla_1[2])\n",
        "print(tupla_1[:2])"
      ],
      "metadata": {
        "colab": {
          "base_uri": "https://localhost:8080/"
        },
        "id": "2S__yqOPbcWb",
        "outputId": "184fd783-4e64-4fdf-a825-7adebd513ef5"
      },
      "execution_count": null,
      "outputs": [
        {
          "output_type": "stream",
          "name": "stdout",
          "text": [
            "Creando una Tupla. Notese el uso de paréntesis ()\n",
            "Alan Turing\n",
            "programación\n",
            "20\n",
            "('Alan Turing', 'programación')\n"
          ]
        }
      ]
    },
    {
      "cell_type": "code",
      "source": [
        "tupla_inmutable = ('Hola',13,'Elemento')"
      ],
      "metadata": {
        "id": "_EsyDLdxbpGa"
      },
      "execution_count": null,
      "outputs": []
    },
    {
      "cell_type": "markdown",
      "source": [
        "## **3.3 Diccionarios**"
      ],
      "metadata": {
        "id": "TNIpI2nSbusL"
      }
    },
    {
      "cell_type": "markdown",
      "source": [
        "Almacenan cualquier tipo de dato. A cada valor se le asigna una clave (o key), es decir que no hay numeración.\n",
        "\n",
        "```\n",
        "mi_diccionario = {'nombre' : 'Carlos', 'promedio' : 18, 'clases': ['Python','R','estadística'] }\n",
        "```"
      ],
      "metadata": {
        "id": "zJqWal7rcysM"
      }
    },
    {
      "cell_type": "code",
      "source": [],
      "metadata": {
        "id": "uLTW-cps98cG"
      },
      "execution_count": null,
      "outputs": []
    },
    {
      "cell_type": "code",
      "source": [
        "usuario = ['Carlos',12345678, ['Python','Álgebra','Economía']]"
      ],
      "metadata": {
        "id": "omXQy3bG-IXC"
      },
      "execution_count": null,
      "outputs": []
    },
    {
      "cell_type": "code",
      "source": [
        "#Definir diccionario\n",
        "usuario_dic = {\n",
        "                 'usuario' : 'Carlos', \n",
        "                 'DNI'     : 12345678, \n",
        "                 'cursos'  : ['Python','Álgebra','Economía'] \n",
        "                }"
      ],
      "metadata": {
        "id": "XKEWn7lede1j"
      },
      "execution_count": null,
      "outputs": []
    },
    {
      "cell_type": "markdown",
      "source": [
        "### **3.3.1 Acceder y modificar**"
      ],
      "metadata": {
        "id": "tcJXJ_gzgOmV"
      }
    },
    {
      "cell_type": "code",
      "source": [
        "#Se accede a cada elemento del siguiente modo.\n",
        "print(usuario_dic['usuario'])\n",
        "print(usuario_dic['DNI'])\n",
        "print(usuario_dic['cursos'])\n",
        "#Observe que la clave 'cursos' nos muestra una lista. Por lo que podemos \n",
        "#acceder a cada elemento de la lista del siguiente modo:\n",
        "print(usuario_dic['cursos'][0])\n",
        "print(usuario_dic['cursos'][1])\n",
        "print(usuario_dic['cursos'][2])"
      ],
      "metadata": {
        "colab": {
          "base_uri": "https://localhost:8080/"
        },
        "id": "w1_aMndYc6cj",
        "outputId": "5c91fd12-6532-4ba1-8f7b-e269dbf151c1"
      },
      "execution_count": null,
      "outputs": [
        {
          "output_type": "stream",
          "name": "stdout",
          "text": [
            "Carlos\n",
            "12345678\n",
            "['Python', 'Álgebra', 'Economía']\n",
            "Python\n",
            "Álgebra\n",
            "Economía\n"
          ]
        }
      ]
    },
    {
      "cell_type": "code",
      "source": [
        "usuario_dic[\"usuario\"] = \"Pedro\"\n",
        "print(usuario_dic)"
      ],
      "metadata": {
        "colab": {
          "base_uri": "https://localhost:8080/"
        },
        "id": "aBJ9kcZrgS70",
        "outputId": "409cd801-2a09-49d1-92ef-e0325c070b35"
      },
      "execution_count": null,
      "outputs": [
        {
          "output_type": "stream",
          "name": "stdout",
          "text": [
            "{'usuario': 'Pedro', 'DNI': 12345678, 'cursos': ['Python', 'Álgebra', 'Economía']}\n"
          ]
        }
      ]
    },
    {
      "cell_type": "code",
      "source": [
        "d = dict()\n",
        "d[\"Alumno\"]  = \"Juan\"\n",
        "d[\"Nota\"]  = 15\n",
        "d\n"
      ],
      "metadata": {
        "colab": {
          "base_uri": "https://localhost:8080/"
        },
        "id": "yvSyxCJd-wR2",
        "outputId": "389a6bc9-37cf-4be2-e0be-625c6cb5827a"
      },
      "execution_count": null,
      "outputs": [
        {
          "output_type": "execute_result",
          "data": {
            "text/plain": [
              "{'Alumno': 'Juan', 'Nota': 15}"
            ]
          },
          "metadata": {},
          "execution_count": 67
        }
      ]
    },
    {
      "cell_type": "markdown",
      "source": [
        "### **3.3.2 Iterar diccionario**\n"
      ],
      "metadata": {
        "id": "L_5vSsyvgG4O"
      }
    },
    {
      "cell_type": "code",
      "source": [
        "for clave in usuario_dic:\n",
        "    print(clave)"
      ],
      "metadata": {
        "colab": {
          "base_uri": "https://localhost:8080/"
        },
        "id": "vNZMs6RUfGqE",
        "outputId": "bcc85266-3c13-4a34-c78d-46059cf9aa03"
      },
      "execution_count": null,
      "outputs": [
        {
          "output_type": "stream",
          "name": "stdout",
          "text": [
            "usuario\n",
            "DNI\n",
            "cursos\n"
          ]
        }
      ]
    },
    {
      "cell_type": "code",
      "source": [
        "for clave in usuario_dic:\n",
        "    print(usuario_dic[clave])"
      ],
      "metadata": {
        "colab": {
          "base_uri": "https://localhost:8080/"
        },
        "id": "f_V5RX-DfL6r",
        "outputId": "baae1cfd-e422-43de-a8de-e498da04e1a1"
      },
      "execution_count": null,
      "outputs": [
        {
          "output_type": "stream",
          "name": "stdout",
          "text": [
            "Pedro\n",
            "12345678\n",
            "['Python', 'Álgebra', 'Economía']\n"
          ]
        }
      ]
    },
    {
      "cell_type": "code",
      "source": [
        "for clave, valor in usuario_dic.items():\n",
        "    print(clave, valor)"
      ],
      "metadata": {
        "colab": {
          "base_uri": "https://localhost:8080/"
        },
        "id": "vUuHS9wPfbmn",
        "outputId": "f47c99ee-a88b-47cb-b975-d0e5dca7b486"
      },
      "execution_count": null,
      "outputs": [
        {
          "output_type": "stream",
          "name": "stdout",
          "text": [
            "usuario Pedro\n",
            "DNI 12345678\n",
            "cursos ['Python', 'Álgebra', 'Economía']\n"
          ]
        }
      ]
    },
    {
      "cell_type": "markdown",
      "source": [
        "### **3.3.3 Diccionarios anidados**\n"
      ],
      "metadata": {
        "id": "WDxc7j6FgAi5"
      }
    },
    {
      "cell_type": "code",
      "source": [
        "alumno1 = {\"nombre\": \"Juan\" , \"Nota\": 18}\n",
        "alumno2 = {\"nombre\": \"Pedro\", \"Nota\": 12}\n",
        "clase = {\n",
        "  \"alumno1\" : alumno1,\n",
        "  \"alumno2\" : alumno2\n",
        "}\n",
        "clase"
      ],
      "metadata": {
        "colab": {
          "base_uri": "https://localhost:8080/"
        },
        "id": "6WYLBxEYfkbh",
        "outputId": "d5c314fb-55f4-441a-f996-39119e6d3e46"
      },
      "execution_count": null,
      "outputs": [
        {
          "output_type": "execute_result",
          "data": {
            "text/plain": [
              "{'alumno1': {'nombre': 'Juan', 'Nota': 18},\n",
              " 'alumno2': {'nombre': 'Pedro', 'Nota': 12}}"
            ]
          },
          "metadata": {},
          "execution_count": 72
        }
      ]
    },
    {
      "cell_type": "markdown",
      "source": [
        "## **3.4  Conjuntos (SET)**"
      ],
      "metadata": {
        "id": "CMC6stUVg2Sr"
      }
    },
    {
      "cell_type": "markdown",
      "source": [
        "Un conjunto es una colección de **datos no ordenada** y no presenta  elementos repetidos. \n",
        "\n",
        "Se comportan del mismo modo que los conjuntos utilizados en matemáticas y lógica.\n",
        "\n",
        "Para crear un conjunto, basta con poner elementos entre **{ }** (**llaves**) y separarlas con **,** (**comas**).\n",
        "\n",
        "```\n",
        "mi_conjunto = {0 , 2 , 4 , 6 , 8 , 10 }\n",
        "```\n",
        "\n",
        "\n",
        "**OJO:** Ya que no existe un índice que caracterice a cada elemento de un conjunto, no es posible acceder a los elementos del modo tradicional. Sin embargo, es posible hacerlo utilizando un bucle, esto lo veremos más adelante. \n",
        "\n",
        "Exploraremos los métodos correspondientes a los conjuntos:"
      ],
      "metadata": {
        "id": "8OjVN_61kQKl"
      }
    },
    {
      "cell_type": "code",
      "source": [
        "mi_conjunto = {2,3,5,7,11} #set()\n",
        "print(mi_conjunto)\n",
        "mi_conjunto.add(13)   #Añadir el elemento 13\n",
        "print(mi_conjunto)    #Mostrar el nuevo conjunto\n",
        "mi_conjunto.remove(5) #Remover el elemento 5\n",
        "print(mi_conjunto)    #Mostrar el nuevo conjunto\n",
        "mi_conjunto.discard(5) #Remover el elemento 5\n",
        "print(mi_conjunto)  \n",
        "mi_conjunto.clear()   #Vaciar los elementos del conjunto\n",
        "print(mi_conjunto)    #Mostar nuevo conjunto"
      ],
      "metadata": {
        "id": "-Ce4RmXHg6cj"
      },
      "execution_count": null,
      "outputs": []
    },
    {
      "cell_type": "code",
      "source": [
        "mi_conjunto = {2,3,5,7,11} #set()\n",
        "print(mi_conjunto)"
      ],
      "metadata": {
        "colab": {
          "base_uri": "https://localhost:8080/"
        },
        "id": "B2DgprPjBnzI",
        "outputId": "0ad7b8c9-b40a-41bd-b9fe-b32bd0dad1f6"
      },
      "execution_count": null,
      "outputs": [
        {
          "output_type": "stream",
          "name": "stdout",
          "text": [
            "{2, 3, 5, 7, 11}\n"
          ]
        }
      ]
    },
    {
      "cell_type": "code",
      "source": [
        "mi_conjunto.add(13) \n",
        "print(mi_conjunto)"
      ],
      "metadata": {
        "colab": {
          "base_uri": "https://localhost:8080/"
        },
        "id": "ObVdg8XaBslx",
        "outputId": "34bff84b-b1ac-4046-eb74-0952c01f7083"
      },
      "execution_count": null,
      "outputs": [
        {
          "output_type": "stream",
          "name": "stdout",
          "text": [
            "{2, 3, 5, 7, 11, 13}\n"
          ]
        }
      ]
    },
    {
      "cell_type": "code",
      "source": [
        "mi_conjunto.add(13) \n",
        "print(mi_conjunto)"
      ],
      "metadata": {
        "colab": {
          "base_uri": "https://localhost:8080/"
        },
        "id": "4iaMmB4WByde",
        "outputId": "793149d8-f140-4822-e693-6ba4bcc27d56"
      },
      "execution_count": null,
      "outputs": [
        {
          "output_type": "stream",
          "name": "stdout",
          "text": [
            "{2, 3, 5, 7, 11, 13}\n"
          ]
        }
      ]
    },
    {
      "cell_type": "code",
      "source": [
        "lista1 = [12, 14, 15, 16]\n",
        "lista2 = [16, 14, 56, 16]"
      ],
      "metadata": {
        "id": "tN3Evt4yB2q0"
      },
      "execution_count": null,
      "outputs": []
    },
    {
      "cell_type": "code",
      "source": [
        "set1 = set(lista1)\n",
        "set2 = set(lista2)\n",
        "set3 = set1.intersection(set2)\n",
        "inter = list(set3)\n",
        "inter2 = sorted(inter)\n"
      ],
      "metadata": {
        "id": "-tjgmrSlCDfS"
      },
      "execution_count": null,
      "outputs": []
    },
    {
      "cell_type": "code",
      "source": [],
      "metadata": {
        "id": "oYh5zBkgFxLr"
      },
      "execution_count": null,
      "outputs": []
    },
    {
      "cell_type": "code",
      "source": [
        "mi_conjunto = {2,3,5,7,11}\n",
        "print(mi_conjunto)\n",
        "mi_conjunto.add(13)   \n",
        "print(mi_conjunto)\n",
        "mi_conjunto.add(13)   \n",
        "print(mi_conjunto)\n",
        "mi_conjunto.add(13)   \n",
        "print(mi_conjunto)"
      ],
      "metadata": {
        "colab": {
          "base_uri": "https://localhost:8080/"
        },
        "id": "y8vyZF8r9Wgy",
        "outputId": "786dd524-bae3-4988-d313-3b631c9ca520"
      },
      "execution_count": null,
      "outputs": [
        {
          "output_type": "stream",
          "name": "stdout",
          "text": [
            "{2, 3, 5, 7, 11}\n",
            "{2, 3, 5, 7, 11, 13}\n",
            "{2, 3, 5, 7, 11, 13}\n",
            "{2, 3, 5, 7, 11, 13}\n"
          ]
        }
      ]
    },
    {
      "cell_type": "markdown",
      "source": [
        "Convertir listas a tuplas o conjuntos y viceversa"
      ],
      "metadata": {
        "id": "gPKucyDJ9lfi"
      }
    },
    {
      "cell_type": "code",
      "source": [
        "lista = [2,4,5]\n",
        "print(type(lista))"
      ],
      "metadata": {
        "colab": {
          "base_uri": "https://localhost:8080/"
        },
        "id": "lKkbubxG9jEK",
        "outputId": "3db96354-5f8c-4e7a-c70e-744ae0b0910b"
      },
      "execution_count": null,
      "outputs": [
        {
          "output_type": "stream",
          "name": "stdout",
          "text": [
            "<class 'list'>\n"
          ]
        }
      ]
    },
    {
      "cell_type": "code",
      "source": [
        "tupla = tuple(lista)\n",
        "print(type(tupla))\n",
        "print(tupla)"
      ],
      "metadata": {
        "colab": {
          "base_uri": "https://localhost:8080/"
        },
        "id": "wWg2TRW79xwz",
        "outputId": "55524a56-e207-46eb-8cb5-5e95773a6f5a"
      },
      "execution_count": null,
      "outputs": [
        {
          "output_type": "stream",
          "name": "stdout",
          "text": [
            "<class 'tuple'>\n",
            "(2, 4, 5)\n"
          ]
        }
      ]
    },
    {
      "cell_type": "code",
      "source": [
        "conjun = set(lista)\n",
        "print(conjun)"
      ],
      "metadata": {
        "colab": {
          "base_uri": "https://localhost:8080/"
        },
        "id": "wWsViL7497Fi",
        "outputId": "0b65d739-dc4e-4001-f61c-7f1dd9687de3"
      },
      "execution_count": null,
      "outputs": [
        {
          "output_type": "stream",
          "name": "stdout",
          "text": [
            "{2, 4, 5}\n"
          ]
        }
      ]
    },
    {
      "cell_type": "code",
      "source": [
        "lista = list(conjun)\n",
        "print(lista)"
      ],
      "metadata": {
        "colab": {
          "base_uri": "https://localhost:8080/"
        },
        "id": "CvtnRxqx-GPb",
        "outputId": "49610899-d36e-4950-b3ed-9fba3db90721"
      },
      "execution_count": null,
      "outputs": [
        {
          "output_type": "stream",
          "name": "stdout",
          "text": [
            "[2, 4, 5]\n"
          ]
        }
      ]
    },
    {
      "cell_type": "code",
      "source": [
        "# como eliminar los elementos repetidos de una lista \n",
        "# [2,4,4,4,4,5,6,7,8]\n",
        "lista = [2,4,4,4,4,5,6,7,7,7,7,8,8,8,8,9,8]\n",
        "#conju = set(lista)\n",
        "#lista = list(conju)\n",
        "lista = list(set(lista))\n",
        "print(lista)"
      ],
      "metadata": {
        "colab": {
          "base_uri": "https://localhost:8080/"
        },
        "id": "Pxla9CRR-Q8K",
        "outputId": "b442ca61-def3-46e5-aa45-5e8cc065ae47"
      },
      "execution_count": null,
      "outputs": [
        {
          "output_type": "stream",
          "name": "stdout",
          "text": [
            "[2, 4, 5, 6, 7, 8, 9]\n"
          ]
        }
      ]
    },
    {
      "cell_type": "code",
      "source": [
        "mi_conjunto = {2,3,5,7,11}\n",
        "for elem in mi_conjunto:\n",
        "    print(elem)"
      ],
      "metadata": {
        "colab": {
          "base_uri": "https://localhost:8080/"
        },
        "id": "amuN5Iq3kwAa",
        "outputId": "91821194-3abf-4cd6-96ad-17438f319402"
      },
      "execution_count": null,
      "outputs": [
        {
          "output_type": "stream",
          "name": "stdout",
          "text": [
            "2\n",
            "3\n",
            "5\n",
            "7\n",
            "11\n"
          ]
        }
      ]
    },
    {
      "cell_type": "markdown",
      "source": [
        "Dado que los conjuntos poseen las mismas características de los estudiados en matemáticas y lógica, se pueden realizar las mismas operaciones como la **intersección**, **unión**, **diferencia** o **diferencia simétrica**. Definiremos 2 conjuntos y aplicaremos estas operaciones. Los conjuntos a definir serán las clases que llevan los estudiantes de ingenierías y los de derecho."
      ],
      "metadata": {
        "id": "vZuY3Tz6lGps"
      }
    },
    {
      "cell_type": "code",
      "source": [
        "ingenieria = {'álgebra','programación','historia','química','inglés'}\n",
        "derecho = {'inglés','derecho civil','filosofía','álgebra','economía'}\n",
        "\n",
        "print('Clases de ingeniería: ', ingenieria)\n",
        "print('Clases de derecho: ',derecho)\n",
        "print('Intersección: ',ingenieria.intersection(derecho)) #Elementos en común\n",
        "print('Union: ', ingenieria.union(derecho)) #Unión de todos los elementos\n",
        "print('Diferencia: ',ingenieria.difference(derecho)) #Elementos en ingeniería pero no en derecho\n",
        "print('Diferencia: ',derecho.difference(ingenieria)) #Elementos en derecho pero no en ingeniería\n",
        "print('Diferencia simétrica: ',ingenieria.symmetric_difference(derecho)) #Todos los elementos excepto la intersección"
      ],
      "metadata": {
        "colab": {
          "base_uri": "https://localhost:8080/"
        },
        "id": "HykhJL_5lHM6",
        "outputId": "8914eef7-7cb2-4d1a-df02-317c2269a26f"
      },
      "execution_count": null,
      "outputs": [
        {
          "output_type": "stream",
          "name": "stdout",
          "text": [
            "Clases de ingeniería:  {'álgebra', 'programación', 'inglés', 'química', 'historia'}\n",
            "Clases de derecho:  {'álgebra', 'filosofía', 'economía', 'derecho civil', 'inglés'}\n",
            "Intersección:  {'álgebra', 'inglés'}\n",
            "Union:  {'álgebra', 'filosofía', 'programación', 'economía', 'derecho civil', 'inglés', 'química', 'historia'}\n",
            "Diferencia:  {'historia', 'programación', 'química'}\n",
            "Diferencia:  {'derecho civil', 'filosofía', 'economía'}\n",
            "Diferencia simétrica:  {'derecho civil', 'química', 'historia', 'filosofía', 'programación', 'economía'}\n"
          ]
        }
      ]
    }
  ]
}