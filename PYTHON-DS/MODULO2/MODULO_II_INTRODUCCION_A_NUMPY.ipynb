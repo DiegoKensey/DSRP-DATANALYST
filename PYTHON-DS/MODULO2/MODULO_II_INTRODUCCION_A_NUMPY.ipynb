{
  "nbformat": 4,
  "nbformat_minor": 0,
  "metadata": {
    "colab": {
      "provenance": [],
      "collapsed_sections": []
    },
    "kernelspec": {
      "name": "python3",
      "display_name": "Python 3"
    }
  },
  "cells": [
    {
      "cell_type": "markdown",
      "source": [
        "---\n",
        "<img src=\"https://drive.google.com/uc?export=view&id=1JCDDTcxG2ez_sXTKSulwpZbgQPud9yba\" height=320 width = 410>\n",
        "\n",
        "---"
      ],
      "metadata": {
        "id": "YzD6zWYouqyD"
      }
    },
    {
      "cell_type": "markdown",
      "metadata": {
        "id": "KQWHpRmPz2rM"
      },
      "source": [
        " <img src=\"https://upload.wikimedia.org/wikipedia/commons/thumb/1/1a/NumPy_logo.svg/1163px-NumPy_logo.svg.png\" alt=\"Simply Easy Learning\" width=\"300\" \n",
        "         height=\"120\">"
      ]
    },
    {
      "cell_type": "markdown",
      "metadata": {
        "id": "NMiqqw5704fK"
      },
      "source": [
        "**NumPy** es un paquete de Python que significa “Numerical Python”, es la librería principal para la informática científica, proporciona potentes estructuras de datos, implementando matrices y matrices multidimensionales. Estas estructuras de datos garantizan cálculos eficientes con matrices"
      ]
    },
    {
      "cell_type": "code",
      "source": [
        "import numpy as np"
      ],
      "metadata": {
        "id": "fhA9hzNsVqvJ"
      },
      "execution_count": 1,
      "outputs": []
    },
    {
      "cell_type": "code",
      "source": [
        "arr   = np.array([1, 2, 3, 4])"
      ],
      "metadata": {
        "id": "6Xpz4MR-3SWZ"
      },
      "execution_count": null,
      "outputs": []
    },
    {
      "cell_type": "code",
      "source": [
        "arr2 = arr[:2]\n",
        "arr2 = 6\n",
        "print(arr)"
      ],
      "metadata": {
        "colab": {
          "base_uri": "https://localhost:8080/"
        },
        "id": "XHfu_Ozc3NgB",
        "outputId": "7d438d05-9686-43ae-8183-3642af0d3eaa"
      },
      "execution_count": null,
      "outputs": [
        {
          "output_type": "stream",
          "name": "stdout",
          "text": [
            "[1 2 3 4]\n"
          ]
        }
      ]
    },
    {
      "cell_type": "markdown",
      "source": [
        "# **1. Numpy Básico**"
      ],
      "metadata": {
        "id": "gKJZQhptVdvi"
      }
    },
    {
      "cell_type": "markdown",
      "source": [
        "## **1.1 Crear una matriz en Numpy**\n"
      ],
      "metadata": {
        "id": "mdy9SnCDViJA"
      }
    },
    {
      "cell_type": "code",
      "source": [
        "lista1 = [0,1,2,3,4]\n",
        "arr1d = np.array(lista1)\n",
        "print(arr1d)\n",
        "print(type(arr1d))"
      ],
      "metadata": {
        "colab": {
          "base_uri": "https://localhost:8080/"
        },
        "id": "V4Z7tF_BVoK4",
        "outputId": "008f1af6-88cf-458a-f8eb-e3002515db0e"
      },
      "execution_count": null,
      "outputs": [
        {
          "output_type": "stream",
          "name": "stdout",
          "text": [
            "[0 1 2 3 4]\n",
            "<class 'numpy.ndarray'>\n"
          ]
        }
      ]
    },
    {
      "cell_type": "markdown",
      "source": [
        "La diferencia clave entre una matriz y una lista es que las matrices están diseñadas para manejar operaciones vectorizadas, mientras que una lista de python no lo está.\n",
        "\n",
        "Eso significa que, si aplica una función, se realiza en cada elemento de la matriz, en lugar de en todo el objeto de la matriz.\n",
        "\n",
        "Supongamos que desea agregar el número 2 a cada elemento de la lista. La forma intuitiva de hacerlo es algo como esto:\n"
      ],
      "metadata": {
        "id": "Z5riecSgVhbH"
      }
    },
    {
      "cell_type": "code",
      "source": [
        "arr1d = np.random.randint(1, 100, 10**7)\n",
        "lista1 = list(arr1d)"
      ],
      "metadata": {
        "id": "w36iXOJSs70F"
      },
      "execution_count": null,
      "outputs": []
    },
    {
      "cell_type": "code",
      "source": [
        "%%time\n",
        "for i in range(len(lista1)):\n",
        "  lista1[i]  = lista1[i]+2"
      ],
      "metadata": {
        "colab": {
          "base_uri": "https://localhost:8080/"
        },
        "id": "euxXjECKV4Gz",
        "outputId": "14604904-2f3a-4642-b031-66f418b0174b"
      },
      "execution_count": null,
      "outputs": [
        {
          "output_type": "stream",
          "name": "stdout",
          "text": [
            "CPU times: user 3.21 s, sys: 5.39 ms, total: 3.22 s\n",
            "Wall time: 3.22 s\n"
          ]
        }
      ]
    },
    {
      "cell_type": "markdown",
      "source": [
        "Eso no era posible con una lista. Pero puedes hacer eso en un ndarray.\n",
        "\n"
      ],
      "metadata": {
        "id": "z7uSyWlkWMdM"
      }
    },
    {
      "cell_type": "code",
      "source": [
        "%%time\n",
        "arr1d=arr1d + 2 "
      ],
      "metadata": {
        "colab": {
          "base_uri": "https://localhost:8080/"
        },
        "id": "dUF3YFitWKC3",
        "outputId": "a2135ca2-5953-48f8-b5b8-d7b444ac6fc0"
      },
      "execution_count": null,
      "outputs": [
        {
          "output_type": "stream",
          "name": "stdout",
          "text": [
            "CPU times: user 11.9 ms, sys: 24.2 ms, total: 36.1 ms\n",
            "Wall time: 36.5 ms\n"
          ]
        }
      ]
    },
    {
      "cell_type": "markdown",
      "source": [
        "Otra característica es que, una vez que se crea una matriz numpy, no puede aumentar su tamaño. Para hacerlo, deberá crear una nueva matriz. Pero tal comportamiento de extender el tamaño es natural en una lista.\n",
        "Sin embargo, hay muchas más ventajas. Vamos a averiguar.\n",
        "\n",
        "Entonces, eso es aproximadamente una matriz 1d. También puede pasar una lista de listas para crear una matriz como una matriz 2d."
      ],
      "metadata": {
        "id": "Bv_ismbwWSwY"
      }
    },
    {
      "cell_type": "code",
      "source": [
        "# Create a 2d array from a list of lists\n",
        "lista2 = [[ 0 , 1 , 2 ], [ 3 , 4 , 5 ], [ 6 , 7 , 8 ]] \n",
        "arr2d = np.array(lista2)\n",
        "arr2d"
      ],
      "metadata": {
        "colab": {
          "base_uri": "https://localhost:8080/"
        },
        "id": "dsRkaITIWUBf",
        "outputId": "3cc327a1-999e-4ee8-f74f-16927bf24df7"
      },
      "execution_count": null,
      "outputs": [
        {
          "output_type": "execute_result",
          "data": {
            "text/plain": [
              "array([[0, 1, 2],\n",
              "       [3, 4, 5],\n",
              "       [6, 7, 8]])"
            ]
          },
          "metadata": {},
          "execution_count": 17
        }
      ]
    },
    {
      "cell_type": "code",
      "source": [
        "# 4 5 6\n",
        "# 8 9 10\n",
        "# 1 1  1\n",
        "lista = [[4,5,6] ,[8,9,10] , [1,1,1] ]\n",
        "arr2d = np.array(lista)\n",
        "print(arr2d)\n",
        "print(arr2d.dtype)"
      ],
      "metadata": {
        "colab": {
          "base_uri": "https://localhost:8080/"
        },
        "id": "EWBzm7fOyuLQ",
        "outputId": "0ce5eeea-6ec4-4e85-9029-a9b03c375396"
      },
      "execution_count": null,
      "outputs": [
        {
          "output_type": "stream",
          "name": "stdout",
          "text": [
            "[[ 4  5  6]\n",
            " [ 8  9 10]\n",
            " [ 1  1  1]]\n",
            "int64\n"
          ]
        }
      ]
    },
    {
      "cell_type": "markdown",
      "source": [
        "También puede especificar el tipo de datos configurando el argumento dtype. Algunos de los tipos de numpy más utilizados son: \n",
        "`'float', 'int', 'bool', 'str' and 'object'`\n",
        "Para controlar las asignaciones de memoria, puede elegir usar uno de `'float32',` `'float64', 'int8', 'int16' o 'int32'.`"
      ],
      "metadata": {
        "id": "8vqjgyP8WgLD"
      }
    },
    {
      "cell_type": "code",
      "source": [
        "# Create a float 2d array\n",
        "arr2d_f = np.array(lista, dtype='float')\n",
        "arr2d_f\n",
        "print(arr2d_f)"
      ],
      "metadata": {
        "colab": {
          "base_uri": "https://localhost:8080/"
        },
        "id": "sBL1_Hf9WslX",
        "outputId": "df2d5a59-6172-4173-e47b-ab69ecdc8d86"
      },
      "execution_count": null,
      "outputs": [
        {
          "output_type": "stream",
          "name": "stdout",
          "text": [
            "[[ 4.  5.  6.]\n",
            " [ 8.  9. 10.]\n",
            " [ 1.  1.  1.]]\n"
          ]
        }
      ]
    },
    {
      "cell_type": "markdown",
      "source": [
        "El punto decimal después de cada número es indicativo del tipo de datos flotante. También puede convertirlo a un tipo de datos diferente usando el `astype `método."
      ],
      "metadata": {
        "id": "lUD33AWtWxwf"
      }
    },
    {
      "cell_type": "code",
      "source": [
        "arr2d_f.astype('int')"
      ],
      "metadata": {
        "colab": {
          "base_uri": "https://localhost:8080/"
        },
        "id": "m9vVsQb1W3kn",
        "outputId": "1f73e20d-bdd0-40bd-d96b-d86603735886"
      },
      "execution_count": null,
      "outputs": [
        {
          "output_type": "execute_result",
          "data": {
            "text/plain": [
              "array([[ 4,  5,  6],\n",
              "       [ 8,  9, 10],\n",
              "       [ 1,  1,  1]])"
            ]
          },
          "metadata": {},
          "execution_count": 31
        }
      ]
    },
    {
      "cell_type": "code",
      "source": [
        "arr2d_f.astype('int').astype('str')"
      ],
      "metadata": {
        "colab": {
          "base_uri": "https://localhost:8080/"
        },
        "id": "km9MZmMrW8Bf",
        "outputId": "6cc84641-6f6d-4b15-d5fa-bd67da0f0774"
      },
      "execution_count": null,
      "outputs": [
        {
          "output_type": "execute_result",
          "data": {
            "text/plain": [
              "array([['4', '5', '6'],\n",
              "       ['8', '9', '10'],\n",
              "       ['1', '1', '1']], dtype='<U21')"
            ]
          },
          "metadata": {},
          "execution_count": 32
        }
      ]
    },
    {
      "cell_type": "code",
      "source": [
        "# Create a boolean array\n",
        "arr2d_b = np.array([1, 0, 10], dtype='bool')\n",
        "arr2d_b"
      ],
      "metadata": {
        "colab": {
          "base_uri": "https://localhost:8080/"
        },
        "id": "rXZzY0VPXISY",
        "outputId": "9b589f1b-4de5-439e-b092-b0f94b123058"
      },
      "execution_count": null,
      "outputs": [
        {
          "output_type": "execute_result",
          "data": {
            "text/plain": [
              "array([ True, False,  True])"
            ]
          },
          "metadata": {},
          "execution_count": 17
        }
      ]
    },
    {
      "cell_type": "markdown",
      "source": [
        "Una matriz numpy debe tener todos los elementos para ser del mismo tipo de datos, a diferencia de las listas. Esta es otra diferencia significativa.\n",
        "\n",
        "Sin embargo, si no está seguro de qué tipo de datos contendrá su matriz o si desea contener caracteres y números en la misma matriz, puede configurar dtype como `'object'.`"
      ],
      "metadata": {
        "id": "ljY1S7OtXB59"
      }
    },
    {
      "cell_type": "code",
      "source": [
        "arr1d_obj = np.array([1, 'a'], dtype='object')\n",
        "arr1d_obj"
      ],
      "metadata": {
        "colab": {
          "base_uri": "https://localhost:8080/"
        },
        "id": "o-Ec4V7GXP5Q",
        "outputId": "7c39e288-36f7-4afc-e386-4f619a8cfa86"
      },
      "execution_count": null,
      "outputs": [
        {
          "output_type": "execute_result",
          "data": {
            "text/plain": [
              "array([1, 'a'], dtype=object)"
            ]
          },
          "metadata": {},
          "execution_count": 18
        }
      ]
    },
    {
      "cell_type": "markdown",
      "source": [
        "Finalmente, siempre puede volver a convertir una matriz en una lista de python usando `.tolist()`\n",
        "\n",
        "En resumen, las principales diferencias con las listas de Python son:\n",
        "\n",
        "* Las matrices admiten operaciones vectorizadas, mientras que las listas no.\n",
        "* Una vez que se crea una matriz, no puede cambiar su tamaño. Deberá crear una nueva matriz o sobrescribir la existente.\n",
        "* Cada matriz tiene uno y solo un tipo de d. Todos los elementos que contiene deben ser de ese tipo.\n",
        "* Una matriz numpy equivalente ocupa mucho menos espacio que una lista de listas de Python.\n",
        "\n"
      ],
      "metadata": {
        "id": "l0yw1SngXVUz"
      }
    },
    {
      "cell_type": "markdown",
      "source": [
        "1.2 Inspeccionando las características de una matriz de Numpy\n",
        "* Si es una matriz 1D o 2D o más. (usar `ndim`)\n",
        "* Cuántos elementos están presentes en cada dimensión (use `shape`)\n",
        "* ¿Cuál es su tipo de datos (uso `dtype`)\n",
        "* ¿Cuál es el número total de elementos en él (uso `size`)\n",
        "* Muestras de los primeros elementos de la matriz (a través de la indexación)\n",
        "* Tamaño (en bytes) de cada elemento de una matriz NumPy (usa `itemsize`)"
      ],
      "metadata": {
        "id": "8EAMuGL1Xm53"
      }
    },
    {
      "cell_type": "code",
      "source": [
        "list2 = [[1, 2, 3, 4],[3, 4, 5, 6], [5, 6, 7, 8]]\n",
        "arr2 = np.array(list2, dtype='float')\n",
        "arr2"
      ],
      "metadata": {
        "colab": {
          "base_uri": "https://localhost:8080/"
        },
        "id": "_T5ZtiPMXWxL",
        "outputId": "cebfa140-57eb-47a5-cf6c-7d8b2447a8c5"
      },
      "execution_count": null,
      "outputs": [
        {
          "output_type": "execute_result",
          "data": {
            "text/plain": [
              "array([[1., 2., 3., 4.],\n",
              "       [3., 4., 5., 6.],\n",
              "       [5., 6., 7., 8.]])"
            ]
          },
          "metadata": {},
          "execution_count": 11
        }
      ]
    },
    {
      "cell_type": "code",
      "source": [
        "print('Shape: ', arr2.shape)\n",
        "print('Datatype: ', arr2.dtype)\n",
        "print('Size: ', arr2.size)\n",
        "print('Num Dimensions: ', arr2.ndim)\n",
        "print('Tamaño de elemento en bytes: ', arr2.itemsize)"
      ],
      "metadata": {
        "colab": {
          "base_uri": "https://localhost:8080/"
        },
        "id": "SUun_3zsX8op",
        "outputId": "e2942399-f99d-4a70-a62e-d30e4e5d44b2"
      },
      "execution_count": null,
      "outputs": [
        {
          "output_type": "stream",
          "name": "stdout",
          "text": [
            "Shape:  (3, 4)\n",
            "Datatype:  float64\n",
            "Size:  12\n",
            "Num Dimensions:  2\n",
            "Tamaño de elemento en bytes:  8\n"
          ]
        }
      ]
    },
    {
      "cell_type": "markdown",
      "source": [
        "## **1.2 Slicing**"
      ],
      "metadata": {
        "id": "5DpnWqXxYwLA"
      }
    },
    {
      "cell_type": "markdown",
      "source": [
        "Puede extraer porciones específicas en una matriz utilizando la indexación que comienza con 0, algo similar a lo que haría con las listas de python.\n",
        "\n",
        "Pero a diferencia de las listas, las matrices numpy pueden aceptar opcionalmente tantos parámetros entre corchetes como número de dimensiones."
      ],
      "metadata": {
        "id": "WJ2J6yucY8QY"
      }
    },
    {
      "cell_type": "code",
      "source": [
        "arr2"
      ],
      "metadata": {
        "colab": {
          "base_uri": "https://localhost:8080/"
        },
        "id": "WdDoCkXU08p9",
        "outputId": "7a0f3dcc-35b7-406f-8742-1a0ea656ae4e"
      },
      "execution_count": null,
      "outputs": [
        {
          "output_type": "execute_result",
          "data": {
            "text/plain": [
              "array([[1., 2., 3., 4.],\n",
              "       [3., 4., 5., 6.],\n",
              "       [5., 6., 7., 8.]])"
            ]
          },
          "metadata": {},
          "execution_count": 12
        }
      ]
    },
    {
      "cell_type": "code",
      "source": [
        "arr2[:,:]"
      ],
      "metadata": {
        "id": "rfolAfpl0--z",
        "colab": {
          "base_uri": "https://localhost:8080/"
        },
        "outputId": "add65dfc-5489-4384-8141-2f7de772f9c0"
      },
      "execution_count": null,
      "outputs": [
        {
          "output_type": "execute_result",
          "data": {
            "text/plain": [
              "array([[1., 2., 3., 4.],\n",
              "       [3., 4., 5., 6.],\n",
              "       [5., 6., 7., 8.]])"
            ]
          },
          "metadata": {},
          "execution_count": 13
        }
      ]
    },
    {
      "cell_type": "code",
      "source": [
        "arr2[:,2:]"
      ],
      "metadata": {
        "colab": {
          "base_uri": "https://localhost:8080/"
        },
        "id": "pGf_S8Vu17hA",
        "outputId": "fecfed59-4e50-4363-ff61-a09a4571de0d"
      },
      "execution_count": null,
      "outputs": [
        {
          "output_type": "execute_result",
          "data": {
            "text/plain": [
              "array([[3., 4.],\n",
              "       [5., 6.],\n",
              "       [7., 8.]])"
            ]
          },
          "metadata": {},
          "execution_count": 14
        }
      ]
    },
    {
      "cell_type": "code",
      "source": [],
      "metadata": {
        "id": "eZ-pLpbl17Iz"
      },
      "execution_count": null,
      "outputs": []
    },
    {
      "cell_type": "code",
      "source": [
        "arr2[:2, :2]\n",
        "list2[:2, :2]  # error"
      ],
      "metadata": {
        "id": "sofb0HvcY094"
      },
      "execution_count": null,
      "outputs": []
    },
    {
      "cell_type": "markdown",
      "source": [
        "Además, las matrices numpy admiten la indexación booleana.\n",
        "\n",
        "Una matriz de índice booleano tiene la misma forma que la matriz que se va a filtrar y solo contiene valores verdaderos y falsos. Los valores correspondientes a las posiciones verdaderas se conservan en la salida."
      ],
      "metadata": {
        "id": "MSY3WufJZF_P"
      }
    },
    {
      "cell_type": "code",
      "source": [
        "arr2"
      ],
      "metadata": {
        "colab": {
          "base_uri": "https://localhost:8080/"
        },
        "id": "QqvZbS9k3mok",
        "outputId": "086244da-5035-4a4d-f532-b5dc356ca3fb"
      },
      "execution_count": null,
      "outputs": [
        {
          "output_type": "execute_result",
          "data": {
            "text/plain": [
              "array([[1., 2., 3., 4.],\n",
              "       [3., 4., 5., 6.],\n",
              "       [5., 6., 7., 8.]])"
            ]
          },
          "metadata": {},
          "execution_count": 26
        }
      ]
    },
    {
      "cell_type": "code",
      "source": [
        "filtro = (arr2 > 4) & (arr2 <7)\n",
        "filtro"
      ],
      "metadata": {
        "colab": {
          "base_uri": "https://localhost:8080/"
        },
        "id": "UFPW6_xiZHSP",
        "outputId": "b4823172-614a-4bbe-f8c8-228cab2c4ad0"
      },
      "execution_count": null,
      "outputs": [
        {
          "output_type": "execute_result",
          "data": {
            "text/plain": [
              "array([[False, False, False, False],\n",
              "       [False, False,  True,  True],\n",
              "       [ True,  True, False, False]])"
            ]
          },
          "metadata": {},
          "execution_count": 40
        }
      ]
    },
    {
      "cell_type": "code",
      "source": [
        "arr2[filtro]"
      ],
      "metadata": {
        "colab": {
          "base_uri": "https://localhost:8080/"
        },
        "id": "0rYgxD5xZOGn",
        "outputId": "24f9cb90-7b03-4611-920f-217be918fea4"
      },
      "execution_count": null,
      "outputs": [
        {
          "output_type": "execute_result",
          "data": {
            "text/plain": [
              "array([5., 6., 5., 6.])"
            ]
          },
          "metadata": {},
          "execution_count": 38
        }
      ]
    },
    {
      "cell_type": "markdown",
      "source": [
        "Invertir una matriz funciona como lo haría con las listas, pero debe hacerlo para todos los ejes (dimensiones) si desea una inversión completa."
      ],
      "metadata": {
        "id": "EU5dFUAjZTOX"
      }
    },
    {
      "cell_type": "code",
      "source": [
        "arr2"
      ],
      "metadata": {
        "colab": {
          "base_uri": "https://localhost:8080/"
        },
        "id": "Etagml61ZZ8X",
        "outputId": "d81bb7a9-fcc5-4a51-a32e-d2ea0f12e000"
      },
      "execution_count": null,
      "outputs": [
        {
          "output_type": "execute_result",
          "data": {
            "text/plain": [
              "array([[1., 2., 3., 4.],\n",
              "       [3., 4., 5., 6.],\n",
              "       [5., 6., 7., 8.]])"
            ]
          },
          "metadata": {},
          "execution_count": 42
        }
      ]
    },
    {
      "cell_type": "code",
      "source": [
        "# Reverse only the row positions\n",
        "arr2[::-1, ]"
      ],
      "metadata": {
        "colab": {
          "base_uri": "https://localhost:8080/"
        },
        "id": "Kp8L06YdZQVA",
        "outputId": "f4536fca-1253-4eb4-e815-9ca3e40d9080"
      },
      "execution_count": null,
      "outputs": [
        {
          "output_type": "execute_result",
          "data": {
            "text/plain": [
              "array([[5., 6., 7., 8.],\n",
              "       [3., 4., 5., 6.],\n",
              "       [1., 2., 3., 4.]])"
            ]
          },
          "metadata": {},
          "execution_count": 43
        }
      ]
    },
    {
      "cell_type": "code",
      "source": [
        "# Reverse only the column positions\n",
        "arr2[:,::-1]"
      ],
      "metadata": {
        "colab": {
          "base_uri": "https://localhost:8080/"
        },
        "id": "34dXIPmxZmtv",
        "outputId": "474d9798-32f6-48d2-b4ca-a53447009a59"
      },
      "execution_count": null,
      "outputs": [
        {
          "output_type": "execute_result",
          "data": {
            "text/plain": [
              "array([[4., 3., 2., 1.],\n",
              "       [6., 5., 4., 3.],\n",
              "       [8., 7., 6., 5.]])"
            ]
          },
          "metadata": {},
          "execution_count": 45
        }
      ]
    },
    {
      "cell_type": "code",
      "source": [
        "np.fliplr(arr2)"
      ],
      "metadata": {
        "colab": {
          "base_uri": "https://localhost:8080/"
        },
        "id": "nypMlHk6Z2fH",
        "outputId": "3265dd9c-d439-42a7-8fc1-184d80c35520"
      },
      "execution_count": null,
      "outputs": [
        {
          "output_type": "execute_result",
          "data": {
            "text/plain": [
              "array([[4., 3., 2., 1.],\n",
              "       [6., 5., 4., 3.],\n",
              "       [8., 7., 6., 5.]])"
            ]
          },
          "metadata": {},
          "execution_count": 35
        }
      ]
    },
    {
      "cell_type": "code",
      "source": [
        "# Reverse the row and column positions\n",
        "arr2[::-1, ::-1]"
      ],
      "metadata": {
        "colab": {
          "base_uri": "https://localhost:8080/"
        },
        "id": "A_26B4U-Zfin",
        "outputId": "a6f881dd-fe3b-4b9d-a052-3c2b0c6c2222"
      },
      "execution_count": null,
      "outputs": [
        {
          "output_type": "execute_result",
          "data": {
            "text/plain": [
              "array([[8., 7., 6., 5.],\n",
              "       [6., 5., 4., 3.],\n",
              "       [4., 3., 2., 1.]])"
            ]
          },
          "metadata": {},
          "execution_count": 46
        }
      ]
    },
    {
      "cell_type": "markdown",
      "source": [
        "* Con una permutación"
      ],
      "metadata": {
        "id": "ahIROTvuaG5j"
      }
    },
    {
      "cell_type": "code",
      "source": [
        "print(arr2[:, [0, 2, 3, 1]])"
      ],
      "metadata": {
        "colab": {
          "base_uri": "https://localhost:8080/"
        },
        "id": "PHZmx6nKaI43",
        "outputId": "681054ae-483b-465e-fb8f-617ee7174d50"
      },
      "execution_count": null,
      "outputs": [
        {
          "output_type": "stream",
          "name": "stdout",
          "text": [
            "[[1. 3. 4. 2.]\n",
            " [3. 5. 6. 4.]\n",
            " [5. 7. 8. 6.]]\n"
          ]
        }
      ]
    },
    {
      "cell_type": "code",
      "source": [
        "print(arr2[[0, 2, 1], ])"
      ],
      "metadata": {
        "colab": {
          "base_uri": "https://localhost:8080/"
        },
        "id": "01eTc8mBauIP",
        "outputId": "6f500e9c-802a-4ed1-a0c4-878758e38640"
      },
      "execution_count": null,
      "outputs": [
        {
          "output_type": "stream",
          "name": "stdout",
          "text": [
            "[[1. 2. 3. 4.]\n",
            " [5. 6. 7. 8.]\n",
            " [3. 4. 5. 6.]]\n"
          ]
        }
      ]
    },
    {
      "cell_type": "markdown",
      "source": [
        "## **1.3 valores perdidos e infinitos**\n",
        "Los valores que faltan se pueden representar usando el objeto, mientras que np.inf representa infinito. Coloquemos algunos en arr2d.np.nan"
      ],
      "metadata": {
        "id": "cr1MeQLnbFFZ"
      }
    },
    {
      "cell_type": "code",
      "source": [
        "# Insert a nan and an inf\n",
        "arr2[1,1] = np.nan  # not a number\n",
        "arr2[1,2] = np.inf  # infinite\n",
        "arr2"
      ],
      "metadata": {
        "colab": {
          "base_uri": "https://localhost:8080/"
        },
        "id": "ZSy0LI6NbBuQ",
        "outputId": "1120f1a6-1d23-4df4-d624-e0af8262560f"
      },
      "execution_count": null,
      "outputs": [
        {
          "output_type": "execute_result",
          "data": {
            "text/plain": [
              "array([[ 1.,  2.,  3.,  4.],\n",
              "       [ 3., nan, inf,  6.],\n",
              "       [ 5.,  6.,  7.,  8.]])"
            ]
          },
          "metadata": {},
          "execution_count": 17
        }
      ]
    },
    {
      "cell_type": "code",
      "source": [
        "# Replace nan and inf with -1. Don't use arr2 == np.nan\n",
        "missing_bool = np.isnan(arr2) | np.isinf(arr2)\n",
        "arr2[missing_bool] = -1  \n",
        "arr2"
      ],
      "metadata": {
        "colab": {
          "base_uri": "https://localhost:8080/"
        },
        "id": "YZFJh3JwbNuP",
        "outputId": "d107ed96-82bf-498c-e69f-1fc727533f02"
      },
      "execution_count": null,
      "outputs": [
        {
          "output_type": "execute_result",
          "data": {
            "text/plain": [
              "array([[ 1.,  2.,  3.,  4.],\n",
              "       [ 3., -1., -1.,  6.],\n",
              "       [ 5.,  6.,  7.,  8.]])"
            ]
          },
          "metadata": {},
          "execution_count": 18
        }
      ]
    },
    {
      "cell_type": "markdown",
      "source": [
        "## **1.4 calcule la media, min, max en el ndarray**\n",
        "El ndarray tiene los métodos respectivos para calcular esto para toda la matriz.\n",
        "\n"
      ],
      "metadata": {
        "id": "Zg_j5g97bTaI"
      }
    },
    {
      "cell_type": "code",
      "source": [
        "arr2"
      ],
      "metadata": {
        "colab": {
          "base_uri": "https://localhost:8080/"
        },
        "id": "opEVIG1JbbQw",
        "outputId": "12cb8351-e4a4-4509-b3b9-6e8c8719c493"
      },
      "execution_count": null,
      "outputs": [
        {
          "output_type": "execute_result",
          "data": {
            "text/plain": [
              "array([[ 1.,  2.,  3.,  4.],\n",
              "       [ 3., -1., -1.,  6.],\n",
              "       [ 5.,  6.,  7.,  8.]])"
            ]
          },
          "metadata": {},
          "execution_count": 19
        }
      ]
    },
    {
      "cell_type": "code",
      "source": [
        "# mean, max and min\n",
        "print(\"Mean value is: \", arr2.mean())\n",
        "print(\"Max value is: \", arr2.max())\n",
        "print(\"Min value is: \", arr2.min())\n",
        "print(\"median value is: \", np.median(arr2))"
      ],
      "metadata": {
        "colab": {
          "base_uri": "https://localhost:8080/"
        },
        "id": "Z0KXcHNmbYzo",
        "outputId": "e2bff2c0-7519-4692-9878-115595e79ef7"
      },
      "execution_count": null,
      "outputs": [
        {
          "output_type": "stream",
          "name": "stdout",
          "text": [
            "Mean value is:  3.5833333333333335\n",
            "Max value is:  8.0\n",
            "Min value is:  -1.0\n",
            "median value is:  3.5\n"
          ]
        }
      ]
    },
    {
      "cell_type": "markdown",
      "source": [
        "Sin embargo, si desea calcular los valores mínimos por fila o por columna, use la versión `np.amin` en su lugar.\n"
      ],
      "metadata": {
        "id": "LOwMczxLbhr_"
      }
    },
    {
      "cell_type": "code",
      "source": [
        "print(\"Column wise minimum: \", np.amin(arr2, axis=0))\n",
        "print(\"Row wise minimum: \", np.amin(arr2, axis=1))\n",
        "print(\"Column wise max: \", np.amax(arr2, axis=0))\n",
        "print(\"Row wise max: \", np.amax(arr2, axis=1))\n",
        "print(\"Row wise mean: \", np.mean(arr2, axis=1))\n",
        "print(\"Column wise mean: \", np.mean(arr2, axis=0))\n",
        "print(\"Column median value is: \", np.median(arr2, axis = 0))\n",
        "print(\"Row median value is: \", np.median(arr2, axis = 1))"
      ],
      "metadata": {
        "colab": {
          "base_uri": "https://localhost:8080/"
        },
        "id": "212rvQnCbmRP",
        "outputId": "1fdd2bc2-bf07-4c6b-c7cb-baf24fd45192"
      },
      "execution_count": null,
      "outputs": [
        {
          "output_type": "stream",
          "name": "stdout",
          "text": [
            "Column wise minimum:  [ 1. -1. -1.  4.]\n",
            "Row wise minimum:  [ 1. -1.  5.]\n",
            "Column wise max:  [5. 6. 7. 8.]\n",
            "Row wise max:  [4. 6. 8.]\n",
            "Row wise mean:  [2.5  1.75 6.5 ]\n",
            "Column wise max:  [3.         2.33333333 3.         6.        ]\n",
            "Column median value is:  [3. 2. 3. 6.]\n",
            "Row median value is:  [2.5 1.  6.5]\n"
          ]
        }
      ]
    },
    {
      "cell_type": "markdown",
      "source": [
        "## **1.5 Crear una nueva matriz a partir de una matriz existente**"
      ],
      "metadata": {
        "id": "GTIkOEVPcUs8"
      }
    },
    {
      "cell_type": "markdown",
      "source": [
        "Si solo asigna una parte de una matriz a otra matriz, la nueva matriz que acaba de crear en realidad se refiere a la matriz principal en la memoria. Eso significa que, si realiza algún cambio en la nueva matriz, también se reflejará en la matriz principal. Entonces, para evitar perturbar la matriz principal, debe hacer una copia usando copy(). Todas las matrices numpy vienen con el método copy()."
      ],
      "metadata": {
        "id": "4oF9BuRScgvA"
      }
    },
    {
      "cell_type": "code",
      "source": [
        "arr2"
      ],
      "metadata": {
        "colab": {
          "base_uri": "https://localhost:8080/"
        },
        "id": "igkFAKh80naR",
        "outputId": "c48b4333-23ba-494e-e773-94394e6279b8"
      },
      "execution_count": null,
      "outputs": [
        {
          "output_type": "execute_result",
          "data": {
            "text/plain": [
              "array([[ 1.,  2.,  3.,  4.],\n",
              "       [ 3., -6., -6.,  6.],\n",
              "       [ 5.,  6.,  7.,  8.]])"
            ]
          },
          "metadata": {},
          "execution_count": 28
        }
      ]
    },
    {
      "cell_type": "code",
      "source": [
        "arr2a = arr2[1, 1:3].copy()\n",
        "arr2a[:] = -8\n",
        "arr2a\n"
      ],
      "metadata": {
        "colab": {
          "base_uri": "https://localhost:8080/"
        },
        "id": "WCTYRbOzcZaw",
        "outputId": "e757ab9c-4ec6-4cd0-b5ed-8f5377bb1261"
      },
      "execution_count": null,
      "outputs": [
        {
          "output_type": "execute_result",
          "data": {
            "text/plain": [
              "array([-8., -8.])"
            ]
          },
          "metadata": {},
          "execution_count": 32
        }
      ]
    },
    {
      "cell_type": "code",
      "source": [
        "arr2"
      ],
      "metadata": {
        "colab": {
          "base_uri": "https://localhost:8080/"
        },
        "id": "W-UTu88u2EGK",
        "outputId": "57ce7fe7-8e2b-49c8-ebd0-92f770c73f8a"
      },
      "execution_count": null,
      "outputs": [
        {
          "output_type": "execute_result",
          "data": {
            "text/plain": [
              "array([[ 1.,  2.,  3.,  4.],\n",
              "       [ 3., -6., -6.,  6.],\n",
              "       [ 5.,  6.,  7.,  8.]])"
            ]
          },
          "metadata": {},
          "execution_count": 30
        }
      ]
    },
    {
      "cell_type": "code",
      "source": [],
      "metadata": {
        "id": "AzkRCK5R2EDe"
      },
      "execution_count": null,
      "outputs": []
    },
    {
      "cell_type": "code",
      "source": [],
      "metadata": {
        "id": "We4k_KCd2D1q"
      },
      "execution_count": null,
      "outputs": []
    },
    {
      "cell_type": "code",
      "source": [
        "# Copy portion of arr2 to arr2b\n",
        "arr2b = arr2[:2, :2].copy()\n",
        "arr2b[:1, :1] = 101  # 101 will not reflect in arr2\n",
        "arr2"
      ],
      "metadata": {
        "colab": {
          "base_uri": "https://localhost:8080/"
        },
        "id": "cr8BptNacjO5",
        "outputId": "520a3bdb-d1cb-47aa-ec0e-05392d549075"
      },
      "execution_count": null,
      "outputs": [
        {
          "output_type": "execute_result",
          "data": {
            "text/plain": [
              "array([[100.,   2.,   3.,   4.],\n",
              "       [  3.,  -1.,  -1.,   6.],\n",
              "       [  5.,   6.,   7.,   8.]])"
            ]
          },
          "metadata": {},
          "execution_count": 55
        }
      ]
    },
    {
      "cell_type": "markdown",
      "source": [
        "## **1.6 Reformar y aplanar matrices multidimensionales**"
      ],
      "metadata": {
        "id": "Kt2NxhM3co-J"
      }
    },
    {
      "cell_type": "markdown",
      "source": [
        "`Reshape` es cambiar la disposición de los elementos para que la forma de la matriz cambie mientras se mantiene el mismo número de dimensiones. Sin embargo, `flatting` convertirá una matriz multidimensional en una matriz 1d plana. Y no cualquier otra forma. Primero, remodelemos la matriz arr2 de 3×4 a 4×3."
      ],
      "metadata": {
        "id": "gbKn4h_xcuIi"
      }
    },
    {
      "cell_type": "code",
      "source": [
        "arr2.shape"
      ],
      "metadata": {
        "colab": {
          "base_uri": "https://localhost:8080/"
        },
        "id": "3TZr2wdh2mBD",
        "outputId": "ea533b24-61e7-4f33-a233-1b3cb1b465f7"
      },
      "execution_count": null,
      "outputs": [
        {
          "output_type": "execute_result",
          "data": {
            "text/plain": [
              "(3, 4)"
            ]
          },
          "metadata": {},
          "execution_count": 33
        }
      ]
    },
    {
      "cell_type": "code",
      "source": [
        "arr2.reshape(6, 2)"
      ],
      "metadata": {
        "colab": {
          "base_uri": "https://localhost:8080/"
        },
        "id": "Ws1m4mwPcrs_",
        "outputId": "269a664d-9df2-449e-b2fe-6f0471791cc6"
      },
      "execution_count": null,
      "outputs": [
        {
          "output_type": "execute_result",
          "data": {
            "text/plain": [
              "array([[ 1.,  2.],\n",
              "       [ 3.,  4.],\n",
              "       [ 3., -6.],\n",
              "       [-6.,  6.],\n",
              "       [ 5.,  6.],\n",
              "       [ 7.,  8.]])"
            ]
          },
          "metadata": {},
          "execution_count": 34
        }
      ]
    },
    {
      "cell_type": "markdown",
      "source": [
        "Hay 2 formas populares de implementar el aplanamiento. Eso es usando el método flatten() y el otro usando el método ravel(). La diferencia entre ravel y flatten es que la nueva matriz creada con ravel es en realidad una referencia a la matriz principal. Por lo tanto, cualquier cambio en la nueva matriz también afectará a la matriz. Pero es eficiente en memoria ya que no crea una copia."
      ],
      "metadata": {
        "id": "upXGsN_cc4y4"
      }
    },
    {
      "cell_type": "code",
      "source": [
        "arr2"
      ],
      "metadata": {
        "colab": {
          "base_uri": "https://localhost:8080/"
        },
        "id": "J6AnOoZFdLbP",
        "outputId": "6e4e6c57-19f3-4b9d-ceea-e519818ac0c4"
      },
      "execution_count": null,
      "outputs": [
        {
          "output_type": "execute_result",
          "data": {
            "text/plain": [
              "array([[ 1.,  2.,  3.,  4.],\n",
              "       [ 3., -6., -6.,  6.],\n",
              "       [ 5.,  6.,  7.,  8.]])"
            ]
          },
          "metadata": {},
          "execution_count": 35
        }
      ]
    },
    {
      "cell_type": "code",
      "source": [
        "arr2.flatten()"
      ],
      "metadata": {
        "colab": {
          "base_uri": "https://localhost:8080/"
        },
        "id": "As5rIKoUc7yn",
        "outputId": "72316457-5933-46d1-cf35-487f67bb03e1"
      },
      "execution_count": null,
      "outputs": [
        {
          "output_type": "execute_result",
          "data": {
            "text/plain": [
              "array([ 1.,  2.,  3.,  4.,  3., -6., -6.,  6.,  5.,  6.,  7.,  8.])"
            ]
          },
          "metadata": {},
          "execution_count": 36
        }
      ]
    },
    {
      "cell_type": "code",
      "source": [
        "arr2"
      ],
      "metadata": {
        "colab": {
          "base_uri": "https://localhost:8080/"
        },
        "id": "llfbMRhj3C3k",
        "outputId": "6116fb7f-34a3-48d3-cf25-d55d2f3c19f3"
      },
      "execution_count": null,
      "outputs": [
        {
          "output_type": "execute_result",
          "data": {
            "text/plain": [
              "array([[ 1.,  2.,  3.,  4.],\n",
              "       [ 3., -6., -6.,  6.],\n",
              "       [ 5.,  6.,  7.,  8.]])"
            ]
          },
          "metadata": {},
          "execution_count": 37
        }
      ]
    },
    {
      "cell_type": "code",
      "source": [
        "# Changing the flattened array does not change parent\n",
        "b1 = arr2.flatten()  \n",
        "b1[0] = 100  # changing b1 does not affect arr2\n",
        "arr2"
      ],
      "metadata": {
        "colab": {
          "base_uri": "https://localhost:8080/"
        },
        "id": "s302sebOc_04",
        "outputId": "d896f821-434b-4ffb-bf0f-bdc5201f6bb3"
      },
      "execution_count": null,
      "outputs": [
        {
          "output_type": "execute_result",
          "data": {
            "text/plain": [
              "array([[ 1.,  2.,  3.,  4.],\n",
              "       [ 3., -6., -6.,  6.],\n",
              "       [ 5.,  6.,  7.,  8.]])"
            ]
          },
          "metadata": {},
          "execution_count": 38
        }
      ]
    },
    {
      "cell_type": "code",
      "source": [
        "# Changing the raveled array changes the parent also.\n",
        "b2 = arr2.ravel()  \n",
        "b2[0] = 101  # changing b2 changes arr2 also\n",
        "arr2"
      ],
      "metadata": {
        "colab": {
          "base_uri": "https://localhost:8080/"
        },
        "id": "O9XbyxYkdHfN",
        "outputId": "14078310-4150-4bb9-c19f-a6c98415230a"
      },
      "execution_count": null,
      "outputs": [
        {
          "output_type": "execute_result",
          "data": {
            "text/plain": [
              "array([[101.,   2.,   3.,   4.],\n",
              "       [  3.,  -6.,  -6.,   6.],\n",
              "       [  5.,   6.,   7.,   8.]])"
            ]
          },
          "metadata": {},
          "execution_count": 39
        }
      ]
    },
    {
      "cell_type": "markdown",
      "source": [
        "## **1.7 crear secuencias, repeticiones y números aleatorios usando numpy**"
      ],
      "metadata": {
        "id": "VYJBwvPCc7ai"
      }
    },
    {
      "cell_type": "code",
      "source": [
        "# Lower limit is 0 be default\n",
        "print(np.arange(5))  \n",
        "\n",
        "# 0 to 9\n",
        "print(np.arange(0, 10))  \n",
        "\n",
        "# 0 to 9 with step of 2\n",
        "print(np.arange(0, 10, 2))  \n",
        "\n",
        "# 10 to 1, decreasing order\n",
        "print(np.arange(10, 0, -1))"
      ],
      "metadata": {
        "colab": {
          "base_uri": "https://localhost:8080/"
        },
        "id": "Frppo2ZRdSq_",
        "outputId": "17c015b5-cdfc-4280-8198-9eaa5b3f39f3"
      },
      "execution_count": null,
      "outputs": [
        {
          "output_type": "stream",
          "name": "stdout",
          "text": [
            "[0 1 2 3 4]\n",
            "[0 1 2 3 4 5 6 7 8 9]\n",
            "[0 2 4 6 8]\n",
            "[10  9  8  7  6  5  4  3  2  1]\n"
          ]
        }
      ]
    },
    {
      "cell_type": "code",
      "source": [
        "#imprima numeros del 5 al 25, de tres en tres\n",
        "print(np.arange(5, 26, 3))"
      ],
      "metadata": {
        "colab": {
          "base_uri": "https://localhost:8080/"
        },
        "id": "JQo-ii6J5Qk-",
        "outputId": "9cb3b63b-cd9f-4430-f6ad-14712c780639"
      },
      "execution_count": null,
      "outputs": [
        {
          "output_type": "stream",
          "name": "stdout",
          "text": [
            "[ 5  8 11 14 17 20 23]\n"
          ]
        }
      ]
    },
    {
      "cell_type": "code",
      "source": [
        "print(np.arange(0, 101, 10))"
      ],
      "metadata": {
        "colab": {
          "base_uri": "https://localhost:8080/"
        },
        "id": "FdGQayKw5iPh",
        "outputId": "539bfb75-8e7c-43f8-d6ed-3bc0b164f594"
      },
      "execution_count": null,
      "outputs": [
        {
          "output_type": "stream",
          "name": "stdout",
          "text": [
            "[  0  10  20  30  40  50  60  70  80  90 100]\n"
          ]
        }
      ]
    },
    {
      "cell_type": "markdown",
      "source": [
        "Puede establecer las posiciones inicial y final utilizando np.arange. Pero si está enfocado en la cantidad de elementos en la matriz, tendrá que calcular manualmente el valor de paso apropiado. Digamos que desea crear una matriz de exactamente 10 números entre 1 y 50. ¿Puede calcular cuál sería el valor del paso? Bueno, voy a usar `np.linspace` en su lugar."
      ],
      "metadata": {
        "id": "St7BuQjJdasY"
      }
    },
    {
      "cell_type": "code",
      "source": [
        "np.linspace(0, 101, 10)"
      ],
      "metadata": {
        "colab": {
          "base_uri": "https://localhost:8080/"
        },
        "id": "ihWbhkNkdXqY",
        "outputId": "1320f4ba-4951-4f7f-8457-1b33ac77b6be"
      },
      "execution_count": null,
      "outputs": [
        {
          "output_type": "execute_result",
          "data": {
            "text/plain": [
              "array([  0.        ,  11.22222222,  22.44444444,  33.66666667,\n",
              "        44.88888889,  56.11111111,  67.33333333,  78.55555556,\n",
              "        89.77777778, 101.        ])"
            ]
          },
          "metadata": {},
          "execution_count": 45
        }
      ]
    },
    {
      "cell_type": "code",
      "source": [
        "np.linspace(0,10,5)"
      ],
      "metadata": {
        "colab": {
          "base_uri": "https://localhost:8080/"
        },
        "id": "pEOZMvkhltAc",
        "outputId": "fe128bd0-6301-476f-b31f-b688073603a5"
      },
      "execution_count": 4,
      "outputs": [
        {
          "output_type": "execute_result",
          "data": {
            "text/plain": [
              "array([ 0. ,  2.5,  5. ,  7.5, 10. ])"
            ]
          },
          "metadata": {},
          "execution_count": 4
        }
      ]
    },
    {
      "cell_type": "code",
      "source": [
        "print(np.linspace(1, 100, 10))\n",
        "print(np.arange(1, 100, 10))"
      ],
      "metadata": {
        "colab": {
          "base_uri": "https://localhost:8080/"
        },
        "id": "Cp6ZWxH9389q",
        "outputId": "a15451ec-0dd1-4ebf-d582-e05c02d5371e"
      },
      "execution_count": null,
      "outputs": [
        {
          "output_type": "stream",
          "name": "stdout",
          "text": [
            "[  1.  12.  23.  34.  45.  56.  67.  78.  89. 100.]\n",
            "[ 1 11 21 31 41 51 61 71 81 91]\n"
          ]
        }
      ]
    },
    {
      "cell_type": "markdown",
      "source": [
        "Tenga en cuenta que, dado que forcé explícitamente que el dtype fuera int, los números no están espaciados por igual debido al redondeo. Similar a np.linspace, también existe np.logspace que se eleva en una escala logarítmica. En np.logspace, el valor de inicio dado es en realidad base^start y termina en base^stop, con un valor predeterminado de 10."
      ],
      "metadata": {
        "id": "IkC8y_A8dj5y"
      }
    },
    {
      "cell_type": "code",
      "source": [
        "# Limit the number of digits after the decimal to 2\n",
        "np.set_printoptions(precision=2)  \n",
        "\n",
        "# Start at 10^1 and end at 10^50\n",
        "np.logspace(start=1, stop=50, num=10, base=10) "
      ],
      "metadata": {
        "colab": {
          "base_uri": "https://localhost:8080/"
        },
        "id": "KdZJwjWydrbY",
        "outputId": "19fe128d-f14f-4999-85d7-7a4a51ae37dd"
      },
      "execution_count": null,
      "outputs": [
        {
          "output_type": "execute_result",
          "data": {
            "text/plain": [
              "array([1.00e+01, 2.78e+06, 7.74e+11, 2.15e+17, 5.99e+22, 1.67e+28,\n",
              "       4.64e+33, 1.29e+39, 3.59e+44, 1.00e+50])"
            ]
          },
          "metadata": {},
          "execution_count": 63
        }
      ]
    },
    {
      "cell_type": "code",
      "source": [
        "np.zeros((2,2))\n",
        "np.ones((20,20))"
      ],
      "metadata": {
        "id": "yoS_HAWUdjc0"
      },
      "execution_count": null,
      "outputs": []
    },
    {
      "cell_type": "code",
      "source": [
        "np.zeros((2,2,2)).ndim"
      ],
      "metadata": {
        "colab": {
          "base_uri": "https://localhost:8080/"
        },
        "id": "VS6EyHxNmNU8",
        "outputId": "c021202f-8a7a-4113-c18b-cdade69ecc51"
      },
      "execution_count": 7,
      "outputs": [
        {
          "output_type": "execute_result",
          "data": {
            "text/plain": [
              "3"
            ]
          },
          "metadata": {},
          "execution_count": 7
        }
      ]
    },
    {
      "cell_type": "code",
      "source": [
        "# 30 x 45  rellena de solo del número 5\n",
        "np.zeros([30, 45])+5"
      ],
      "metadata": {
        "colab": {
          "base_uri": "https://localhost:8080/"
        },
        "id": "xMERnMIq5W6L",
        "outputId": "9905acf8-2d43-4483-e7a6-b1be14589bac"
      },
      "execution_count": null,
      "outputs": [
        {
          "output_type": "execute_result",
          "data": {
            "text/plain": [
              "array([[5., 5., 5., ..., 5., 5., 5.],\n",
              "       [5., 5., 5., ..., 5., 5., 5.],\n",
              "       [5., 5., 5., ..., 5., 5., 5.],\n",
              "       ...,\n",
              "       [5., 5., 5., ..., 5., 5., 5.],\n",
              "       [5., 5., 5., ..., 5., 5., 5.],\n",
              "       [5., 5., 5., ..., 5., 5., 5.]])"
            ]
          },
          "metadata": {},
          "execution_count": 83
        }
      ]
    },
    {
      "cell_type": "code",
      "source": [
        "a = [1,2,3] "
      ],
      "metadata": {
        "id": "DRqU651adxH_"
      },
      "execution_count": null,
      "outputs": []
    },
    {
      "cell_type": "code",
      "source": [
        "# Repeat whole of 'a' two times\n",
        "print('Tile:   ', np.tile(a, 2))"
      ],
      "metadata": {
        "colab": {
          "base_uri": "https://localhost:8080/"
        },
        "id": "zBQAS6jxdy33",
        "outputId": "05152673-ce82-4d23-cf92-e26d6ad123e2"
      },
      "execution_count": null,
      "outputs": [
        {
          "output_type": "stream",
          "name": "stdout",
          "text": [
            "Tile:    [1 2 3 1 2 3]\n"
          ]
        }
      ]
    },
    {
      "cell_type": "code",
      "source": [
        "# Repeat each element of 'a' two times\n",
        "print('Repeat: ', np.repeat(a, 2))"
      ],
      "metadata": {
        "colab": {
          "base_uri": "https://localhost:8080/"
        },
        "id": "vscmbHTgd2VQ",
        "outputId": "f419f937-cf57-47a1-e2a4-adfc4afd2e47"
      },
      "execution_count": null,
      "outputs": [
        {
          "output_type": "stream",
          "name": "stdout",
          "text": [
            "Repeat:  [1 1 2 2 3 3]\n"
          ]
        }
      ]
    },
    {
      "cell_type": "code",
      "source": [
        "#   [1 1 1 2 2 2 3 3 3 1 1 1 2 2 2 3 3 3]\n",
        "x = np.repeat(a, 3)\n",
        "x = np.tile(x, 2)\n"
      ],
      "metadata": {
        "id": "83-RoKH-_COp"
      },
      "execution_count": null,
      "outputs": []
    },
    {
      "cell_type": "code",
      "source": [
        "#   [1 1 2 2 3 3 1 1 2 2 3 3]\n",
        "a = np.tile(a, 2)\n",
        "a = np.repeat(a, 2)\n",
        "print(a)"
      ],
      "metadata": {
        "colab": {
          "base_uri": "https://localhost:8080/"
        },
        "id": "7NLbhOzp6gsm",
        "outputId": "33937daa-13e0-4788-d40f-602730257021"
      },
      "execution_count": null,
      "outputs": [
        {
          "output_type": "stream",
          "name": "stdout",
          "text": [
            "[1 1 2 2 3 3 1 1 2 2 3 3]\n"
          ]
        }
      ]
    },
    {
      "cell_type": "code",
      "source": [
        "# Random numbers between [0,1) of shape\n",
        "print(np.random.rand(4,3))"
      ],
      "metadata": {
        "colab": {
          "base_uri": "https://localhost:8080/"
        },
        "id": "2wVzzn1_7Y92",
        "outputId": "9b3ccab5-551e-4817-f7bf-daa727ae1b80"
      },
      "execution_count": null,
      "outputs": [
        {
          "output_type": "stream",
          "name": "stdout",
          "text": [
            "[[0.91783972 0.35527977 0.82951405]\n",
            " [0.32405917 0.04350294 0.86492516]\n",
            " [0.69085019 0.17289894 0.34963274]\n",
            " [0.14401961 0.88305807 0.84014249]]\n"
          ]
        }
      ]
    },
    {
      "cell_type": "code",
      "source": [
        "# Normal distribution with mean=0 and variance=1 of shape 2,2\n",
        "print(np.random.randn(2,2))"
      ],
      "metadata": {
        "colab": {
          "base_uri": "https://localhost:8080/"
        },
        "id": "yk2B2MZx7hBE",
        "outputId": "39d2d038-623d-4946-cb4a-0f0864d19c27"
      },
      "execution_count": null,
      "outputs": [
        {
          "output_type": "stream",
          "name": "stdout",
          "text": [
            "[[-0.55617603  1.08808275]\n",
            " [ 0.91671906 -1.0328337 ]]\n"
          ]
        }
      ]
    },
    {
      "cell_type": "code",
      "source": [
        "# Random integers between [0, 10) of shape 2,2\n",
        "print(np.random.randint(0, 100, size=[2, 2]))"
      ],
      "metadata": {
        "colab": {
          "base_uri": "https://localhost:8080/"
        },
        "id": "vIqZsosi7vfl",
        "outputId": "59f11e2e-440a-403e-eecd-0175ca9962e4"
      },
      "execution_count": null,
      "outputs": [
        {
          "output_type": "stream",
          "name": "stdout",
          "text": [
            "[[ 4 91]\n",
            " [59 45]]\n"
          ]
        }
      ]
    },
    {
      "cell_type": "code",
      "source": [
        "# Pick 10 items from a given list, with equal probability\n",
        "print(np.random.choice(['a', 'e', 'i', 'o', 'u'], size=30)) "
      ],
      "metadata": {
        "colab": {
          "base_uri": "https://localhost:8080/"
        },
        "id": "9zMubVrT8DIX",
        "outputId": "568aa81f-cc11-48fc-c0c3-a102d131a549"
      },
      "execution_count": null,
      "outputs": [
        {
          "output_type": "stream",
          "name": "stdout",
          "text": [
            "['u' 'o' 'a' 'i' 'e' 'u' 'i' 'e' 'i' 'a' 'e' 'e' 'e' 'u' 'e' 'a' 'a' 'u'\n",
            " 'a' 'a' 'a' 'u' 'i' 'u' 'u' 'o' 'a' 'e' 'o' 'e']\n"
          ]
        }
      ]
    },
    {
      "cell_type": "code",
      "source": [
        "print(np.random.choice(['a', 'e', 'i', 'o', 'u'], size=30, p=[0.1, 0.4, 0.1, 0.3, 0.1]))  # picks more o's"
      ],
      "metadata": {
        "colab": {
          "base_uri": "https://localhost:8080/"
        },
        "id": "jWhDw7hu8YAk",
        "outputId": "9b14f7cb-910d-4d6b-acde-18c00617de48"
      },
      "execution_count": null,
      "outputs": [
        {
          "output_type": "stream",
          "name": "stdout",
          "text": [
            "['e' 'e' 'e' 'e' 'o' 'i' 'o' 'a' 'a' 'e' 'e' 'o' 'o' 'o' 'a' 'i' 'e' 'o'\n",
            " 'u' 'o' 'u' 'e' 'e' 'e' 'i' 'o' 'o' 'e' 'o' 'o']\n"
          ]
        }
      ]
    },
    {
      "cell_type": "code",
      "source": [
        "1.9# Random numbers between [0,1) of shape 2,2\n",
        "print(np.random.rand(2,2))\n",
        "\n",
        "# Normal distribution with mean=0 and variance=1 of shape 2,2\n",
        "print(np.random.randn(2,2))\n",
        "\n",
        "# Random integers between [0, 10) of shape 2,2\n",
        "print(np.random.randint(0, 10, size=[2,2]))\n",
        "\n",
        "# One random number between [0,1)\n",
        "print(np.random.random())\n",
        "\n",
        "# Random numbers between [0,1) of shape 2,2\n",
        "print(np.random.random(size=[2,2]))\n",
        "\n",
        "# Pick 10 items from a given list, with equal probability\n",
        "print(np.random.choice(['a', 'e', 'i', 'o', 'u'], size=10))  \n",
        "\n",
        "# Pick 10 items from a given list with a predefined probability 'p'\n",
        "print(np.random.choice(['a', 'e', 'i', 'o', 'u'], size=10, p=[0.3, .1, 0.1, 0.4, 0.1]))  # picks more o's"
      ],
      "metadata": {
        "colab": {
          "base_uri": "https://localhost:8080/"
        },
        "id": "knwZ0Le5d2OX",
        "outputId": "c7b6b774-c73b-447a-dbc5-638e5f2a7e01"
      },
      "execution_count": null,
      "outputs": [
        {
          "output_type": "stream",
          "name": "stdout",
          "text": [
            "[[0.5514095  0.97549314]\n",
            " [0.32201031 0.29582125]]\n",
            "[[ 0.31803184 -0.69849783]\n",
            " [-1.06943074 -0.2313376 ]]\n",
            "[[5 8]\n",
            " [5 9]]\n",
            "0.8365638182259448\n",
            "[[0.38441306 0.19517273]\n",
            " [0.91983117 0.58715891]]\n",
            "['u' 'i' 'i' 'a' 'a' 'a' 'o' 'i' 'i' 'e']\n",
            "['i' 'a' 'i' 'u' 'i' 'o' 'o' 'a' 'i' 'o']\n"
          ]
        }
      ]
    },
    {
      "cell_type": "code",
      "source": [
        "np.random.choice(['a', 'e', 'i', 'o', 'u'], p=[0.3, .1, 0.1, 0.4, 0.1])"
      ],
      "metadata": {
        "colab": {
          "base_uri": "https://localhost:8080/",
          "height": 35
        },
        "id": "ZTa-TytuoszA",
        "outputId": "39ab46c2-3342-41f2-c56d-e011622fd544"
      },
      "execution_count": 14,
      "outputs": [
        {
          "output_type": "execute_result",
          "data": {
            "text/plain": [
              "'o'"
            ],
            "application/vnd.google.colaboratory.intrinsic+json": {
              "type": "string"
            }
          },
          "metadata": {},
          "execution_count": 14
        }
      ]
    },
    {
      "cell_type": "markdown",
      "source": [
        "Ahora, cada vez que ejecuta cualquiera de las funciones anteriores, obtiene un conjunto diferente de números aleatorios. Si desea repetir el mismo conjunto de números aleatorios cada vez, debe establecer la semilla o el estado aleatorio. El ver puede ser cualquier valor. El único requisito es que debe establecer la semilla en el mismo valor cada vez que desee generar el mismo conjunto de números aleatorios. Una vez que se crea np.random.RandomState, todas las funciones del módulo np.random quedan disponibles para el objeto randomstate creado."
      ],
      "metadata": {
        "id": "rS5l3LsEeNTp"
      }
    },
    {
      "cell_type": "code",
      "source": [
        "# Create the random state\n",
        "rn = np.random.RandomState(100)\n",
        "\n",
        "# Create random numbers between [0,1) of shape 2,2\n",
        "print(rn.rand(2,2))"
      ],
      "metadata": {
        "id": "AreRJ2aHeN6o",
        "outputId": "716adda6-5ec0-450e-bd30-a10a55424b8e",
        "colab": {
          "base_uri": "https://localhost:8080/"
        }
      },
      "execution_count": null,
      "outputs": [
        {
          "output_type": "stream",
          "name": "stdout",
          "text": [
            "[[0.54340494 0.27836939]\n",
            " [0.42451759 0.84477613]]\n"
          ]
        }
      ]
    },
    {
      "cell_type": "code",
      "source": [
        "# Set the random seed\n",
        "np.random.seed(100)\n",
        "# Create random numbers between [0,1) of shape 2,2\n",
        "print(np.random.rand(2,2))"
      ],
      "metadata": {
        "id": "1dOmhImteQM_",
        "outputId": "d66c856a-a3d7-44c0-8ba3-c555674e32ea",
        "colab": {
          "base_uri": "https://localhost:8080/"
        }
      },
      "execution_count": null,
      "outputs": [
        {
          "output_type": "stream",
          "name": "stdout",
          "text": [
            "[[0.54340494 0.27836939]\n",
            " [0.42451759 0.84477613]]\n"
          ]
        }
      ]
    },
    {
      "cell_type": "code",
      "source": [
        "print(np.random.rand(2,2))"
      ],
      "metadata": {
        "colab": {
          "base_uri": "https://localhost:8080/"
        },
        "id": "U1tEjkS99MO6",
        "outputId": "862df2be-250d-45bb-e8ce-b2f9a04a616a"
      },
      "execution_count": null,
      "outputs": [
        {
          "output_type": "stream",
          "name": "stdout",
          "text": [
            "[[0.18532822 0.10837689]\n",
            " [0.21969749 0.97862378]]\n"
          ]
        }
      ]
    },
    {
      "cell_type": "markdown",
      "source": [
        "## **1.8 Obtener los artículos únicos y los recuentos**\n",
        "\n",
        "El método `np.unique` se puede utilizar para obtener elementos únicos. Si desea los recuentos de repeticiones de cada elemento, establezca el parámetro return_counts en True."
      ],
      "metadata": {
        "id": "k61EcPsje2Wh"
      }
    },
    {
      "cell_type": "code",
      "source": [
        "# Create random integers of size 10 between [0,10)\n",
        "np.random.seed(100)\n",
        "arr_rand = np.random.randint(0, 10, size=20)\n",
        "print(arr_rand)"
      ],
      "metadata": {
        "colab": {
          "base_uri": "https://localhost:8080/"
        },
        "id": "ViJPX_E3fTxp",
        "outputId": "58312571-7504-4ef3-e326-3c15228247b8"
      },
      "execution_count": null,
      "outputs": [
        {
          "output_type": "stream",
          "name": "stdout",
          "text": [
            "[8 8 3 7 7 0 4 2 5 2 2 2 1 0 8 4 0 9 6 2]\n"
          ]
        }
      ]
    },
    {
      "cell_type": "code",
      "source": [
        "# Get the unique items and their counts\n",
        "uniqs, counts = np.unique(arr_rand, return_counts=True)\n",
        "print(\"Unique items : \", uniqs)\n",
        "print(\"Counts       : \", counts)"
      ],
      "metadata": {
        "colab": {
          "base_uri": "https://localhost:8080/"
        },
        "id": "2v2IGp3GfdNN",
        "outputId": "cb733284-c3fb-4371-e663-61298fb615b5"
      },
      "execution_count": null,
      "outputs": [
        {
          "output_type": "stream",
          "name": "stdout",
          "text": [
            "Unique items :  [0 1 2 3 4 5 6 7 8 9]\n",
            "Counts       :  [3 1 5 1 2 1 1 2 3 1]\n"
          ]
        }
      ]
    },
    {
      "cell_type": "markdown",
      "source": [
        "## 1.9 **obtenga ubicaciones de índice que satisfagan una condición dada usando np.where**"
      ],
      "metadata": {
        "id": "sWG9hj7DfkHG"
      }
    },
    {
      "cell_type": "code",
      "source": [
        "# Create an array\n",
        "import numpy as np\n",
        "arr_rand = np.array([8, 8, 3, 7, 7, 0, 4, 2, 5, 2])\n",
        "print(\"Array: \", arr_rand)\n",
        "\n",
        "# Positions where value > 5\n",
        "index_gt5 = np.where(arr_rand > 5)\n",
        "print(\"Positions where value > 5: \", index_gt5)"
      ],
      "metadata": {
        "colab": {
          "base_uri": "https://localhost:8080/"
        },
        "id": "bDWjBxdGfdGJ",
        "outputId": "a8d424c8-412d-4273-fb69-111bfdc07727"
      },
      "execution_count": null,
      "outputs": [
        {
          "output_type": "stream",
          "name": "stdout",
          "text": [
            "Array:  [8 8 3 7 7 0 4 2 5 2]\n",
            "Positions where value > 5:  (array([0, 1, 3, 4]),)\n"
          ]
        }
      ]
    },
    {
      "cell_type": "code",
      "source": [
        "# Take items at given index\n",
        "arr_rand.take(index_gt5)"
      ],
      "metadata": {
        "colab": {
          "base_uri": "https://localhost:8080/"
        },
        "id": "HF0E92oBf7ep",
        "outputId": "7d3203c5-2167-471b-ae07-9b15e000788d"
      },
      "execution_count": null,
      "outputs": [
        {
          "output_type": "execute_result",
          "data": {
            "text/plain": [
              "array([[8, 8, 7, 7]])"
            ]
          },
          "metadata": {},
          "execution_count": 60
        }
      ]
    },
    {
      "cell_type": "code",
      "source": [
        "help(print)"
      ],
      "metadata": {
        "colab": {
          "base_uri": "https://localhost:8080/"
        },
        "id": "t5BIP0cMnI1l",
        "outputId": "af4e15ca-3d4b-477d-c0a3-e6cd694c7c23"
      },
      "execution_count": 10,
      "outputs": [
        {
          "output_type": "stream",
          "name": "stdout",
          "text": [
            "Help on built-in function print in module builtins:\n",
            "\n",
            "print(...)\n",
            "    print(value, ..., sep=' ', end='\\n', file=sys.stdout, flush=False)\n",
            "    \n",
            "    Prints the values to a stream, or to sys.stdout by default.\n",
            "    Optional keyword arguments:\n",
            "    file:  a file-like object (stream); defaults to the current sys.stdout.\n",
            "    sep:   string inserted between values, default a space.\n",
            "    end:   string appended after the last value, default a newline.\n",
            "    flush: whether to forcibly flush the stream.\n",
            "\n"
          ]
        }
      ]
    },
    {
      "cell_type": "code",
      "source": [
        "arr_2d = np.array([[8, 8, 3, 7, 7], [0, 4, 2, 5, 2]])\n",
        "print(arr_2d)\n",
        "f, c=np.where(arr_2d > 5)\n",
        "print(f, c, sep='\\n')"
      ],
      "metadata": {
        "colab": {
          "base_uri": "https://localhost:8080/"
        },
        "id": "-y8Z2aEsAzYg",
        "outputId": "43d0a845-7e1f-4b17-9383-154df9b93237"
      },
      "execution_count": 12,
      "outputs": [
        {
          "output_type": "stream",
          "name": "stdout",
          "text": [
            "[[8 8 3 7 7]\n",
            " [0 4 2 5 2]]\n",
            "[0 0 0 0]\n",
            "[0 1 3 4]\n"
          ]
        }
      ]
    },
    {
      "cell_type": "markdown",
      "source": [
        "Una vez que tenga las posiciones, puede extraerlas utilizando el método de `take` de la matriz."
      ],
      "metadata": {
        "id": "oFR_6D-Zf-M-"
      }
    },
    {
      "cell_type": "markdown",
      "source": [
        "Afortunadamente, `np.where` también acepta 2 argumentos opcionales más, x e y. Siempre que la condición es verdadera, se obtiene 'x' si no es 'y'. A continuación, trato de crear una matriz que tendrá la cadena 'gt5' siempre que la condición sea verdadera, de lo contrario, tendrá 'lt5'."
      ],
      "metadata": {
        "id": "tbA8zjFFgm6B"
      }
    },
    {
      "cell_type": "code",
      "source": [
        "# If value > 5, then yield 'gt5' else 'le5'\n",
        "np.where(arr_rand > 5, 'gt5', 'le5')"
      ],
      "metadata": {
        "colab": {
          "base_uri": "https://localhost:8080/"
        },
        "id": "nAVWy98TgqB3",
        "outputId": "3622fb50-72d0-44b7-a0fb-890c99d5a8c1"
      },
      "execution_count": null,
      "outputs": [
        {
          "output_type": "execute_result",
          "data": {
            "text/plain": [
              "array(['gt5', 'gt5', 'le5', 'gt5', 'gt5', 'le5', 'le5', 'le5', 'le5',\n",
              "       'le5'], dtype='<U3')"
            ]
          },
          "metadata": {},
          "execution_count": 134
        }
      ]
    },
    {
      "cell_type": "code",
      "source": [
        "m = np.array([4, 5,5, 6, 6, 6, 6, 6, 6, 6])\n",
        "values, cant = np.unique(m, return_counts=  True)\n",
        "values, cant"
      ],
      "metadata": {
        "colab": {
          "base_uri": "https://localhost:8080/"
        },
        "id": "i0eQ6Lul-YoY",
        "outputId": "938afeb2-8e94-4a28-f61d-ae8d1f65d045"
      },
      "execution_count": null,
      "outputs": [
        {
          "output_type": "execute_result",
          "data": {
            "text/plain": [
              "(array([4, 5, 6]), array([1, 2, 7]))"
            ]
          },
          "metadata": {},
          "execution_count": 143
        }
      ]
    },
    {
      "cell_type": "markdown",
      "source": [
        "Busquemos también la ubicación de los valores máximo y mínimo."
      ],
      "metadata": {
        "id": "2umQeQNIg7kW"
      }
    },
    {
      "cell_type": "code",
      "source": [
        "arr_rand"
      ],
      "metadata": {
        "colab": {
          "base_uri": "https://localhost:8080/"
        },
        "id": "xZMRbt5a_p-P",
        "outputId": "f3bbef95-9871-43a8-b126-0201c662125a"
      },
      "execution_count": null,
      "outputs": [
        {
          "output_type": "execute_result",
          "data": {
            "text/plain": [
              "array([8, 8, 3, 7, 7, 0, 4, 2, 5, 2])"
            ]
          },
          "metadata": {},
          "execution_count": 145
        }
      ]
    },
    {
      "cell_type": "code",
      "source": [
        "# Location of the max\n",
        "print('Position of max value: ', np.argmax(arr_rand))  \n",
        "\n",
        "# Location of the min\n",
        "print('Position of min value: ', np.argmin(arr_rand))  "
      ],
      "metadata": {
        "colab": {
          "base_uri": "https://localhost:8080/"
        },
        "id": "M2lDd7gHg395",
        "outputId": "01256668-5178-4226-914d-e52d3cae70f1"
      },
      "execution_count": null,
      "outputs": [
        {
          "output_type": "stream",
          "name": "stdout",
          "text": [
            "Position of max value:  0\n",
            "Position of min value:  5\n"
          ]
        }
      ]
    },
    {
      "cell_type": "code",
      "source": [
        "np.argmax([0.2, 0.4, 0.3, 0.1])"
      ],
      "metadata": {
        "colab": {
          "base_uri": "https://localhost:8080/"
        },
        "id": "Yv_FFmzH_2Bq",
        "outputId": "50d40575-ef67-4ad7-d729-ce8b06d27fdd"
      },
      "execution_count": null,
      "outputs": [
        {
          "output_type": "execute_result",
          "data": {
            "text/plain": [
              "1"
            ]
          },
          "metadata": {},
          "execution_count": 149
        }
      ]
    },
    {
      "cell_type": "markdown",
      "source": [
        "## **1.10 importar y exportar datos como un archivo csv**"
      ],
      "metadata": {
        "id": "v2975IE1hBrG"
      }
    },
    {
      "cell_type": "markdown",
      "source": [
        "Una forma estándar de importar conjuntos de datos es usar la función `np.genfromtxt`. Puede importar conjuntos de datos desde URL web, manejar valores faltantes, delimitadores múltiples, manejar un número irregular de columnas, etc. Una versión menos versátil es `np.loadtxt`, que asume que el conjunto de datos no tiene valores faltantes. Como ejemplo, intentemos leer un archivo .csv de la siguiente URL. Dado que todos los elementos en una matriz numpy deben tener el mismo tipo de datos, la última columna, que es un texto, se importará como 'nan' de manera predeterminada. Al establecer el argumento de `FILLING_VALUES`, puede reemplazar los valores que faltan con otra cosa."
      ],
      "metadata": {
        "id": "xP-cfMIghO_W"
      }
    },
    {
      "cell_type": "code",
      "source": [
        "# Turn off scientific notation\n",
        "np.set_printoptions(suppress=True)  \n",
        "\n",
        "# Import data from csv file url\n",
        "path = 'https://raw.githubusercontent.com/selva86/datasets/master/Auto.csv'\n",
        "data = np.genfromtxt(path, delimiter=',', skip_header=1, filling_values=-999, dtype='float')\n",
        "data[:3]  # see first 3 rows"
      ],
      "metadata": {
        "colab": {
          "base_uri": "https://localhost:8080/"
        },
        "id": "Oe2BwUk7hJYH",
        "outputId": "eedd28e7-b4c0-475f-f006-14a5cf38adbf"
      },
      "execution_count": null,
      "outputs": [
        {
          "output_type": "execute_result",
          "data": {
            "text/plain": [
              "array([[  18. ,    8. ,  307. ,  130. , 3504. ,   12. ,   70. ,    1. ,\n",
              "        -999. ],\n",
              "       [  15. ,    8. ,  350. ,  165. , 3693. ,   11.5,   70. ,    1. ,\n",
              "        -999. ],\n",
              "       [  18. ,    8. ,  318. ,  150. , 3436. ,   11. ,   70. ,    1. ,\n",
              "        -999. ]])"
            ]
          },
          "metadata": {},
          "execution_count": 61
        }
      ]
    },
    {
      "cell_type": "code",
      "source": [
        "# data2 = np.genfromtxt(path, delimiter=',', skip_header=1, dtype='object')\n",
        "data2 = np.genfromtxt(path, delimiter=',', skip_header=1, dtype=None)\n",
        "data2[:3]  # see first 3 rows"
      ],
      "metadata": {
        "colab": {
          "base_uri": "https://localhost:8080/"
        },
        "id": "qFCAm8eThig8",
        "outputId": "4d3c76c5-07e4-4e96-9391-0f0f74e24a9f"
      },
      "execution_count": null,
      "outputs": [
        {
          "output_type": "stream",
          "name": "stderr",
          "text": [
            "/usr/local/lib/python3.7/dist-packages/ipykernel_launcher.py:2: VisibleDeprecationWarning: Reading unicode strings without specifying the encoding argument is deprecated. Set the encoding, use None for the system default.\n",
            "  \n"
          ]
        },
        {
          "output_type": "execute_result",
          "data": {
            "text/plain": [
              "array([(18., 8, 307., 130, 3504, 12. , 70, 1, b'\"chevrolet chevelle malibu\"'),\n",
              "       (15., 8, 350., 165, 3693, 11.5, 70, 1, b'\"buick skylark 320\"'),\n",
              "       (18., 8, 318., 150, 3436, 11. , 70, 1, b'\"plymouth satellite\"')],\n",
              "      dtype=[('f0', '<f8'), ('f1', '<i8'), ('f2', '<f8'), ('f3', '<i8'), ('f4', '<i8'), ('f5', '<f8'), ('f6', '<i8'), ('f7', '<i8'), ('f8', 'S38')])"
            ]
          },
          "metadata": {},
          "execution_count": 151
        }
      ]
    },
    {
      "cell_type": "code",
      "source": [
        "np.savetxt(\"out.csv\", data, delimiter=\",\")"
      ],
      "metadata": {
        "id": "zrrJRq6IhlFW"
      },
      "execution_count": null,
      "outputs": []
    },
    {
      "cell_type": "markdown",
      "source": [
        "## **1.11  guardar y cargar objetos numpy**"
      ],
      "metadata": {
        "id": "56LThPXahnAF"
      }
    },
    {
      "cell_type": "markdown",
      "source": [
        "En algún momento, querremos guardar matrices numpy transformadas grandes en el disco y volver a cargarlas en la consola directamente sin tener que volver a ejecutar el código de transformación de datos. Numpy proporciona los tipos de archivo `.npy` y `.npz `para este propósito. Si desea almacenar un solo objeto `ndarray`, guárdelo como un archivo `.npy` usando `np.save`. Esto se puede volver a cargar usando np.load. Si desea almacenar más de 1 objeto ndarray en un solo archivo, guárdelo como un archivo `.npz` usando `np.savez`"
      ],
      "metadata": {
        "id": "3nK_46CIhyhs"
      }
    },
    {
      "cell_type": "code",
      "source": [
        "lista2 = [[ 0 , 1 , 2 ], [ 3 , 4 , 5 ], [ 6 , 7 , 8 ]] \n",
        "arr2d = np.array(lista2)\n",
        "arr2d_b = arr2+1\n",
        "print(arr2d)\n",
        "print(arr2d_b)"
      ],
      "metadata": {
        "colab": {
          "base_uri": "https://localhost:8080/"
        },
        "id": "-dfx2HS8iWRn",
        "outputId": "c9dec2f2-03fe-4837-fc04-e14994253376"
      },
      "execution_count": null,
      "outputs": [
        {
          "output_type": "stream",
          "name": "stdout",
          "text": [
            "[[0 1 2]\n",
            " [3 4 5]\n",
            " [6 7 8]]\n",
            "[[102.   3.   4.   5.]\n",
            " [  4.  -5.  -5.   7.]\n",
            " [  6.   7.   8.   9.]]\n"
          ]
        }
      ]
    },
    {
      "cell_type": "code",
      "source": [
        "# Save single numpy array object as .npy file\n",
        "np.save('myarray.npy', arr2d)  \n",
        "\n",
        "# Save multile numy arrays as a .npz file\n",
        "np.savez('array.npz', arr2d, arr2d_b)"
      ],
      "metadata": {
        "id": "oH-b5vENhvol"
      },
      "execution_count": null,
      "outputs": []
    },
    {
      "cell_type": "code",
      "source": [
        "# Load a .npy file\n",
        "a = np.load('myarray.npy')\n",
        "print(a)"
      ],
      "metadata": {
        "colab": {
          "base_uri": "https://localhost:8080/"
        },
        "id": "0LVvaXRiisVu",
        "outputId": "cf9cbdb8-cf8b-4692-8623-833efb7b135b"
      },
      "execution_count": null,
      "outputs": [
        {
          "output_type": "stream",
          "name": "stdout",
          "text": [
            "[[0 1 2]\n",
            " [3 4 5]\n",
            " [6 7 8]]\n"
          ]
        }
      ]
    },
    {
      "cell_type": "code",
      "source": [
        "b = np.load('array.npz')\n",
        "print(b.files)\n",
        "b['arr_1']"
      ],
      "metadata": {
        "colab": {
          "base_uri": "https://localhost:8080/"
        },
        "id": "HKSbZVHQi_jA",
        "outputId": "ebb003b8-1589-463c-cc6a-2f01f88a659e"
      },
      "execution_count": null,
      "outputs": [
        {
          "output_type": "stream",
          "name": "stdout",
          "text": [
            "['arr_0', 'arr_1']\n"
          ]
        },
        {
          "output_type": "execute_result",
          "data": {
            "text/plain": [
              "array([[2., 3., 4., 5.],\n",
              "       [4., 5., 6., 7.],\n",
              "       [6., 7., 8., 9.]])"
            ]
          },
          "metadata": {},
          "execution_count": 26
        }
      ]
    },
    {
      "cell_type": "markdown",
      "source": [],
      "metadata": {
        "id": "4g-osvnCnnS4"
      }
    },
    {
      "cell_type": "code",
      "source": [],
      "metadata": {
        "id": "eMcMJdvyn4y-"
      },
      "execution_count": null,
      "outputs": []
    },
    {
      "cell_type": "markdown",
      "source": [
        "## **1.11 Concatenar dos numpy arrays**"
      ],
      "metadata": {
        "id": "vFMMqJv-jGnf"
      }
    },
    {
      "cell_type": "markdown",
      "source": [
        "Hay 3 formas diferentes de concatenar dos o más matrices numpy. \n",
        "\n",
        "* Método 1: `np.concatenate` cambiando el parámetro del eje a 0 y 1 \n",
        "* Método 2: `np.vstack `y `np.hstack` \n",
        "* Método 3: `np.r_` y `np.c_`"
      ],
      "metadata": {
        "id": "nAucKhLYjSWl"
      }
    },
    {
      "cell_type": "markdown",
      "source": [
        "Los tres métodos proporcionan el mismo resultado. Una diferencia clave a tener en cuenta es que, a diferencia de los otros 2 métodos, tanto `np.r_` como `np.c_` usan corchetes para apilar matrices. Pero primero, déjame crear las matrices que se concatenarán."
      ],
      "metadata": {
        "id": "3C_6bj8CjggZ"
      }
    },
    {
      "cell_type": "code",
      "source": [
        "a = np.zeros([4, 4])\n",
        "b = np.ones([4, 4])\n",
        "print(a)\n",
        "print(b)"
      ],
      "metadata": {
        "colab": {
          "base_uri": "https://localhost:8080/"
        },
        "id": "T4v32FYwjM5Z",
        "outputId": "67e59d3d-462e-43de-e099-7f2c12be8288"
      },
      "execution_count": null,
      "outputs": [
        {
          "output_type": "stream",
          "name": "stdout",
          "text": [
            "[[0. 0. 0. 0.]\n",
            " [0. 0. 0. 0.]\n",
            " [0. 0. 0. 0.]\n",
            " [0. 0. 0. 0.]]\n",
            "[[1. 1. 1. 1.]\n",
            " [1. 1. 1. 1.]\n",
            " [1. 1. 1. 1.]\n",
            " [1. 1. 1. 1.]]\n"
          ]
        }
      ]
    },
    {
      "cell_type": "markdown",
      "source": [
        "apilar las matrices verticalmente.\n"
      ],
      "metadata": {
        "id": "Wl0Fd-_Yj2GW"
      }
    },
    {
      "cell_type": "code",
      "source": [
        "# Vertical Stack Equivalents (Row wise)\n",
        "np.concatenate([a, b], axis=0)  \n",
        "np.vstack([a,b]).shape   "
      ],
      "metadata": {
        "colab": {
          "base_uri": "https://localhost:8080/"
        },
        "id": "tEK04caVjrgd",
        "outputId": "107d70a9-5474-4d0a-ed89-6afb1c824794"
      },
      "execution_count": null,
      "outputs": [
        {
          "output_type": "execute_result",
          "data": {
            "text/plain": [
              "(8, 4)"
            ]
          },
          "metadata": {},
          "execution_count": 72
        }
      ]
    },
    {
      "cell_type": "markdown",
      "source": [
        "horizontalmente (en columnas) también."
      ],
      "metadata": {
        "id": "sZnmUoC7jq9K"
      }
    },
    {
      "cell_type": "code",
      "source": [
        "# Horizontal Stack Equivalents (Coliumn wise)\n",
        "np.concatenate([a, b], axis=1) \n",
        "np.hstack([a,b]).shape \n",
        "#np.c_[a,b]"
      ],
      "metadata": {
        "colab": {
          "base_uri": "https://localhost:8080/"
        },
        "id": "lSt3XYo6j7C_",
        "outputId": "f28e8a80-175d-4a50-80b0-a0930619afc7"
      },
      "execution_count": null,
      "outputs": [
        {
          "output_type": "execute_result",
          "data": {
            "text/plain": [
              "(4, 8)"
            ]
          },
          "metadata": {},
          "execution_count": 71
        }
      ]
    },
    {
      "cell_type": "code",
      "source": [
        "np.dstack([a,b]).shape"
      ],
      "metadata": {
        "colab": {
          "base_uri": "https://localhost:8080/"
        },
        "id": "Bs1NfZSnE8vO",
        "outputId": "17d911e6-9f5d-4284-d68b-18800f5d2bc3"
      },
      "execution_count": null,
      "outputs": [
        {
          "output_type": "execute_result",
          "data": {
            "text/plain": [
              "(4, 4, 2)"
            ]
          },
          "metadata": {},
          "execution_count": 70
        }
      ]
    },
    {
      "cell_type": "markdown",
      "source": [
        "Además, puede usar` np.r_` para crear secuencias de números más complejas en matrices 1d."
      ],
      "metadata": {
        "id": "EmIkDMGLkDK1"
      }
    },
    {
      "cell_type": "code",
      "source": [
        "np.r_[[1,2,3], 0, 0, [4,5,6]]"
      ],
      "metadata": {
        "colab": {
          "base_uri": "https://localhost:8080/"
        },
        "id": "jjnarl_6kFnu",
        "outputId": "3d8ece6a-3fdf-49d9-9c3e-d4dedab75f0b"
      },
      "execution_count": null,
      "outputs": [
        {
          "output_type": "execute_result",
          "data": {
            "text/plain": [
              "array([1, 2, 3, 0, 0, 4, 5, 6])"
            ]
          },
          "metadata": {},
          "execution_count": 30
        }
      ]
    },
    {
      "cell_type": "markdown",
      "source": [
        "## **1.12 ordenar una matriz numpy**\n",
        "\n"
      ],
      "metadata": {
        "id": "zouM2ezYkWtO"
      }
    },
    {
      "cell_type": "code",
      "source": [
        "arr = np.random.randint(1,6, size=[8, 4])\n",
        "arr"
      ],
      "metadata": {
        "colab": {
          "base_uri": "https://localhost:8080/"
        },
        "id": "p6XWC6YKkviy",
        "outputId": "661dd9c9-9fcd-4bd0-808a-4aca36a0bb99"
      },
      "execution_count": null,
      "outputs": [
        {
          "output_type": "execute_result",
          "data": {
            "text/plain": [
              "array([[4, 5, 5, 2],\n",
              "       [4, 5, 5, 4],\n",
              "       [4, 4, 2, 2],\n",
              "       [4, 1, 3, 2],\n",
              "       [2, 4, 3, 4],\n",
              "       [1, 2, 1, 5],\n",
              "       [3, 1, 1, 3],\n",
              "       [3, 2, 1, 3]])"
            ]
          },
          "metadata": {},
          "execution_count": 158
        }
      ]
    },
    {
      "cell_type": "markdown",
      "source": [
        "Tenemos una matriz aleatoria de 8 filas y 4 columnas. Si usa la función np.sort con axis=0, todas las columnas se ordenarán en orden ascendente independientemente unas de otras, comprometiendo efectivamente la integridad de los elementos de las filas. En términos simples, los valores de cada fila se corrompen con valores de otras filas."
      ],
      "metadata": {
        "id": "fl2NLF2Ik2Cq"
      }
    },
    {
      "cell_type": "code",
      "source": [
        "np.sort(arr, axis=0)"
      ],
      "metadata": {
        "colab": {
          "base_uri": "https://localhost:8080/"
        },
        "id": "hNnEcprQkZvi",
        "outputId": "e8332c83-4139-4589-b251-50e15db756c8"
      },
      "execution_count": null,
      "outputs": [
        {
          "output_type": "execute_result",
          "data": {
            "text/plain": [
              "array([[1, 1, 1, 1],\n",
              "       [2, 2, 2, 2],\n",
              "       [2, 3, 4, 2],\n",
              "       [2, 4, 4, 3],\n",
              "       [3, 4, 4, 3],\n",
              "       [3, 4, 4, 5],\n",
              "       [3, 4, 5, 5],\n",
              "       [4, 5, 5, 5]])"
            ]
          },
          "metadata": {},
          "execution_count": 32
        }
      ]
    },
    {
      "cell_type": "markdown",
      "source": [
        "**Como no quiero que se altere el contenido de las filas, recurro a un método indirecto usando np.argsort.**\n",
        "\n",
        "Primero comprendamos qué hace` np.argsort.` np.argsort devuelve las posiciones de índice que ordenarían una matriz 1d dada."
      ],
      "metadata": {
        "id": "TNBLkIRjlIsS"
      }
    },
    {
      "cell_type": "code",
      "source": [
        "x = np.array([1, 10, 5, 2, 8, 9])\n",
        "sort_index = np.argsort(x)\n",
        "print(sort_index)"
      ],
      "metadata": {
        "colab": {
          "base_uri": "https://localhost:8080/"
        },
        "id": "P76tRW-klLV_",
        "outputId": "1aaece07-ca51-40a5-9291-41d16d90deaf"
      },
      "execution_count": null,
      "outputs": [
        {
          "output_type": "stream",
          "name": "stdout",
          "text": [
            "[0 3 2 4 5 1]\n"
          ]
        }
      ]
    },
    {
      "cell_type": "code",
      "source": [
        "x[sort_index]"
      ],
      "metadata": {
        "colab": {
          "base_uri": "https://localhost:8080/"
        },
        "id": "mL8N6KT9lb5C",
        "outputId": "728ac17f-e8b0-44bd-c0d2-d2af5c495778"
      },
      "execution_count": null,
      "outputs": [
        {
          "output_type": "execute_result",
          "data": {
            "text/plain": [
              "array([ 1,  2,  5,  8,  9, 10])"
            ]
          },
          "metadata": {},
          "execution_count": 34
        }
      ]
    },
    {
      "cell_type": "code",
      "source": [
        "arr"
      ],
      "metadata": {
        "colab": {
          "base_uri": "https://localhost:8080/"
        },
        "id": "-EhaqIZjlsSe",
        "outputId": "780af876-b991-4f2f-b0e1-f6d988931ebf"
      },
      "execution_count": null,
      "outputs": [
        {
          "output_type": "execute_result",
          "data": {
            "text/plain": [
              "array([[3, 3, 2, 1],\n",
              "       [1, 5, 4, 5],\n",
              "       [3, 1, 4, 2],\n",
              "       [3, 4, 5, 5],\n",
              "       [2, 4, 5, 5],\n",
              "       [4, 4, 4, 2],\n",
              "       [2, 4, 1, 3],\n",
              "       [2, 2, 4, 3]])"
            ]
          },
          "metadata": {},
          "execution_count": 36
        }
      ]
    },
    {
      "cell_type": "code",
      "source": [
        "# Argsort the first column\n",
        "sorted_index_1stcol = arr[:, 0].argsort()\n",
        "\n",
        "# Sort 'arr' by first column without disturbing the integrity of rows\n",
        "arr[sorted_index_1stcol]"
      ],
      "metadata": {
        "colab": {
          "base_uri": "https://localhost:8080/"
        },
        "id": "friNBM8Elnp8",
        "outputId": "4f2f229e-1171-47f6-cf09-4614c0536aa3"
      },
      "execution_count": null,
      "outputs": [
        {
          "output_type": "execute_result",
          "data": {
            "text/plain": [
              "array([[1, 5, 4, 5],\n",
              "       [2, 4, 5, 5],\n",
              "       [2, 4, 1, 3],\n",
              "       [2, 2, 4, 3],\n",
              "       [3, 3, 2, 1],\n",
              "       [3, 1, 4, 2],\n",
              "       [3, 4, 5, 5],\n",
              "       [4, 4, 4, 2]])"
            ]
          },
          "metadata": {},
          "execution_count": 35
        }
      ]
    },
    {
      "cell_type": "code",
      "source": [
        "# Descending sort\n",
        "arr[sorted_index_1stcol[::-1]]"
      ],
      "metadata": {
        "colab": {
          "base_uri": "https://localhost:8080/"
        },
        "id": "Gax7XNVdl0l_",
        "outputId": "f36a2c70-249f-4bb1-ab5e-aae0513e17cd"
      },
      "execution_count": null,
      "outputs": [
        {
          "output_type": "execute_result",
          "data": {
            "text/plain": [
              "array([[4, 4, 4, 2],\n",
              "       [3, 4, 5, 5],\n",
              "       [3, 1, 4, 2],\n",
              "       [3, 3, 2, 1],\n",
              "       [2, 2, 4, 3],\n",
              "       [2, 4, 1, 3],\n",
              "       [2, 4, 5, 5],\n",
              "       [1, 5, 4, 5]])"
            ]
          },
          "metadata": {},
          "execution_count": 37
        }
      ]
    },
    {
      "cell_type": "markdown",
      "source": [
        "Puede ordenar una matriz numpy basada en 2 o más columnas usando `np.lexsort `pasando una tupla de columnas según las cuales se debe ordenar la matriz. Solo recuerde colocar la columna que se ordenará primero en el lado más a la derecha dentro de la tupla."
      ],
      "metadata": {
        "id": "7G-dFx7ul7SA"
      }
    },
    {
      "cell_type": "code",
      "source": [
        "# Sort by column 0, then by column 1\n",
        "lexsorted_index = np.lexsort((arr[:, 1], arr[:, 0])) \n",
        "arr[lexsorted_index]"
      ],
      "metadata": {
        "colab": {
          "base_uri": "https://localhost:8080/"
        },
        "id": "zycy_xcPmCgF",
        "outputId": "5560f7ba-6380-434e-ddfb-aaf1ebb83455"
      },
      "execution_count": null,
      "outputs": [
        {
          "output_type": "execute_result",
          "data": {
            "text/plain": [
              "array([[1, 5, 4, 5],\n",
              "       [2, 2, 4, 3],\n",
              "       [2, 4, 5, 5],\n",
              "       [2, 4, 1, 3],\n",
              "       [3, 1, 4, 2],\n",
              "       [3, 3, 2, 1],\n",
              "       [3, 4, 5, 5],\n",
              "       [4, 4, 4, 2]])"
            ]
          },
          "metadata": {},
          "execution_count": 38
        }
      ]
    },
    {
      "cell_type": "markdown",
      "source": [
        "# **2. Numpy Avanzado**"
      ],
      "metadata": {
        "id": "u8FYyAOPnj0D"
      }
    },
    {
      "cell_type": "markdown",
      "source": [
        "## **2.1 Vectorize**"
      ],
      "metadata": {
        "id": "zb7M8z7HoJ_X"
      }
    },
    {
      "cell_type": "markdown",
      "source": [
        "Con la ayuda de `vectorize() `puede hacer que una función funcione en números individuales para trabajar en matrices. Veamos un ejemplo simplificado. La función foo (vea el código a continuación) acepta un número y lo eleva al cuadrado si es 'impar'; de lo contrario, lo divide por 2. Cuando aplica esta función en un escalar (números individuales), funciona perfectamente, pero falla cuando se aplica en una matriz . Con vectorize() de numpy, también puede hacer que funcione mágicamente en matrices."
      ],
      "metadata": {
        "id": "pCWyA6z5oJ05"
      }
    },
    {
      "cell_type": "code",
      "source": [
        "# Define a scalar function\n",
        "def foo(x):\n",
        "    if x % 2 == 1:\n",
        "        return x**2\n",
        "    else:\n",
        "        return x/2"
      ],
      "metadata": {
        "id": "ss3EFgCpoTaq"
      },
      "execution_count": null,
      "outputs": []
    },
    {
      "cell_type": "code",
      "source": [
        "# On a scalar\n",
        "print('x = 10 returns ', foo(10))\n",
        "print('x = 11 returns ', foo(11))"
      ],
      "metadata": {
        "colab": {
          "base_uri": "https://localhost:8080/"
        },
        "id": "fD50ZkmmoWUw",
        "outputId": "51a11814-fd50-4abd-8ca0-7d35baf6fac1"
      },
      "execution_count": null,
      "outputs": [
        {
          "output_type": "stream",
          "name": "stdout",
          "text": [
            "x = 10 returns  5.0\n",
            "x = 11 returns  121\n"
          ]
        }
      ]
    },
    {
      "cell_type": "code",
      "source": [
        "print('x = [10, 11, 12] returns ', foo([10, 11, 12]))"
      ],
      "metadata": {
        "id": "9CTtF9jroZYV"
      },
      "execution_count": null,
      "outputs": []
    },
    {
      "cell_type": "code",
      "source": [
        "# Vectorize foo(). Make it work on vectors.\n",
        "foo_v = np.vectorize(foo, otypes=[float])\n",
        "print('x = [10, 11, 12] returns ', foo_v([10, 11, 12]))\n",
        "print('x = [[10, 11, 12], [1, 2, 3]] returns ', foo_v([[10, 11, 12], [1, 2, 3]]))"
      ],
      "metadata": {
        "colab": {
          "base_uri": "https://localhost:8080/"
        },
        "id": "x91mu06Hoive",
        "outputId": "585c97dd-2df0-4ad8-be04-f40eaa65eafb"
      },
      "execution_count": null,
      "outputs": [
        {
          "output_type": "stream",
          "name": "stdout",
          "text": [
            "x = [10, 11, 12] returns  [  5. 121.   6.]\n",
            "x = [[10, 11, 12], [1, 2, 3]] returns  [[  5. 121.   6.]\n",
            " [  1.   1.   9.]]\n"
          ]
        }
      ]
    },
    {
      "cell_type": "markdown",
      "source": [
        "Esto puede ser muy útil siempre que desee hacer que una función escalar funcione en matrices. vectorize también acepta un parámetro otypes opcional en el que proporciona cuál debe ser el tipo de datos de la salida. Hace que la función vectorizada se ejecute más rápido."
      ],
      "metadata": {
        "id": "hHDJPKw2ozjJ"
      }
    },
    {
      "cell_type": "markdown",
      "source": [
        "## **2.2 apply_along_axis: aplica una función en forma de columna o fila**"
      ],
      "metadata": {
        "id": "gt18njl6o3nO"
      }
    },
    {
      "cell_type": "code",
      "source": [
        "# Create a 4x10 random array\n",
        "np.random.seed(100)\n",
        "arr_x = np.random.randint(1,10,size=[4,10])\n",
        "arr_x"
      ],
      "metadata": {
        "colab": {
          "base_uri": "https://localhost:8080/"
        },
        "id": "IylGTy3EpALw",
        "outputId": "59da5bdf-8246-477f-9253-3d91c2c9e072"
      },
      "execution_count": null,
      "outputs": [
        {
          "output_type": "execute_result",
          "data": {
            "text/plain": [
              "array([[9, 9, 4, 8, 8, 1, 5, 3, 6, 3],\n",
              "       [3, 3, 2, 1, 9, 5, 1, 7, 3, 5],\n",
              "       [2, 6, 4, 5, 5, 4, 8, 2, 2, 8],\n",
              "       [8, 1, 3, 4, 3, 6, 9, 2, 1, 8]])"
            ]
          },
          "metadata": {},
          "execution_count": 163
        }
      ]
    },
    {
      "cell_type": "markdown",
      "source": [
        "Entendamos esto resolviendo la siguiente pregunta: ¿Cómo encontrar la diferencia del valor máximo y mínimo en cada fila? Bueno, el enfoque normal sería escribir un ciclo for que itera a lo largo de cada fila y luego calcular el máximo-mínimo en cada iteración. Eso suena bien, pero puede volverse engorroso si desea hacer la misma columna o si desea implementar un cálculo más complejo. Además, puede consumir más pulsaciones de teclas. Puede hacer esto elegantemente usando `numpy.apply_along_axis`. Toma como argumentos:\n",
        "\n",
        "* Function that works on a 1D vector (fund1d)\n",
        "* Axis along which to apply func1d. For a 2D array, 1 is row wise and 0 is column wise.\n",
        "* Array on which func1d should be applied."
      ],
      "metadata": {
        "id": "shTgd0E1pGVy"
      }
    },
    {
      "cell_type": "code",
      "source": [
        "# Define func1d\n",
        "def max_minus_min(x):\n",
        "    return np.max(x) - np.min(x)\n",
        "\n",
        "# Apply along the rows\n",
        "print('Row wise: ', np.apply_along_axis(max_minus_min, 1, arr=arr_x))\n",
        "\n",
        "# Apply along the columns\n",
        "print('Column wise: ', np.apply_along_axis(max_minus_min, 0, arr=arr_x))"
      ],
      "metadata": {
        "colab": {
          "base_uri": "https://localhost:8080/"
        },
        "id": "0lhqU21cpDHv",
        "outputId": "c1c6f5f8-6456-4017-e6af-7313652ba147"
      },
      "execution_count": null,
      "outputs": [
        {
          "output_type": "stream",
          "name": "stdout",
          "text": [
            "Row wise:  [8 8 6 8]\n",
            "Column wise:  [7 8 2 7 6 5 8 5 5 5]\n"
          ]
        }
      ]
    },
    {
      "cell_type": "markdown",
      "source": [
        "## **2.3 searchsorted: encuentre la ubicación para insertar para que la matriz permanezca ordenada**"
      ],
      "metadata": {
        "id": "oTkYqqxxpmQY"
      }
    },
    {
      "cell_type": "markdown",
      "source": [
        "¿Qué hace` numpy.searchsorted`? Proporciona la posición del índice en la que se debe insertar un número para mantener ordenada la matriz."
      ],
      "metadata": {
        "id": "cuUMXisLqMYF"
      }
    },
    {
      "cell_type": "code",
      "source": [
        "x = np.arange(10)\n",
        "x"
      ],
      "metadata": {
        "colab": {
          "base_uri": "https://localhost:8080/"
        },
        "id": "wOOVcu9YqyZn",
        "outputId": "ab6bda92-e12a-4db4-817d-329ff4102241"
      },
      "execution_count": null,
      "outputs": [
        {
          "output_type": "execute_result",
          "data": {
            "text/plain": [
              "array([0, 1, 2, 3, 4, 5, 6, 7, 8, 9])"
            ]
          },
          "metadata": {},
          "execution_count": 47
        }
      ]
    },
    {
      "cell_type": "code",
      "source": [
        "# example of searchsorted\n",
        "x = np.arange(10)\n",
        "print('Where should 5 be inserted?: ', np.searchsorted(x, 5))\n",
        "print('Where should 5 be inserted (right)?: ', np.searchsorted(x, 5, side='right'))"
      ],
      "metadata": {
        "colab": {
          "base_uri": "https://localhost:8080/"
        },
        "id": "vKb5naqyqIVQ",
        "outputId": "0ff21d31-6646-48e4-c7da-84571e3eaa0a"
      },
      "execution_count": null,
      "outputs": [
        {
          "output_type": "stream",
          "name": "stdout",
          "text": [
            "Where should 5 be inserted?:  5\n",
            "Where should 5 be inserted (right)?:  6\n"
          ]
        }
      ]
    },
    {
      "cell_type": "code",
      "source": [
        "# Randomly choose an item from a list based on a predefined probability\n",
        "lst = range(10000)  # the list\n",
        "probs = np.random.random(10000); probs /= probs.sum()  # probabilities\n",
        "\n",
        "%timeit lst[np.searchsorted(probs.cumsum(), np.random.random())]\n",
        "%timeit np.random.choice(lst, p=probs)"
      ],
      "metadata": {
        "colab": {
          "base_uri": "https://localhost:8080/"
        },
        "id": "6B0nMaHrqwyH",
        "outputId": "0cf51ed8-81f3-451e-8190-ddc087939dbc"
      },
      "execution_count": null,
      "outputs": [
        {
          "output_type": "stream",
          "name": "stdout",
          "text": [
            "The slowest run took 5.65 times longer than the fastest. This could mean that an intermediate result is being cached.\n",
            "10000 loops, best of 5: 39.2 µs per loop\n",
            "1000 loops, best of 5: 1.04 ms per loop\n"
          ]
        }
      ]
    },
    {
      "cell_type": "markdown",
      "source": [
        "Dentro de RISK ANALYTICS calificamos el proyecto de los estudiantes mediante su puntaje obtenido luego de realizar su examen::\n",
        "- `>18`  --> A\n",
        "- `>15`  --> B\n",
        "- `>11`  --> C\n",
        "- `<=11`  --> D\n",
        "\n",
        "Utilice `np.searchsorted` para obtener las calificaciones de las siguientes puntuaciones: 20, 11, 15, 16, 14, 17,19,20,20,11,12,18."
      ],
      "metadata": {
        "id": "A_yWHrup18IW"
      }
    },
    {
      "cell_type": "code",
      "source": [
        "rangos = \"DCBA\"\n",
        "limites = [11, 15, 18]\n",
        "notas = [20, 11, 15, 16, 14, 17,19,20,20,11,12,18]\n",
        "\n",
        "[get_cali(nota, limites, rangos) for nota in notas]\n"
      ],
      "metadata": {
        "colab": {
          "base_uri": "https://localhost:8080/"
        },
        "id": "AlKe1YP12oe9",
        "outputId": "c26047cd-516a-4109-d325-fd192d445faa"
      },
      "execution_count": null,
      "outputs": [
        {
          "output_type": "execute_result",
          "data": {
            "text/plain": [
              "['A', 'D', 'C', 'B', 'C', 'B', 'A', 'A', 'A', 'D', 'C', 'B']"
            ]
          },
          "metadata": {},
          "execution_count": 35
        }
      ]
    },
    {
      "cell_type": "code",
      "source": [
        "def get_cali(nota, limites, rangos):\n",
        "    i = np.searchsorted(limites, nota)\n",
        "    return rangos[i]"
      ],
      "metadata": {
        "id": "NPQkP48J2heo"
      },
      "execution_count": null,
      "outputs": []
    },
    {
      "cell_type": "markdown",
      "source": [
        "## **2.4 agregar un nuevo eje a una matriz numpy**"
      ],
      "metadata": {
        "id": "dKklTnPprPrr"
      }
    },
    {
      "cell_type": "code",
      "source": [
        "# Create a 1D array\n",
        "x = np.arange(5)\n",
        "print('Original array: ', x)\n",
        "print(\"x_shape:\", x.shape)\n",
        "# Introduce a new column axis\n",
        "x_col = x[:, np.newaxis]\n",
        "print('x_col shape: ', x_col.shape)\n",
        "print(x_col)\n",
        "\n",
        "# Introduce a new row axis\n",
        "x_row = x[np.newaxis, :]\n",
        "print('x_row shape: ', x_row.shape)\n",
        "print(x_row)"
      ],
      "metadata": {
        "colab": {
          "base_uri": "https://localhost:8080/"
        },
        "id": "tD0u49AurZEA",
        "outputId": "60fb2db8-ea0c-4978-9bb8-85a13c36d753"
      },
      "execution_count": null,
      "outputs": [
        {
          "output_type": "stream",
          "name": "stdout",
          "text": [
            "Original array:  [0 1 2 3 4]\n",
            "x_shape: (5,)\n",
            "x_col shape:  (5, 1)\n",
            "[[0]\n",
            " [1]\n",
            " [2]\n",
            " [3]\n",
            " [4]]\n",
            "x_row shape:  (1, 5)\n",
            "[[0 1 2 3 4]]\n"
          ]
        }
      ]
    },
    {
      "cell_type": "markdown",
      "source": [
        "**Use `np.digitize` para devolver la posición de índice del contenedor al que pertenece cada elemento.**"
      ],
      "metadata": {
        "id": "O4WYRdDNr46J"
      }
    },
    {
      "cell_type": "code",
      "source": [
        "# Create the array and bins\n",
        "x = np.arange(10)\n",
        "bins = np.array([0, 3, 6, 9])\n",
        "\n",
        "# Get bin allotments\n",
        "np.digitize(x, bins)"
      ],
      "metadata": {
        "colab": {
          "base_uri": "https://localhost:8080/"
        },
        "id": "rM9DDUHdr0Bf",
        "outputId": "4554efff-f905-4d9b-d09b-aeea2602f6a7"
      },
      "execution_count": null,
      "outputs": [
        {
          "output_type": "execute_result",
          "data": {
            "text/plain": [
              "array([1, 1, 1, 2, 2, 2, 3, 3, 3, 4])"
            ]
          },
          "metadata": {},
          "execution_count": 53
        }
      ]
    },
    {
      "cell_type": "markdown",
      "source": [
        "**Use `np.clip `para limitar los números dentro de un rango de corte dado. Todo número menor que el límite inferior será reemplazado por el límite inferior. Lo mismo se aplica al límite superior también**"
      ],
      "metadata": {
        "id": "hOy1-BZAsEXd"
      }
    },
    {
      "cell_type": "code",
      "source": [
        "# Cap all elements of x to lie between 3 and 8\n",
        "np.clip(x, 3, 8)"
      ],
      "metadata": {
        "colab": {
          "base_uri": "https://localhost:8080/"
        },
        "id": "Igm2J-SDsNA5",
        "outputId": "d35126cc-b9e8-44a7-9e5e-474563b4087d"
      },
      "execution_count": null,
      "outputs": [
        {
          "output_type": "execute_result",
          "data": {
            "text/plain": [
              "array([3, 3, 3, 3, 4, 5, 6, 7, 8, 8])"
            ]
          },
          "metadata": {},
          "execution_count": 54
        }
      ]
    },
    {
      "cell_type": "markdown",
      "source": [
        "**Histogram and Bincount**\n",
        "Tanto `histogram() `como `bincount()` dan la frecuencia de las ocurrencias. Pero con ciertas diferencias. Mientras que histogram() proporciona el recuento de frecuencias de los contenedores, bincount() proporciona el recuento de frecuencia de todos los elementos en el rango de la matriz entre los valores mínimo y máximo. Incluyendo los valores que no ocurrieron\n"
      ],
      "metadata": {
        "id": "mwtaQAeWsaum"
      }
    },
    {
      "cell_type": "code",
      "source": [
        "# Bincount example\n",
        "x = np.array([1,1,2,2,2,4,4,5,6,6,6]) # doesn't need to be sorted\n",
        "print(np.bincount(x)) # 0 occurs 0 times, 1 occurs 2 times, 2 occurs thrice, 3 occurs 0 times, ...\n",
        "\n",
        "# Histogram example\n",
        "counts, bins = np.histogram(x, [0, 2, 4, 6, 8])\n",
        "print('Counts: ', counts)\n",
        "print('Bins: ', bins) # del 0 al 2 hay dos elementos del 2 al 4 hay 3 elementos"
      ],
      "metadata": {
        "colab": {
          "base_uri": "https://localhost:8080/"
        },
        "id": "dgOHxztisjIv",
        "outputId": "0f14f9bb-0e7a-433b-9d7f-b708effaaaae"
      },
      "execution_count": null,
      "outputs": [
        {
          "output_type": "stream",
          "name": "stdout",
          "text": [
            "[0 2 3 0 2 1 3]\n",
            "Counts:  [2 3 3 3]\n",
            "Bins:  [0 2 4 6 8]\n"
          ]
        }
      ]
    },
    {
      "cell_type": "markdown",
      "source": [
        "## **2.5 MeshGrid**\n",
        "\n",
        "Meshgrid es una función numpy utilizada para crear dos matrices rectangulares 2d (cuadrícula) a partir de dos matrices 1d. Proporciona todas las combinaciones posibles de las matrices 1d. Las dos salidas de cuadrícula rectangular se pueden utilizar como las coordenadas de cuadrícula X e Y de un gráfico."
      ],
      "metadata": {
        "id": "YJTsi8gCyxF1"
      }
    },
    {
      "cell_type": "code",
      "source": [
        "import numpy as np\n",
        "import matplotlib.pyplot as plt\n",
        "%matplotlib inline\n",
        "plt.rcParams[\"figure.figsize\"] = (10,7)"
      ],
      "metadata": {
        "id": "Cl-0tW9uyzgN"
      },
      "execution_count": null,
      "outputs": []
    },
    {
      "cell_type": "code",
      "source": [
        "x = [-3, -2, -1, 0, 1, 2, 3]\n",
        "y = [-5, -4, -3, -2, -1, 0, 1, 2, 3, 4, 5] "
      ],
      "metadata": {
        "id": "XJqPHu59y8Xt"
      },
      "execution_count": null,
      "outputs": []
    },
    {
      "cell_type": "code",
      "source": [
        "xm, ym = np.meshgrid(x, y)\n",
        "print(xm)\n",
        "print(ym)"
      ],
      "metadata": {
        "colab": {
          "base_uri": "https://localhost:8080/"
        },
        "id": "UNt-2Igvy_-f",
        "outputId": "19fd46c9-d1ce-4339-eb4e-eeea9d281caa"
      },
      "execution_count": null,
      "outputs": [
        {
          "output_type": "stream",
          "name": "stdout",
          "text": [
            "[[-3 -2 -1  0  1  2  3]\n",
            " [-3 -2 -1  0  1  2  3]\n",
            " [-3 -2 -1  0  1  2  3]\n",
            " [-3 -2 -1  0  1  2  3]\n",
            " [-3 -2 -1  0  1  2  3]\n",
            " [-3 -2 -1  0  1  2  3]\n",
            " [-3 -2 -1  0  1  2  3]\n",
            " [-3 -2 -1  0  1  2  3]\n",
            " [-3 -2 -1  0  1  2  3]\n",
            " [-3 -2 -1  0  1  2  3]\n",
            " [-3 -2 -1  0  1  2  3]]\n",
            "[[-5 -5 -5 -5 -5 -5 -5]\n",
            " [-4 -4 -4 -4 -4 -4 -4]\n",
            " [-3 -3 -3 -3 -3 -3 -3]\n",
            " [-2 -2 -2 -2 -2 -2 -2]\n",
            " [-1 -1 -1 -1 -1 -1 -1]\n",
            " [ 0  0  0  0  0  0  0]\n",
            " [ 1  1  1  1  1  1  1]\n",
            " [ 2  2  2  2  2  2  2]\n",
            " [ 3  3  3  3  3  3  3]\n",
            " [ 4  4  4  4  4  4  4]\n",
            " [ 5  5  5  5  5  5  5]]\n"
          ]
        }
      ]
    },
    {
      "cell_type": "code",
      "source": [
        "# Scatterplot of the points\n",
        "plt.plot(xm, ym, 'ro');"
      ],
      "metadata": {
        "colab": {
          "base_uri": "https://localhost:8080/",
          "height": 428
        },
        "id": "lEe4MH08zEYb",
        "outputId": "916c8cc7-8942-460a-bb22-92cda221334b"
      },
      "execution_count": null,
      "outputs": [
        {
          "output_type": "display_data",
          "data": {
            "text/plain": [
              "<Figure size 720x504 with 1 Axes>"
            ],
            "image/png": "[encoded data removed]"
          },
          "metadata": {
            "needs_background": "light"
          }
        }
      ]
    },
    {
      "cell_type": "code",
      "source": [
        "plt.plot(xm, ym, 'r-');\n",
        "plt.plot(xm.T, ym.T, 'r-');"
      ],
      "metadata": {
        "colab": {
          "base_uri": "https://localhost:8080/",
          "height": 428
        },
        "id": "WUQPCkTXzGy0",
        "outputId": "d50524b6-4191-4544-876a-335ee57d79c7"
      },
      "execution_count": null,
      "outputs": [
        {
          "output_type": "display_data",
          "data": {
            "text/plain": [
              "<Figure size 720x504 with 1 Axes>"
            ],
            "image/png": "[encoded data removed]"
          },
          "metadata": {
            "needs_background": "light"
          }
        }
      ]
    },
    {
      "cell_type": "markdown",
      "source": [
        "## **2.6 Importando y exportando datos**"
      ],
      "metadata": {
        "id": "4fl4Ly9w0IM_"
      }
    },
    {
      "cell_type": "code",
      "source": [
        "data = np.genfromtxt('data_miss.txt', delimiter=\"\\t\")\n",
        "data"
      ],
      "metadata": {
        "colab": {
          "base_uri": "https://localhost:8080/"
        },
        "id": "S0KX5DfR0Lvu",
        "outputId": "85eed039-e1e0-465c-c4d9-999730526c82"
      },
      "execution_count": null,
      "outputs": [
        {
          "output_type": "execute_result",
          "data": {
            "text/plain": [
              "array([[ 1.     , 87.     , 57.54435],\n",
              "       [ 2.     ,  8.     ,  7.31704],\n",
              "       [ 3.     , 56.     , 56.82095],\n",
              "       [ 4.     , 63.     , 64.15579],\n",
              "       [ 5.     ,  2.     ,  5.74522],\n",
              "       [ 6.     , 45.     , 19.56758],\n",
              "       [ 7.     , 43.     , 39.62271],\n",
              "       [ 8.     , 47.     , 34.95107],\n",
              "       [ 9.     ,  2.     ,      nan],\n",
              "       [10.     , 79.     , 36.41022],\n",
              "       [11.     , 67.     , 49.83894],\n",
              "       [12.     , 24.     ,      inf],\n",
              "       [13.     , 61.     , 72.55357],\n",
              "       [14.     , 85.     , 39.24693],\n",
              "       [15.     , 63.     , 53.6279 ],\n",
              "       [16.     ,  2.     , 16.72441],\n",
              "       [17.     , 29.     ,      nan],\n",
              "       [18.     , 45.     , 18.78498],\n",
              "       [19.     , 33.     , 19.8089 ],\n",
              "       [20.     , 28.     , 46.03384],\n",
              "       [21.     , 21.     , 23.7864 ],\n",
              "       [22.     , 27.     , 44.42627],\n",
              "       [23.     , 65.     , 34.94804],\n",
              "       [24.     , 61.     , 53.49576],\n",
              "       [25.     , 10.     , 25.98564]])"
            ]
          },
          "metadata": {},
          "execution_count": 15
        }
      ]
    },
    {
      "cell_type": "markdown",
      "metadata": {
        "id": "9wvD2abALcka"
      },
      "source": [
        "# **Trabajando con Matrices**\n",
        "\n",
        "Ya sabemos declarar matrices. Exploremos algunas matrices importantes y especiales."
      ]
    },
    {
      "cell_type": "markdown",
      "source": [],
      "metadata": {
        "id": "KziiC8c6ujz9"
      }
    },
    {
      "cell_type": "markdown",
      "metadata": {
        "id": "5kbiBtAK3cQy"
      },
      "source": [
        "# **Beneficios de NumPy**\n",
        "* Veamos ahora dos matrices: una unidimensional y otra bidimensional utilizando NumPy."
      ]
    },
    {
      "cell_type": "code",
      "metadata": {
        "id": "awdS3L8Qgr59",
        "colab": {
          "base_uri": "https://localhost:8080/"
        },
        "outputId": "eb5b8150-7bdd-42dc-da07-3cfcf3b0698b"
      },
      "source": [
        "import numpy as np\n",
        "array_1D = np.array([10,20,5])\n",
        "print(array_1D.shape)\n",
        "print(array_1D)\n",
        "print(type(array_1D))\n"
      ],
      "execution_count": null,
      "outputs": [
        {
          "output_type": "stream",
          "name": "stdout",
          "text": [
            "(3,)\n",
            "[10 20  5]\n",
            "<class 'numpy.ndarray'>\n"
          ]
        }
      ]
    },
    {
      "cell_type": "code",
      "metadata": {
        "id": "0fWWjaWghU1E",
        "colab": {
          "base_uri": "https://localhost:8080/"
        },
        "outputId": "b408ebb5-6ac5-47e3-f43f-4c93980da836"
      },
      "source": [
        "matriz_2D = np.array([[2,4],[6,8], [3,3]])\n",
        "print(matriz_2D.shape)\n",
        "print(matriz_2D)\n",
        "print(type(matriz_2D))"
      ],
      "execution_count": null,
      "outputs": [
        {
          "output_type": "stream",
          "name": "stdout",
          "text": [
            "(3, 2)\n",
            "[[2 4]\n",
            " [6 8]\n",
            " [3 3]]\n",
            "<class 'numpy.ndarray'>\n"
          ]
        }
      ]
    },
    {
      "cell_type": "code",
      "metadata": {
        "colab": {
          "base_uri": "https://localhost:8080/"
        },
        "id": "Hx1-Wt3zxU4n",
        "outputId": "03f34cc5-8987-42e7-f4c9-3b0f4e8da101"
      },
      "source": [
        "print(matriz_2D[1:,0:])"
      ],
      "execution_count": null,
      "outputs": [
        {
          "output_type": "stream",
          "name": "stdout",
          "text": [
            "[[6 8]\n",
            " [3 3]]\n"
          ]
        }
      ]
    },
    {
      "cell_type": "code",
      "metadata": {
        "colab": {
          "base_uri": "https://localhost:8080/"
        },
        "id": "rvhJzaaNyfP1",
        "outputId": "9f4e83c7-c6f6-4446-ee7b-8aaefe312e72"
      },
      "source": [
        "matriz_2D[0,0] = 5\n",
        "print(matriz_2D)"
      ],
      "execution_count": null,
      "outputs": [
        {
          "output_type": "stream",
          "name": "stdout",
          "text": [
            "[[5 4]\n",
            " [6 8]\n",
            " [3 3]]\n"
          ]
        }
      ]
    },
    {
      "cell_type": "markdown",
      "metadata": {
        "id": "T497RoUb3L8X"
      },
      "source": [
        "Existen modos mas eficaciones para crear arrays de 1 dimension."
      ]
    },
    {
      "cell_type": "code",
      "metadata": {
        "id": "KdW9Pi2e3K7b"
      },
      "source": [],
      "execution_count": null,
      "outputs": []
    },
    {
      "cell_type": "code",
      "metadata": {
        "id": "rj3lT7u36YHP"
      },
      "source": [],
      "execution_count": null,
      "outputs": []
    },
    {
      "cell_type": "markdown",
      "metadata": {
        "id": "b_tQ18KI8s4T"
      },
      "source": [
        "* Como podemos observar, Numpy nos ofrece mucha facilidad al momento de crear matrices. Veamos ahora el espacio que ocupan los arrays de numpy"
      ]
    },
    {
      "cell_type": "code",
      "metadata": {
        "id": "d2WN-X__zrG3"
      },
      "source": [],
      "execution_count": null,
      "outputs": []
    },
    {
      "cell_type": "code",
      "metadata": {
        "id": "jYd1gFH6hwQa",
        "colab": {
          "base_uri": "https://localhost:8080/"
        },
        "outputId": "cfc97a45-ca22-471c-f87e-85bc3e2297d5"
      },
      "source": [
        "import sys\n",
        "lista = range(10000)\n",
        "print(sys.getsizeof(1) * len(lista))\n",
        "lista_np = np.arange(10000)\n",
        "print(lista_np.itemsize * lista_np.size)\n"
      ],
      "execution_count": null,
      "outputs": [
        {
          "output_type": "stream",
          "name": "stdout",
          "text": [
            "280000\n",
            "80000\n"
          ]
        }
      ]
    },
    {
      "cell_type": "markdown",
      "metadata": {
        "id": "YNFW34Zd9ve9"
      },
      "source": [
        "* Evaluemos ahora la rapidez."
      ]
    },
    {
      "cell_type": "code",
      "metadata": {
        "id": "9fDl4p72-Kls"
      },
      "source": [
        "import numpy as np\n",
        "\n",
        "SIZE = 2000000\n",
        "# Listas genéricas list()\n",
        "lista1 = range(SIZE)\n",
        "lista2 = range(SIZE)\n",
        "\n",
        "# arrays unidimiensionales de Numpy \n",
        "lista1_np = np.arange(SIZE)\n",
        "lista2_np = np.arange(SIZE)\n",
        " \n"
      ],
      "execution_count": null,
      "outputs": []
    },
    {
      "cell_type": "code",
      "metadata": {
        "id": "-DmpvMnyapzv",
        "colab": {
          "base_uri": "https://localhost:8080/"
        },
        "outputId": "4c6b5a6c-0f6d-4626-933d-702558ff5b32"
      },
      "source": [
        "%%time \n",
        "result=[(x + y) for x, y in zip(lista1, lista2)]"
      ],
      "execution_count": null,
      "outputs": [
        {
          "output_type": "stream",
          "name": "stdout",
          "text": [
            "CPU times: user 246 ms, sys: 32.7 ms, total: 279 ms\n",
            "Wall time: 282 ms\n"
          ]
        }
      ]
    },
    {
      "cell_type": "code",
      "metadata": {
        "id": "O9tna1Y9axc4",
        "colab": {
          "base_uri": "https://localhost:8080/"
        },
        "outputId": "269b5ca4-6f51-4959-b1be-e1c652ba39ea"
      },
      "source": [
        "%%time \n",
        "result= lista1_np + lista2_np"
      ],
      "execution_count": null,
      "outputs": [
        {
          "output_type": "stream",
          "name": "stdout",
          "text": [
            "CPU times: user 7 ms, sys: 62 µs, total: 7.07 ms\n",
            "Wall time: 8.09 ms\n"
          ]
        }
      ]
    },
    {
      "cell_type": "markdown",
      "metadata": {
        "id": "127mAuHp4fsa"
      },
      "source": [
        "* **Formas de crear valores rápidamente**\n",
        "\n"
      ]
    },
    {
      "cell_type": "markdown",
      "metadata": {
        "id": "Ol5otRdm2TPe"
      },
      "source": [
        "* linspace\n",
        "Crea un array de tamaño n, pero con valores del mismo tamaño dentro de un intervalo"
      ]
    },
    {
      "cell_type": "code",
      "metadata": {
        "id": "bW9Op3sckiCt",
        "colab": {
          "base_uri": "https://localhost:8080/"
        },
        "outputId": "e8a5eec2-069a-430d-aad5-6ad11dc4b330"
      },
      "source": [
        "array = np.linspace(10,20,3)\n",
        "print(array)\n"
      ],
      "execution_count": null,
      "outputs": [
        {
          "output_type": "stream",
          "name": "stdout",
          "text": [
            "[10. 15. 20.]\n"
          ]
        }
      ]
    },
    {
      "cell_type": "code",
      "metadata": {
        "id": "HurLk84S52-D",
        "colab": {
          "base_uri": "https://localhost:8080/"
        },
        "outputId": "cedb8b7c-8404-4c55-ca4c-b7028a94dc7d"
      },
      "source": [
        "array2 = np.arange(10, 20, 3)\n",
        "print(array2)"
      ],
      "execution_count": null,
      "outputs": [
        {
          "output_type": "stream",
          "name": "stdout",
          "text": [
            "[10 13 16 19]\n"
          ]
        }
      ]
    },
    {
      "cell_type": "markdown",
      "metadata": {
        "id": "C6bJANjh54Kl"
      },
      "source": [
        "## CONCATENACION DE MATRICES"
      ]
    },
    {
      "cell_type": "code",
      "metadata": {
        "id": "2JTOz_qxl_lc"
      },
      "source": [
        "mat_1 = np.array([[4,5], [2,9]])\n",
        "mat_2 = np.array([[14,8], [7,3]])\n",
        "#print(mat_1)\n",
        "#print(mat_2)\n",
        "\n",
        "# concat vertical\n",
        "c = np.concatenate((mat_1, mat_2))\n",
        "print(c)\n",
        "\n",
        "# concat horizontal\n",
        "c = np.concatenate((mat_1, mat_2), axis = 1)\n",
        "print(c)\n"
      ],
      "execution_count": null,
      "outputs": []
    },
    {
      "cell_type": "code",
      "metadata": {
        "colab": {
          "base_uri": "https://localhost:8080/"
        },
        "id": "F30hn5EG7vge",
        "outputId": "dcea15df-4ad1-4538-c420-0f26a490a39a"
      },
      "source": [
        "# CONCTENAR DE FORMA VERTICAL\n",
        "C = np.vstack((mat_1, mat_2))\n",
        "print(C)"
      ],
      "execution_count": null,
      "outputs": [
        {
          "output_type": "stream",
          "name": "stdout",
          "text": [
            "[[ 4  5]\n",
            " [ 2  9]\n",
            " [14  8]\n",
            " [ 7  3]]\n"
          ]
        }
      ]
    },
    {
      "cell_type": "code",
      "metadata": {
        "colab": {
          "base_uri": "https://localhost:8080/"
        },
        "id": "OLtLuwuV8HlV",
        "outputId": "bb449898-7095-4852-9389-3b6e5735ffba"
      },
      "source": [
        "# CONCTENAR DE FORMA HORIZONTAL\n",
        "C = np.hstack((mat_1, mat_2))\n",
        "print(C)"
      ],
      "execution_count": null,
      "outputs": [
        {
          "output_type": "stream",
          "name": "stdout",
          "text": [
            "[[ 4  5 14  8]\n",
            " [ 2  9  7  3]]\n"
          ]
        }
      ]
    },
    {
      "cell_type": "code",
      "metadata": {
        "colab": {
          "base_uri": "https://localhost:8080/"
        },
        "id": "w74qvPpX8M3V",
        "outputId": "0ad3d6bb-9e3b-4874-86f1-1f25844ae4e0"
      },
      "source": [
        "# CONCTENAR DE FORMA DIMENSIONAL O EN Z\n",
        "C = np.dstack((mat_1, mat_2))\n",
        "print(C[1,0,1])"
      ],
      "execution_count": null,
      "outputs": [
        {
          "output_type": "stream",
          "name": "stdout",
          "text": [
            "[[[ 4 14]\n",
            "  [ 5  8]]\n",
            "\n",
            " [[ 2  7]\n",
            "  [ 9  3]]]\n"
          ]
        }
      ]
    },
    {
      "cell_type": "code",
      "metadata": {
        "colab": {
          "base_uri": "https://localhost:8080/"
        },
        "id": "i8tHv7zI9hM0",
        "outputId": "4efad6d5-912e-40e8-df17-321f5719427c"
      },
      "source": [
        "print(mat_1)"
      ],
      "execution_count": null,
      "outputs": [
        {
          "output_type": "stream",
          "name": "stdout",
          "text": [
            "[[4 5]\n",
            " [2 9]]\n"
          ]
        }
      ]
    },
    {
      "cell_type": "code",
      "metadata": {
        "colab": {
          "base_uri": "https://localhost:8080/"
        },
        "id": "UkW-9oqw9j_q",
        "outputId": "c2bc93b2-74fc-4ae7-e31e-cfbfb3ea567e"
      },
      "source": [
        "print(mat_2)"
      ],
      "execution_count": null,
      "outputs": [
        {
          "output_type": "stream",
          "name": "stdout",
          "text": [
            "[[14  8]\n",
            " [ 7  3]]\n"
          ]
        }
      ]
    },
    {
      "cell_type": "code",
      "metadata": {
        "id": "b9xk-vri9Rk3",
        "colab": {
          "base_uri": "https://localhost:8080/"
        },
        "outputId": "40550de0-20e3-4942-e12f-26d36cd46163"
      },
      "source": [
        "vector1 = np.array([10,30,43,11])\n",
        "vector2 = np.array([34,21,12,32])\n",
        "\n",
        "#las siguientes operaciones se hacen elemento a elemento\n",
        "print(vector1 + vector2)\n",
        "print(vector1 - vector2)\n",
        "print(vector1 * vector2)\n",
        "#multiplicando por un escalar (numero)\n",
        "vector1=vector1*2\n",
        "print(vector1)\n",
        "\n",
        "#producto matricial\n",
        "mat_1 = np.array([[4,5], [2,9]])\n",
        "mat_2 = np.array([[14,8], [7,3]])\n",
        "print(mat_1 @ mat_2)"
      ],
      "execution_count": null,
      "outputs": [
        {
          "output_type": "stream",
          "name": "stdout",
          "text": [
            "[44 51 55 43]\n",
            "[-24   9  31 -21]\n",
            "[340 630 516 352]\n",
            "[20 60 86 22]\n",
            "[[91 47]\n",
            " [91 43]]\n"
          ]
        }
      ]
    },
    {
      "cell_type": "markdown",
      "metadata": {
        "id": "4CtnXA8OBgri"
      },
      "source": [
        "Numpy ya tiene incorporada una variedad enorme de funciones matemáticas, estas pueden aplicarse directamente a los arrays. Revise: https://numpy.org/doc/stable/reference/routines.math.html"
      ]
    },
    {
      "cell_type": "code",
      "metadata": {
        "id": "ldIAE32yBwT0"
      },
      "source": [
        "print(np.sin(vector1)) #funcion seno\n",
        "print(np.sum(vector2)) #suma de los elementos\n",
        "print(np.cumsum(vector1)) #suma acumulada\n",
        "print(np.log2(vector2)) #logaritmo en base 2\n",
        "print(np.sqrt(vector1)) #raiz cuadrada\n",
        "print(np.mean(vector2)) #promedio"
      ],
      "execution_count": null,
      "outputs": []
    },
    {
      "cell_type": "code",
      "source": [],
      "metadata": {
        "id": "0HlwzVkptz_3"
      },
      "execution_count": null,
      "outputs": []
    },
    {
      "cell_type": "code",
      "metadata": {
        "id": "pLAifokzt0NP"
      },
      "source": [
        "%%time \n",
        "mat_ini = np.empty((5, 5))\n",
        "print(mat_ini)"
      ],
      "execution_count": null,
      "outputs": []
    },
    {
      "cell_type": "code",
      "metadata": {
        "colab": {
          "base_uri": "https://localhost:8080/"
        },
        "outputId": "728bde64-c25f-4da2-8fbb-2a83b384b77a",
        "id": "qoG9amy7t0NQ"
      },
      "source": [
        "%%time\n",
        "np.zeros((5))"
      ],
      "execution_count": null,
      "outputs": [
        {
          "output_type": "stream",
          "name": "stdout",
          "text": [
            "CPU times: user 17 µs, sys: 0 ns, total: 17 µs\n",
            "Wall time: 21.7 µs\n"
          ]
        },
        {
          "output_type": "execute_result",
          "data": {
            "text/plain": [
              "array([0., 0., 0., 0., 0.])"
            ]
          },
          "metadata": {},
          "execution_count": 73
        }
      ]
    },
    {
      "cell_type": "code",
      "metadata": {
        "id": "qwq1zEY-t0NT"
      },
      "source": [
        "%%time\n",
        "np.ones((5, 5, 5))"
      ],
      "execution_count": null,
      "outputs": []
    },
    {
      "cell_type": "markdown",
      "metadata": {
        "id": "aZ6PBEeZt0NT"
      },
      "source": [
        "np.empty crea elementos con valores muy cercanos a cero, mientras que np.zeros todos los valores son ceros. En términos generales, las operaciones con np.empty son más rápidas. Un comentario sobre este aspecto se encuentra en https://numpy.org/doc/stable/reference/generated/numpy.empty.html "
      ]
    },
    {
      "cell_type": "code",
      "metadata": {
        "colab": {
          "base_uri": "https://localhost:8080/"
        },
        "outputId": "5041f87f-f249-43ea-ca6b-650ecfd4b71a",
        "id": "M-zgntCCt0NU"
      },
      "source": [
        "#podemos crear matrices llenas de unos\n",
        "unos = np.ones((2,3))\n",
        "print(unos)"
      ],
      "execution_count": null,
      "outputs": [
        {
          "output_type": "stream",
          "name": "stdout",
          "text": [
            "[[1. 1. 1.]\n",
            " [1. 1. 1.]]\n"
          ]
        }
      ]
    },
    {
      "cell_type": "markdown",
      "metadata": {
        "id": "KPxtahCdt0NU"
      },
      "source": [
        "* Y si lo que queremos es crear una matriz con todos los valores iguales?"
      ]
    },
    {
      "cell_type": "code",
      "metadata": {
        "colab": {
          "base_uri": "https://localhost:8080/"
        },
        "outputId": "04df1009-df4d-409a-d7da-e46f3fb1710f",
        "id": "2JzVTT5qt0NU"
      },
      "source": [
        "full = np.ones((2,2))*8\n",
        "print(full)"
      ],
      "execution_count": null,
      "outputs": [
        {
          "output_type": "stream",
          "name": "stdout",
          "text": [
            "[[8. 8.]\n",
            " [8. 8.]]\n"
          ]
        }
      ]
    },
    {
      "cell_type": "markdown",
      "metadata": {
        "id": "iZVxmxiCt0NV"
      },
      "source": [
        "* Para crear una matriz identidad usamos **np.eye()** y **np.identity()**."
      ]
    },
    {
      "cell_type": "code",
      "metadata": {
        "colab": {
          "base_uri": "https://localhost:8080/"
        },
        "outputId": "810be0a5-a6af-4608-8264-05632fa6bc16",
        "id": "H0zQvlJtt0NV"
      },
      "source": [
        "identidad1 = np.eye(4,6)\n",
        "print(identidad1)\n",
        "identidad2 = np.identity(4)\n",
        "print(identidad2)"
      ],
      "execution_count": null,
      "outputs": [
        {
          "output_type": "stream",
          "name": "stdout",
          "text": [
            "[[1. 0. 0. 0. 0. 0.]\n",
            " [0. 1. 0. 0. 0. 0.]\n",
            " [0. 0. 1. 0. 0. 0.]\n",
            " [0. 0. 0. 1. 0. 0.]]\n",
            "[[1. 0. 0. 0.]\n",
            " [0. 1. 0. 0.]\n",
            " [0. 0. 1. 0.]\n",
            " [0. 0. 0. 1.]]\n"
          ]
        }
      ]
    },
    {
      "cell_type": "code",
      "metadata": {
        "colab": {
          "base_uri": "https://localhost:8080/"
        },
        "outputId": "10be2f09-023e-4268-c12a-84741b4d4631",
        "id": "lUthYhVUt0NV"
      },
      "source": [
        "aleatorios = np.random.random((2,2))\n",
        "print(aleatorios)\n"
      ],
      "execution_count": null,
      "outputs": [
        {
          "output_type": "stream",
          "name": "stdout",
          "text": [
            "[[0.88909873 0.89876757]\n",
            " [0.41090547 0.90928749]]\n"
          ]
        }
      ]
    },
    {
      "cell_type": "code",
      "metadata": {
        "colab": {
          "base_uri": "https://localhost:8080/"
        },
        "outputId": "beee61f7-29c9-47db-d2b6-22c4aa3e891e",
        "id": "QJytbmwIt0NW"
      },
      "source": [
        "np.random.seed(100)\n",
        "aleatorios = np.random.random((2,2))\n",
        "aleatorios"
      ],
      "execution_count": null,
      "outputs": [
        {
          "output_type": "execute_result",
          "data": {
            "text/plain": [
              "array([[0.54340494, 0.27836939],\n",
              "       [0.42451759, 0.84477613]])"
            ]
          },
          "metadata": {},
          "execution_count": 91
        }
      ]
    },
    {
      "cell_type": "code",
      "metadata": {
        "colab": {
          "base_uri": "https://localhost:8080/"
        },
        "outputId": "a878e928-c45b-4d7d-afc3-d48c9ef7fa6e",
        "id": "J-FNzhEst0NW"
      },
      "source": [
        "A = np.array([[34,32,5],[4,33,88]])\n",
        "B = np.array([[48,12],[34,56],[45,12]])\n",
        "print(A@B)\n",
        "print(A.dot(B))\n",
        "print(np.matmul(A,B))"
      ],
      "execution_count": null,
      "outputs": [
        {
          "output_type": "stream",
          "name": "stdout",
          "text": [
            "[[2945 2260]\n",
            " [5274 2952]]\n",
            "[[2945 2260]\n",
            " [5274 2952]]\n",
            "[[2945 2260]\n",
            " [5274 2952]]\n"
          ]
        }
      ]
    },
    {
      "cell_type": "code",
      "metadata": {
        "colab": {
          "base_uri": "https://localhost:8080/"
        },
        "outputId": "c2f74793-05ec-406c-b714-c6353c930026",
        "id": "F3r6mAVYt0NW"
      },
      "source": [
        "#transpuesta\n",
        "a = np.array([[3,4,5],[5,6,7]])\n",
        "print(a)\n",
        "a = a.T\n",
        "print(a)"
      ],
      "execution_count": null,
      "outputs": [
        {
          "output_type": "stream",
          "name": "stdout",
          "text": [
            "[[3 4 5]\n",
            " [5 6 7]]\n",
            "[[3 5]\n",
            " [4 6]\n",
            " [5 7]]\n"
          ]
        }
      ]
    },
    {
      "cell_type": "code",
      "metadata": {
        "colab": {
          "base_uri": "https://localhost:8080/"
        },
        "outputId": "977c0cac-79f5-457d-c5ce-c5bd1a0a845d",
        "id": "CSTF64Drt0NX"
      },
      "source": [
        "#inversa de una matriz\n",
        "A = np.array([[4,2],[3,10]])\n",
        "print(A)\n",
        "invA=np.linalg.inv(A)\n",
        "print(invA)\n",
        "#comprobando que el producto es una matriz identidad\n",
        "print(A@invA)"
      ],
      "execution_count": null,
      "outputs": [
        {
          "output_type": "stream",
          "name": "stdout",
          "text": [
            "[[ 4  2]\n",
            " [ 3 10]]\n",
            "[[ 0.29411765 -0.05882353]\n",
            " [-0.08823529  0.11764706]]\n",
            "[[1.00000000e+00 0.00000000e+00]\n",
            " [5.55111512e-17 1.00000000e+00]]\n"
          ]
        }
      ]
    },
    {
      "cell_type": "code",
      "metadata": {
        "colab": {
          "base_uri": "https://localhost:8080/"
        },
        "outputId": "e7a37eb5-a4c9-4f70-e831-2df9c178a514",
        "id": "n_bhTEUMt0NX"
      },
      "source": [
        "#determinante de una matriz\n",
        "B = np.array([[10,4,2],[-21,3,-2],[3,4,-2]])\n",
        "np.linalg.det(B)"
      ],
      "execution_count": null,
      "outputs": [
        {
          "output_type": "execute_result",
          "data": {
            "text/plain": [
              "-358.0"
            ]
          },
          "metadata": {},
          "execution_count": 101
        }
      ]
    },
    {
      "cell_type": "code",
      "metadata": {
        "colab": {
          "base_uri": "https://localhost:8080/"
        },
        "outputId": "12ecad29-3ccf-43fc-f789-93ef92ad47fc",
        "id": "pG2aX33Nt0NX"
      },
      "source": [
        "#autovalores y autovectores \n",
        "C = np.array([[3,2,-1],[2,3,1],[0,0,5]])\n",
        "print(C)\n",
        "np.linalg.eig(C)\n"
      ],
      "execution_count": null,
      "outputs": [
        {
          "output_type": "stream",
          "name": "stdout",
          "text": [
            "[[ 3  2 -1]\n",
            " [ 2  3  1]\n",
            " [ 0  0  5]]\n"
          ]
        },
        {
          "output_type": "execute_result",
          "data": {
            "text/plain": [
              "(array([5., 1., 5.]), array([[ 0.70710678, -0.70710678, -0.10059617],\n",
              "        [ 0.70710678,  0.70710678,  0.36264488],\n",
              "        [ 0.        ,  0.        ,  0.92648211]]))"
            ]
          },
          "metadata": {},
          "execution_count": 102
        }
      ]
    },
    {
      "cell_type": "markdown",
      "metadata": {
        "id": "q-q2dnlMt0NX"
      },
      "source": [
        "Las subrutinas para álgebra lineal se encuentra en: https://numpy.org/doc/stable/reference/routines.linalg.html Es importante aclarar que estas funciones son útiles para realizar tareas en machine learning, computación científica, análisis de datos, etc."
      ]
    },
    {
      "cell_type": "markdown",
      "source": [
        "## **2.5 Matrices superiores a 2D**"
      ],
      "metadata": {
        "id": "ggZIsd91tLG2"
      }
    },
    {
      "cell_type": "markdown",
      "metadata": {
        "id": "pN0RnYQzC2gu"
      },
      "source": [
        "* Podemos crear matrices vacias con np.empty y np.zeros"
      ]
    },
    {
      "cell_type": "code",
      "metadata": {
        "id": "1IBgRIw2afKe"
      },
      "source": [],
      "execution_count": null,
      "outputs": []
    },
    {
      "cell_type": "code",
      "metadata": {
        "id": "Kw10RgjhDzVM"
      },
      "source": [
        "%%time \n",
        "mat_ini = np.empty((5, 5))\n",
        "print(mat_ini)"
      ],
      "execution_count": null,
      "outputs": []
    },
    {
      "cell_type": "code",
      "metadata": {
        "id": "AeOeTdOe4meS",
        "colab": {
          "base_uri": "https://localhost:8080/"
        },
        "outputId": "728bde64-c25f-4da2-8fbb-2a83b384b77a"
      },
      "source": [
        "%%time\n",
        "np.zeros((5))"
      ],
      "execution_count": null,
      "outputs": [
        {
          "output_type": "stream",
          "name": "stdout",
          "text": [
            "CPU times: user 17 µs, sys: 0 ns, total: 17 µs\n",
            "Wall time: 21.7 µs\n"
          ]
        },
        {
          "output_type": "execute_result",
          "data": {
            "text/plain": [
              "array([0., 0., 0., 0., 0.])"
            ]
          },
          "metadata": {},
          "execution_count": 73
        }
      ]
    },
    {
      "cell_type": "code",
      "metadata": {
        "id": "_27m8Mt-_83k"
      },
      "source": [
        "%%time\n",
        "np.ones((5, 5, 5))"
      ],
      "execution_count": null,
      "outputs": []
    },
    {
      "cell_type": "markdown",
      "metadata": {
        "id": "wBMmprJFHacb"
      },
      "source": [
        "np.empty crea elementos con valores muy cercanos a cero, mientras que np.zeros todos los valores son ceros. En términos generales, las operaciones con np.empty son más rápidas. Un comentario sobre este aspecto se encuentra en https://numpy.org/doc/stable/reference/generated/numpy.empty.html "
      ]
    },
    {
      "cell_type": "code",
      "metadata": {
        "id": "mgMILO2XG5VZ",
        "colab": {
          "base_uri": "https://localhost:8080/"
        },
        "outputId": "5041f87f-f249-43ea-ca6b-650ecfd4b71a"
      },
      "source": [
        "#podemos crear matrices llenas de unos\n",
        "unos = np.ones((2,3))\n",
        "print(unos)"
      ],
      "execution_count": null,
      "outputs": [
        {
          "output_type": "stream",
          "name": "stdout",
          "text": [
            "[[1. 1. 1.]\n",
            " [1. 1. 1.]]\n"
          ]
        }
      ]
    },
    {
      "cell_type": "markdown",
      "metadata": {
        "id": "wcGp-thsHzYQ"
      },
      "source": [
        "* Y si lo que queremos es crear una matriz con todos los valores iguales?"
      ]
    },
    {
      "cell_type": "code",
      "metadata": {
        "id": "FuVXRmu3IAcF",
        "colab": {
          "base_uri": "https://localhost:8080/"
        },
        "outputId": "04df1009-df4d-409a-d7da-e46f3fb1710f"
      },
      "source": [
        "full = np.ones((2,2))*8\n",
        "print(full)"
      ],
      "execution_count": null,
      "outputs": [
        {
          "output_type": "stream",
          "name": "stdout",
          "text": [
            "[[8. 8.]\n",
            " [8. 8.]]\n"
          ]
        }
      ]
    },
    {
      "cell_type": "markdown",
      "metadata": {
        "id": "XUab5vtWIepl"
      },
      "source": [
        "* Para crear una matriz identidad usamos **np.eye()** y **np.identity()**."
      ]
    },
    {
      "cell_type": "code",
      "metadata": {
        "id": "5DXwnChDMNim",
        "colab": {
          "base_uri": "https://localhost:8080/"
        },
        "outputId": "810be0a5-a6af-4608-8264-05632fa6bc16"
      },
      "source": [
        "identidad1 = np.eye(4,6)\n",
        "print(identidad1)\n",
        "identidad2 = np.identity(4)\n",
        "print(identidad2)"
      ],
      "execution_count": null,
      "outputs": [
        {
          "output_type": "stream",
          "name": "stdout",
          "text": [
            "[[1. 0. 0. 0. 0. 0.]\n",
            " [0. 1. 0. 0. 0. 0.]\n",
            " [0. 0. 1. 0. 0. 0.]\n",
            " [0. 0. 0. 1. 0. 0.]]\n",
            "[[1. 0. 0. 0.]\n",
            " [0. 1. 0. 0.]\n",
            " [0. 0. 1. 0.]\n",
            " [0. 0. 0. 1.]]\n"
          ]
        }
      ]
    },
    {
      "cell_type": "markdown",
      "metadata": {
        "id": "K4a61k4JDLT0"
      },
      "source": [
        "* Si deseamos números aleatorios:"
      ]
    },
    {
      "cell_type": "code",
      "metadata": {
        "id": "US1tg9xnDPRq",
        "colab": {
          "base_uri": "https://localhost:8080/"
        },
        "outputId": "10be2f09-023e-4268-c12a-84741b4d4631"
      },
      "source": [
        "aleatorios = np.random.random((2,2))\n",
        "print(aleatorios)\n"
      ],
      "execution_count": null,
      "outputs": [
        {
          "output_type": "stream",
          "name": "stdout",
          "text": [
            "[[0.88909873 0.89876757]\n",
            " [0.41090547 0.90928749]]\n"
          ]
        }
      ]
    },
    {
      "cell_type": "markdown",
      "metadata": {
        "id": "oIEZ8N-Jn3UO"
      },
      "source": [
        "**Aleatorios: en computacion no existen numeros aleatorios. Solo secuencias de repeticion muy grandes**\n",
        "\n",
        "Si deseamos replicar los valores de una generación de números aleatorios se utiliza una *semilla*\n"
      ]
    },
    {
      "cell_type": "code",
      "metadata": {
        "id": "YHRBUt6vMMeV",
        "colab": {
          "base_uri": "https://localhost:8080/"
        },
        "outputId": "beee61f7-29c9-47db-d2b6-22c4aa3e891e"
      },
      "source": [
        "np.random.seed(100)\n",
        "aleatorios = np.random.random((2,2))\n",
        "aleatorios"
      ],
      "execution_count": null,
      "outputs": [
        {
          "output_type": "execute_result",
          "data": {
            "text/plain": [
              "array([[0.54340494, 0.27836939],\n",
              "       [0.42451759, 0.84477613]])"
            ]
          },
          "metadata": {},
          "execution_count": 91
        }
      ]
    },
    {
      "cell_type": "markdown",
      "metadata": {
        "id": "i7E6mkhLMvyf"
      },
      "source": [
        "* Para encontrar la dimensión de la matriz, utilizamos **ndim**."
      ]
    },
    {
      "cell_type": "code",
      "metadata": {
        "id": "_30ZhAtmM7Tu",
        "colab": {
          "base_uri": "https://localhost:8080/"
        },
        "outputId": "34a3185d-4ae7-45f2-ad8e-b4538f0cf143"
      },
      "source": [
        "a = np.array([(1,2,3),(4,5,6)])\n",
        "print(a.ndim)\n",
        "\n",
        "a = np.array([1,2,3])\n",
        "print(a.ndim)\n",
        "\n",
        "a = np.ones((2,2,3))\n",
        "print(a.ndim)\n",
        "print(a.dtype)\n",
        "print(a.shape)\n",
        "print(a.size)\n",
        "print(a.itemsize) #bytes tamaño de cada elemento"
      ],
      "execution_count": null,
      "outputs": [
        {
          "output_type": "stream",
          "name": "stdout",
          "text": [
            "2\n",
            "1\n",
            "3\n",
            "float64\n",
            "(2, 2, 3)\n",
            "12\n",
            "8\n"
          ]
        }
      ]
    },
    {
      "cell_type": "markdown",
      "metadata": {
        "id": "jeQMkDdAN024"
      },
      "source": [
        "Tambien podemos alterar las dimensiones de las matrices."
      ]
    },
    {
      "cell_type": "code",
      "metadata": {
        "id": "h1_7DK-vN-a2",
        "colab": {
          "base_uri": "https://localhost:8080/"
        },
        "outputId": "61087749-0976-47a0-c2f0-32ffa4d835d4"
      },
      "source": [
        "a = np.array([(8,9,10),(11,12,13)])\n",
        "print(a)\n",
        "a=a.reshape(3,2)\n",
        "print(a)"
      ],
      "execution_count": null,
      "outputs": [
        {
          "output_type": "stream",
          "name": "stdout",
          "text": [
            "[[ 8  9 10]\n",
            " [11 12 13]]\n",
            "[[ 8  9]\n",
            " [10 11]\n",
            " [12 13]]\n"
          ]
        }
      ]
    },
    {
      "cell_type": "markdown",
      "metadata": {
        "id": "DK0JeVzYOCHu"
      },
      "source": [
        "Para extraer valores de una matriz procedemos según lo siguiente:"
      ]
    },
    {
      "cell_type": "code",
      "metadata": {
        "id": "NogncGXkOYd-"
      },
      "source": [
        "a=np.array([(1,2,3,4),(3,4,5,6)])\n",
        "print(a) #a[0][1]\n",
        "print(a[0,2])\n",
        "\n",
        "a=np.array([(1,2,3,4),(3,4,5,6)])\n",
        "print(a)\n",
        "print(a[:,2])"
      ],
      "execution_count": null,
      "outputs": []
    },
    {
      "cell_type": "markdown",
      "metadata": {
        "id": "QyMd5QnG8-4o"
      },
      "source": [
        "# Operaciones con vectores\n",
        "Los vectores se representan mediante arrays de una dimensión. Exploraremos el modo de acceder y operaciones básicas entre estas"
      ]
    },
    {
      "cell_type": "markdown",
      "metadata": {
        "id": "v2bwjZyIFSCL"
      },
      "source": [
        "# Operaciones con matrices\n",
        "\n",
        "Numpy tiene implementado las operaciones mas frecuentes utilizadas en el álgebra lineal."
      ]
    },
    {
      "cell_type": "code",
      "metadata": {
        "id": "h2BBI3PlQLfh",
        "colab": {
          "base_uri": "https://localhost:8080/"
        },
        "outputId": "930b2144-062a-45b0-a634-6d898687900d"
      },
      "source": [
        "x= np.array([(1,2,3),(3,4,5)])\n",
        "y= np.array([(1,2,3),(3,4,5)])\n",
        "#todas las operaciones son elemento a elemento\n",
        "print(x+y)\n",
        "print(x-y)\n",
        "print(x*y)\n",
        "print(x/y)"
      ],
      "execution_count": null,
      "outputs": [
        {
          "output_type": "stream",
          "name": "stdout",
          "text": [
            "[[ 2  4  6]\n",
            " [ 6  8 10]]\n",
            "[[0 0 0]\n",
            " [0 0 0]]\n",
            "[[ 1  4  9]\n",
            " [ 9 16 25]]\n",
            "[[1. 1. 1.]\n",
            " [1. 1. 1.]]\n"
          ]
        }
      ]
    },
    {
      "cell_type": "markdown",
      "metadata": {
        "id": "E1g159Ptwl9m"
      },
      "source": [
        "El producto de matrices es una operación bastante utilizada. Es una operacion no conmutativa. Se requiere que el número de columnas del 1ro sea igual al número de filas del segundo."
      ]
    },
    {
      "cell_type": "code",
      "metadata": {
        "id": "_gSHTLUqQme3",
        "colab": {
          "base_uri": "https://localhost:8080/"
        },
        "outputId": "4de575ec-5a61-4c3e-c4a0-77c3a1fa3741"
      },
      "source": [
        "A = np.array([[34,32,5],[4,33,88]])\n",
        "B = np.array([[48,12],[34,56],[45,12]])\n",
        "print(A@B)\n",
        "print(A.dot(B))\n",
        "print(np.matmul(A,B))"
      ],
      "execution_count": null,
      "outputs": [
        {
          "output_type": "stream",
          "name": "stdout",
          "text": [
            "[[2945 2260]\n",
            " [5274 2952]]\n",
            "[[2945 2260]\n",
            " [5274 2952]]\n",
            "[[2945 2260]\n",
            " [5274 2952]]\n"
          ]
        }
      ]
    },
    {
      "cell_type": "code",
      "metadata": {
        "id": "BK6ju-XYO8t_",
        "colab": {
          "base_uri": "https://localhost:8080/"
        },
        "outputId": "9bb05f38-aa3e-4bf3-9758-307fdcd2146e"
      },
      "source": [
        "#transpuesta\n",
        "a = np.array([[3,4,5],[5,6,7]])\n",
        "print(a)\n",
        "a = a.T\n",
        "print(a)"
      ],
      "execution_count": null,
      "outputs": [
        {
          "output_type": "stream",
          "name": "stdout",
          "text": [
            "[[3 4 5]\n",
            " [5 6 7]]\n",
            "[[3 5]\n",
            " [4 6]\n",
            " [5 7]]\n"
          ]
        }
      ]
    },
    {
      "cell_type": "code",
      "metadata": {
        "id": "8G-jyRKnxFrl",
        "colab": {
          "base_uri": "https://localhost:8080/"
        },
        "outputId": "69ef68c6-374e-4337-f5a5-0226801ede47"
      },
      "source": [
        "#inversa de una matriz\n",
        "A = np.array([[4,2],[3,10]])\n",
        "print(A)\n",
        "invA=np.linalg.inv(A)\n",
        "print(invA)\n",
        "#comprobando que el producto es una matriz identidad\n",
        "print(A@invA)"
      ],
      "execution_count": null,
      "outputs": [
        {
          "output_type": "stream",
          "name": "stdout",
          "text": [
            "[[ 4  2]\n",
            " [ 3 10]]\n",
            "[[ 0.29411765 -0.05882353]\n",
            " [-0.08823529  0.11764706]]\n",
            "[[1. 0.]\n",
            " [0. 1.]]\n"
          ]
        }
      ]
    },
    {
      "cell_type": "code",
      "metadata": {
        "id": "E5pVj3pOzHlN",
        "colab": {
          "base_uri": "https://localhost:8080/"
        },
        "outputId": "b51ee909-9be6-42c0-816a-bb3a118e0ff0"
      },
      "source": [
        "#determinante de una matriz\n",
        "B = np.array([[10,4,2],[-21,3,-2],[3,4,-2]])\n",
        "np.linalg.det(B)"
      ],
      "execution_count": null,
      "outputs": [
        {
          "output_type": "execute_result",
          "data": {
            "text/plain": [
              "-358.0"
            ]
          },
          "metadata": {},
          "execution_count": 85
        }
      ]
    },
    {
      "cell_type": "code",
      "metadata": {
        "id": "o8xOrHr7zfyk",
        "colab": {
          "base_uri": "https://localhost:8080/"
        },
        "outputId": "12ecad29-3ccf-43fc-f789-93ef92ad47fc"
      },
      "source": [
        "#autovalores y autovectores \n",
        "C = np.array([[3,2,-1],[2,3,1],[0,0,5]])\n",
        "print(C)\n",
        "np.linalg.eig(C)\n"
      ],
      "execution_count": null,
      "outputs": [
        {
          "output_type": "stream",
          "name": "stdout",
          "text": [
            "[[ 3  2 -1]\n",
            " [ 2  3  1]\n",
            " [ 0  0  5]]\n"
          ]
        },
        {
          "output_type": "execute_result",
          "data": {
            "text/plain": [
              "(array([5., 1., 5.]), array([[ 0.70710678, -0.70710678, -0.10059617],\n",
              "        [ 0.70710678,  0.70710678,  0.36264488],\n",
              "        [ 0.        ,  0.        ,  0.92648211]]))"
            ]
          },
          "metadata": {},
          "execution_count": 102
        }
      ]
    },
    {
      "cell_type": "markdown",
      "metadata": {
        "id": "UMzgKiAJ3Avw"
      },
      "source": [
        "Las subrutinas para álgebra lineal se encuentra en: https://numpy.org/doc/stable/reference/routines.linalg.html Es importante aclarar que estas funciones son útiles para realizar tareas en machine learning, computación científica, análisis de datos, etc."
      ]
    },
    {
      "cell_type": "markdown",
      "source": [
        "# **3. PRACTICA**"
      ],
      "metadata": {
        "id": "e3Lfmr_vvOSG"
      }
    },
    {
      "cell_type": "markdown",
      "source": [
        "## 1. Divida el siguiente conjunto de datos en conjuntos de datos más pequeños que contengan 5 filas cada uno. Guarde cada fila como un archivo .npz en el disco, con un nombre a partir de 1.npz, 2.npz, etc.\n",
        "\n",
        "```python\n",
        "import numpy as np\n",
        "arr = np.genfromtxt(\"Datasets/data.txt\")\n",
        "```"
      ],
      "metadata": {
        "id": "bvVuToEyxS_W"
      }
    },
    {
      "cell_type": "code",
      "source": [
        "import numpy as np\n",
        "arr = np.genfromtxt(\"data.txt\")\n",
        "arr"
      ],
      "metadata": {
        "id": "t7StT9envSFe"
      },
      "execution_count": null,
      "outputs": []
    },
    {
      "cell_type": "code",
      "source": [
        "L = np.vsplit(arr, 5)\n",
        "L"
      ],
      "metadata": {
        "id": "3KojcPMeyLi1"
      },
      "execution_count": null,
      "outputs": []
    },
    {
      "cell_type": "code",
      "source": [
        "for i, arr in enumerate(L):\n",
        "    np.savez(f\"{i}.npz\", arr)"
      ],
      "metadata": {
        "id": "4ZAIrIRiyREs"
      },
      "execution_count": null,
      "outputs": []
    },
    {
      "cell_type": "markdown",
      "source": [
        "## 2. Cree el siguiente patrón utilizando la siguiente entrada, sin codificar (secuencia de escritura a mano). Puede haber múltiples enfoques.\n",
        "__Input__\n",
        "\n",
        "```python\n",
        "a = np.array([1,2,3])\n",
        "```\n",
        "\n",
        "__Output__\n",
        "\n",
        "```python\n",
        "#> array([1, 1, 1, 2, 2, 2, 3, 3, 3, 1, 2, 3, 1, 2, 3, 1, 2, 3])\n",
        "```"
      ],
      "metadata": {
        "id": "ysyTDowJzkyK"
      }
    },
    {
      "cell_type": "code",
      "source": [
        "a = np.array([1,2,3])\n",
        "np.array([np.repeat(a, 3), np.tile(a, 3)]).flatten()"
      ],
      "metadata": {
        "colab": {
          "base_uri": "https://localhost:8080/"
        },
        "id": "TTI4-5Uszjx_",
        "outputId": "8db08efa-3829-4c3a-f2b8-ebb0881c9240"
      },
      "execution_count": null,
      "outputs": [
        {
          "output_type": "execute_result",
          "data": {
            "text/plain": [
              "array([1, 1, 1, 2, 2, 2, 3, 3, 3, 1, 2, 3, 1, 2, 3, 1, 2, 3])"
            ]
          },
          "metadata": {},
          "execution_count": 13
        }
      ]
    },
    {
      "cell_type": "code",
      "source": [],
      "metadata": {
        "id": "EwKBcesF--0h"
      },
      "execution_count": null,
      "outputs": []
    },
    {
      "cell_type": "markdown",
      "source": [
        "2. "
      ],
      "metadata": {
        "id": "alEnDmipybpY"
      }
    }
  ]
}